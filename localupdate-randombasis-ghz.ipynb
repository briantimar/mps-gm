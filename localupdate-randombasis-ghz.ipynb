{
 "cells": [
  {
   "cell_type": "markdown",
   "metadata": {},
   "source": [
    "Try training on GHZ state using data in random bases"
   ]
  },
  {
   "cell_type": "code",
   "execution_count": 1,
   "metadata": {},
   "outputs": [],
   "source": [
    "import numpy as np\n",
    "import torch"
   ]
  },
  {
   "cell_type": "code",
   "execution_count": 2,
   "metadata": {},
   "outputs": [],
   "source": [
    "from models import MPS, ComplexTensor\n",
    "from utils import build_ghz_plus"
   ]
  },
  {
   "cell_type": "markdown",
   "metadata": {},
   "source": [
    "Pick system size, dimensionality of local hilbert space, and initial bond dim"
   ]
  },
  {
   "cell_type": "code",
   "execution_count": 3,
   "metadata": {},
   "outputs": [],
   "source": [
    "L=8\n",
    "local_dim=2\n",
    "bond_dim=2"
   ]
  },
  {
   "cell_type": "code",
   "execution_count": 4,
   "metadata": {},
   "outputs": [],
   "source": [
    "# dev = torch.device(\"cuda:0\") if torch.cuda.is_available() else torch.device(\"cpu\")\n",
    "dev = torch.device(\"cpu\")"
   ]
  },
  {
   "cell_type": "markdown",
   "metadata": {},
   "source": [
    "Initialize the MPS model"
   ]
  },
  {
   "cell_type": "code",
   "execution_count": 5,
   "metadata": {},
   "outputs": [],
   "source": [
    "psi = MPS(L=L, local_dim=local_dim, bond_dim=bond_dim)"
   ]
  },
  {
   "cell_type": "code",
   "execution_count": 6,
   "metadata": {},
   "outputs": [],
   "source": [
    "psi.to(device=dev)"
   ]
  },
  {
   "cell_type": "markdown",
   "metadata": {},
   "source": [
    "The ground truth state (a ghz state with no phase)"
   ]
  },
  {
   "cell_type": "code",
   "execution_count": 7,
   "metadata": {},
   "outputs": [],
   "source": [
    "ghz_plus = build_ghz_plus(L)\n",
    "ghz_plus.to(device=dev)"
   ]
  },
  {
   "cell_type": "markdown",
   "metadata": {},
   "source": [
    "Samples_tr: lists indices of the observed basis states at each measurement. 0 = spin up, 1 = spin down\n",
    "\n",
    "settings: array of corresponding angles"
   ]
  },
  {
   "cell_type": "code",
   "execution_count": 8,
   "metadata": {},
   "outputs": [],
   "source": [
    "# fname_settings = \"test_datasets/settings_ghz_plus_random_basis_L=%d.npy\"%L\n",
    "# fname_samples = \"test_datasets/samples_ghz_plus_random_basis_L=%d.npy\"%L\n",
    "fname_settings = \"datasets/mps_sampled/ghz_plus_L=%d_angles.npy\"%L\n",
    "fname_samples = \"datasets/mps_sampled/ghz_plus_L=%d_outcomes.npy\"%L\n",
    "Nsamp=20000\n",
    "samples = np.load(fname_samples)[:Nsamp]\n",
    "samples_tr = torch.tensor((1-samples)/2).to(dtype=torch.long,device=dev)\n",
    "settings = np.load(fname_settings)[:Nsamp]"
   ]
  },
  {
   "cell_type": "code",
   "execution_count": 9,
   "metadata": {},
   "outputs": [],
   "source": [
    "theta = torch.tensor(settings[...,0],dtype=torch.float32,device=dev)\n",
    "phi = torch.tensor(settings[...,1],dtype=torch.float32,device=dev)"
   ]
  },
  {
   "cell_type": "code",
   "execution_count": 10,
   "metadata": {},
   "outputs": [],
   "source": [
    "from qtools import pauli_exp"
   ]
  },
  {
   "cell_type": "markdown",
   "metadata": {},
   "source": [
    "Holds the unitaries corresponding to each angle"
   ]
  },
  {
   "cell_type": "code",
   "execution_count": 11,
   "metadata": {},
   "outputs": [],
   "source": [
    "U = pauli_exp(theta, phi)\n",
    "rotations_real = U.real\n",
    "rotations_imag = U.imag"
   ]
  },
  {
   "cell_type": "code",
   "execution_count": 12,
   "metadata": {},
   "outputs": [],
   "source": [
    "from torch.utils.data import TensorDataset, DataLoader"
   ]
  },
  {
   "cell_type": "code",
   "execution_count": 13,
   "metadata": {},
   "outputs": [],
   "source": [
    "from utils import MeasurementDataset,do_local_sgd_training"
   ]
  },
  {
   "cell_type": "markdown",
   "metadata": {},
   "source": [
    "A dataset which yields outcomes and corresponding rotations"
   ]
  },
  {
   "cell_type": "code",
   "execution_count": 14,
   "metadata": {},
   "outputs": [],
   "source": [
    "ds = MeasurementDataset(samples=samples_tr,rotations=U)"
   ]
  },
  {
   "cell_type": "markdown",
   "metadata": {},
   "source": [
    "Batch size and learning rate for training:"
   ]
  },
  {
   "cell_type": "code",
   "execution_count": 15,
   "metadata": {},
   "outputs": [],
   "source": [
    "batch_size = 1028\n",
    "lr = 1e-2"
   ]
  },
  {
   "cell_type": "code",
   "execution_count": 16,
   "metadata": {},
   "outputs": [],
   "source": [
    "dl = DataLoader(ds, batch_size=batch_size, shuffle=True)"
   ]
  },
  {
   "cell_type": "markdown",
   "metadata": {},
   "source": [
    "Number of epochs of training"
   ]
  },
  {
   "cell_type": "code",
   "execution_count": 17,
   "metadata": {},
   "outputs": [],
   "source": [
    "epochs = 10"
   ]
  },
  {
   "cell_type": "markdown",
   "metadata": {},
   "source": [
    "How many grad-descent steps to perform at each bond"
   ]
  },
  {
   "cell_type": "code",
   "execution_count": 18,
   "metadata": {},
   "outputs": [],
   "source": [
    "nstep=1"
   ]
  },
  {
   "cell_type": "markdown",
   "metadata": {},
   "source": [
    "Max number of singular values to keep, and cutoff below which to truncate singular values"
   ]
  },
  {
   "cell_type": "code",
   "execution_count": 19,
   "metadata": {},
   "outputs": [],
   "source": [
    "max_sv = 8\n",
    "cutoff=1e-2"
   ]
  },
  {
   "cell_type": "markdown",
   "metadata": {},
   "source": [
    "Regularization term: penalty for Renyi-2 entropy, here set to zero"
   ]
  },
  {
   "cell_type": "code",
   "execution_count": 20,
   "metadata": {},
   "outputs": [],
   "source": [
    "Nstep = epochs * len(dl)"
   ]
  },
  {
   "cell_type": "code",
   "execution_count": null,
   "metadata": {},
   "outputs": [],
   "source": [
    "# s2_schedule = np.concatenate([np.linspace(5, 0, Nstep//2), np.zeros(Nstep//2)])\n",
    "s2_schedule = np.zeros(Nstep)"
   ]
  },
  {
   "cell_type": "code",
   "execution_count": null,
   "metadata": {},
   "outputs": [
    {
     "name": "stdout",
     "output_type": "stream",
     "text": [
      "Finished epoch 0 in 2.055 sec\n",
      "Model shape:  [(1, 2), (2, 2), (2, 2), (2, 2), (2, 3), (3, 3), (3, 2), (2, 1)]\n",
      "Finished epoch 1 in 1.987 sec\n",
      "Model shape:  [(1, 2), (2, 2), (2, 2), (2, 2), (2, 3), (3, 3), (3, 2), (2, 1)]\n",
      "Finished epoch 2 in 2.006 sec\n",
      "Model shape:  [(1, 2), (2, 2), (2, 2), (2, 2), (2, 3), (3, 3), (3, 2), (2, 1)]\n",
      "Finished epoch 3 in 1.985 sec\n",
      "Model shape:  [(1, 2), (2, 2), (2, 2), (2, 2), (2, 3), (3, 3), (3, 2), (2, 1)]\n",
      "Finished epoch 4 in 2.041 sec\n",
      "Model shape:  [(1, 2), (2, 2), (2, 2), (2, 2), (2, 3), (3, 3), (3, 2), (2, 1)]\n",
      "Finished epoch 5 in 2.016 sec\n",
      "Model shape:  [(1, 2), (2, 2), (2, 2), (2, 2), (2, 3), (3, 3), (3, 2), (2, 1)]\n",
      "Finished epoch 6 in 1.985 sec\n",
      "Model shape:  [(1, 2), (2, 2), (2, 2), (2, 2), (2, 3), (3, 3), (3, 2), (2, 1)]\n"
     ]
    }
   ],
   "source": [
    "logdict = do_local_sgd_training(psi,dl,epochs=epochs,learning_rate=lr,\n",
    "                         s2_schedule=s2_schedule,nstep=nstep,cutoff=cutoff,max_sv_to_keep=max_sv,\n",
    "                         ground_truth_mps=ghz_plus, use_cache=True, verbose=True)"
   ]
  },
  {
   "cell_type": "code",
   "execution_count": null,
   "metadata": {},
   "outputs": [],
   "source": [
    "fidelity = logdict['fidelity']\n",
    "losses = logdict['loss']"
   ]
  },
  {
   "cell_type": "code",
   "execution_count": null,
   "metadata": {},
   "outputs": [],
   "source": [
    "import matplotlib.pyplot as plt"
   ]
  },
  {
   "cell_type": "code",
   "execution_count": null,
   "metadata": {},
   "outputs": [],
   "source": [
    "import datetime"
   ]
  },
  {
   "cell_type": "code",
   "execution_count": null,
   "metadata": {},
   "outputs": [],
   "source": [
    "t = datetime.datetime.now().strftime(\"%Y-%m-%d_%H:%M:%S\")"
   ]
  },
  {
   "cell_type": "code",
   "execution_count": null,
   "metadata": {},
   "outputs": [],
   "source": [
    "%matplotlib inline\n",
    "fig, ax = plt.subplots()\n",
    "plt.plot(losses, label='model')\n",
    "plt.legend()\n",
    "plt.xlabel(\"training step\")\n",
    "plt.title(\"batch NLL loss %s\" % t)\n",
    "# fig.savefig(\"assets/nll_loss_example_{0}.png\".format(t))"
   ]
  },
  {
   "cell_type": "code",
   "execution_count": null,
   "metadata": {},
   "outputs": [],
   "source": [
    "plt.plot(fidelity)\n",
    "plt.xlabel(\"Training step\")\n",
    "plt.title(\"fidelity\")"
   ]
  },
  {
   "cell_type": "markdown",
   "metadata": {
    "collapsed": true
   },
   "source": [
    "from tools import generate_binary_space"
   ]
  },
  {
   "cell_type": "markdown",
   "metadata": {
    "collapsed": true
   },
   "source": [
    "basis = torch.tensor(generate_binary_space(L),dtype=torch.long)"
   ]
  },
  {
   "cell_type": "markdown",
   "metadata": {},
   "source": [
    "with torch.no_grad():\n",
    "    for i in range(len(basis)):\n",
    "        print(\"{0} has probability {1:.4f}\".format(basis[i], psi.prob_normalized(basis[i]).item()))"
   ]
  },
  {
   "cell_type": "markdown",
   "metadata": {},
   "source": [
    "with torch.no_grad():\n",
    "    for i in range(len(basis)):\n",
    "        a = psi.amplitude_normalized(basis[i])\n",
    "        atrue = ghz_plus.amplitude_normalized(basis[i])\n",
    "        print(\"{0} has amplitude {1:.4f} (target: {2:.4f})\".format(basis[i], a.numpy().item(),\n",
    "                                                                         atrue.numpy().item()))"
   ]
  },
  {
   "cell_type": "code",
   "execution_count": null,
   "metadata": {},
   "outputs": [],
   "source": []
  }
 ],
 "metadata": {
  "kernelspec": {
   "display_name": "Python 3",
   "language": "python",
   "name": "python3"
  },
  "language_info": {
   "codemirror_mode": {
    "name": "ipython",
    "version": 3
   },
   "file_extension": ".py",
   "mimetype": "text/x-python",
   "name": "python",
   "nbconvert_exporter": "python",
   "pygments_lexer": "ipython3",
   "version": "3.6.8"
  }
 },
 "nbformat": 4,
 "nbformat_minor": 2
}
