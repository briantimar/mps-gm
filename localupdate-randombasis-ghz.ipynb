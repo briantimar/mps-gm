{
 "cells": [
  {
   "cell_type": "markdown",
   "metadata": {},
   "source": [
    "Try training on GHZ state using data in random bases"
   ]
  },
  {
   "cell_type": "code",
   "execution_count": 1,
   "metadata": {},
   "outputs": [],
   "source": [
    "import numpy as np\n",
    "import torch"
   ]
  },
  {
   "cell_type": "code",
   "execution_count": 2,
   "metadata": {},
   "outputs": [],
   "source": [
    "from models import MPS, ComplexTensor\n",
    "from utils import build_ghz_plus"
   ]
  },
  {
   "cell_type": "markdown",
   "metadata": {},
   "source": [
    "Pick system size, dimensionality of local hilbert space, and initial bond dim"
   ]
  },
  {
   "cell_type": "code",
   "execution_count": 3,
   "metadata": {},
   "outputs": [],
   "source": [
    "L=4\n",
    "local_dim=2\n",
    "bond_dim=2"
   ]
  },
  {
   "cell_type": "code",
   "execution_count": 4,
   "metadata": {},
   "outputs": [],
   "source": [
    "dev = torch.device(\"cuda:0\") if torch.cuda.is_available() else torch.device(\"cpu\")"
   ]
  },
  {
   "cell_type": "markdown",
   "metadata": {},
   "source": [
    "Initialize the MPS model"
   ]
  },
  {
   "cell_type": "code",
   "execution_count": 5,
   "metadata": {},
   "outputs": [],
   "source": [
    "psi = MPS(L=L, local_dim=local_dim, bond_dim=bond_dim)"
   ]
  },
  {
   "cell_type": "code",
   "execution_count": 6,
   "metadata": {},
   "outputs": [],
   "source": [
    "psi.to(device=dev)"
   ]
  },
  {
   "cell_type": "markdown",
   "metadata": {},
   "source": [
    "The ground truth state (a ghz state with no phase)"
   ]
  },
  {
   "cell_type": "code",
   "execution_count": 7,
   "metadata": {},
   "outputs": [],
   "source": [
    "ghz_plus = build_ghz_plus(L)\n",
    "ghz_plus.to(device=dev)"
   ]
  },
  {
   "cell_type": "markdown",
   "metadata": {},
   "source": [
    "Samples_tr: lists indices of the observed basis states at each measurement. 0 = spin up, 1 = spin down\n",
    "\n",
    "settings: array of corresponding angles"
   ]
  },
  {
   "cell_type": "code",
   "execution_count": 8,
   "metadata": {},
   "outputs": [],
   "source": [
    "fname_settings = \"test_datasets/settings_ghz_plus_random_basis_L=%d.npy\"%L\n",
    "fname_samples = \"test_datasets/samples_ghz_plus_random_basis_L=%d.npy\"%L\n",
    "samples = np.load(fname_samples)\n",
    "samples_tr = torch.tensor((1-samples)/2).to(dtype=torch.long,device=dev)\n",
    "settings = np.load(fname_settings)"
   ]
  },
  {
   "cell_type": "code",
   "execution_count": 9,
   "metadata": {},
   "outputs": [],
   "source": [
    "theta = torch.tensor(settings[...,0],dtype=torch.float32,device=dev)\n",
    "phi = torch.tensor(settings[...,1],dtype=torch.float32,device=dev)"
   ]
  },
  {
   "cell_type": "code",
   "execution_count": 10,
   "metadata": {},
   "outputs": [],
   "source": [
    "from qtools import pauli_exp"
   ]
  },
  {
   "cell_type": "markdown",
   "metadata": {},
   "source": [
    "Holds the unitaries corresponding to each angle"
   ]
  },
  {
   "cell_type": "code",
   "execution_count": 11,
   "metadata": {},
   "outputs": [],
   "source": [
    "U = pauli_exp(theta, phi)\n",
    "rotations_real = U.real\n",
    "rotations_imag = U.imag"
   ]
  },
  {
   "cell_type": "code",
   "execution_count": 12,
   "metadata": {},
   "outputs": [],
   "source": [
    "from torch.utils.data import TensorDataset, DataLoader"
   ]
  },
  {
   "cell_type": "code",
   "execution_count": 13,
   "metadata": {},
   "outputs": [],
   "source": [
    "from utils import MeasurementDataset,do_local_sgd_training"
   ]
  },
  {
   "cell_type": "markdown",
   "metadata": {},
   "source": [
    "A dataset which yields outcomes and corresponding rotations"
   ]
  },
  {
   "cell_type": "code",
   "execution_count": 14,
   "metadata": {},
   "outputs": [],
   "source": [
    "ds = MeasurementDataset(samples=samples_tr,rotations=U)"
   ]
  },
  {
   "cell_type": "markdown",
   "metadata": {},
   "source": [
    "Batch size and learning rate for training:"
   ]
  },
  {
   "cell_type": "code",
   "execution_count": 15,
   "metadata": {},
   "outputs": [],
   "source": [
    "batch_size = 256\n",
    "lr = 1e-2"
   ]
  },
  {
   "cell_type": "code",
   "execution_count": 16,
   "metadata": {},
   "outputs": [],
   "source": [
    "dl = DataLoader(ds, batch_size=batch_size, shuffle=True)"
   ]
  },
  {
   "cell_type": "markdown",
   "metadata": {},
   "source": [
    "Number of epochs of training"
   ]
  },
  {
   "cell_type": "code",
   "execution_count": 17,
   "metadata": {},
   "outputs": [],
   "source": [
    "epochs = 5"
   ]
  },
  {
   "cell_type": "markdown",
   "metadata": {},
   "source": [
    "How many grad-descent steps to perform at each bond"
   ]
  },
  {
   "cell_type": "code",
   "execution_count": 18,
   "metadata": {},
   "outputs": [],
   "source": [
    "nstep=1"
   ]
  },
  {
   "cell_type": "markdown",
   "metadata": {},
   "source": [
    "Max number of singular values to keep, and cutoff below which to truncate singular values"
   ]
  },
  {
   "cell_type": "code",
   "execution_count": 19,
   "metadata": {},
   "outputs": [],
   "source": [
    "max_sv = None\n",
    "cutoff=1e-8"
   ]
  },
  {
   "cell_type": "markdown",
   "metadata": {},
   "source": [
    "Regularization term: penalty for Renyi-2 entropy, here set to zero"
   ]
  },
  {
   "cell_type": "code",
   "execution_count": 20,
   "metadata": {},
   "outputs": [],
   "source": [
    "s2_schedule = np.concatenate([np.linspace(.0, 0, (epochs-1) * len(dl)), np.zeros(len(dl))])"
   ]
  },
  {
   "cell_type": "code",
   "execution_count": 21,
   "metadata": {},
   "outputs": [
    {
     "name": "stdout",
     "output_type": "stream",
     "text": [
      "Finished epoch 0 in 1.236 sec\n",
      "Finished epoch 1 in 1.047 sec\n",
      "Finished epoch 2 in 1.057 sec\n",
      "Finished epoch 3 in 1.055 sec\n",
      "Finished epoch 4 in 1.056 sec\n"
     ]
    }
   ],
   "source": [
    "logdict = do_local_sgd_training(psi,dl,epochs=epochs,learning_rate=lr,\n",
    "                         s2_schedule=s2_schedule,nstep=nstep,cutoff=cutoff,max_sv_to_keep=max_sv,\n",
    "                         ground_truth_mps=ghz_plus, verbose=True)"
   ]
  },
  {
   "cell_type": "code",
   "execution_count": 22,
   "metadata": {},
   "outputs": [],
   "source": [
    "fidelity = logdict['fidelity']\n",
    "losses = logdict['loss']"
   ]
  },
  {
   "cell_type": "code",
   "execution_count": 23,
   "metadata": {},
   "outputs": [],
   "source": [
    "import matplotlib.pyplot as plt"
   ]
  },
  {
   "cell_type": "code",
   "execution_count": 24,
   "metadata": {},
   "outputs": [],
   "source": [
    "import datetime"
   ]
  },
  {
   "cell_type": "code",
   "execution_count": 25,
   "metadata": {},
   "outputs": [],
   "source": [
    "t = datetime.datetime.now().strftime(\"%Y-%m-%d_%H:%M:%S\")"
   ]
  },
  {
   "cell_type": "code",
   "execution_count": 26,
   "metadata": {},
   "outputs": [
    {
     "data": {
      "text/plain": [
       "Text(0.5,1,'batch NLL loss 2019-05-02_09:37:02')"
      ]
     },
     "execution_count": 26,
     "metadata": {},
     "output_type": "execute_result"
    },
    {
     "data": {
      "image/png": "[encoded data removed]",
      "text/plain": [
       "<matplotlib.figure.Figure at 0x7efe9de81a20>"
      ]
     },
     "metadata": {},
     "output_type": "display_data"
    }
   ],
   "source": [
    "%matplotlib inline\n",
    "fig, ax = plt.subplots()\n",
    "plt.plot(losses, label='model')\n",
    "plt.legend()\n",
    "plt.xlabel(\"training step\")\n",
    "plt.title(\"batch NLL loss %s\" % t)\n",
    "# fig.savefig(\"assets/nll_loss_example_{0}.png\".format(t))"
   ]
  },
  {
   "cell_type": "code",
   "execution_count": 27,
   "metadata": {},
   "outputs": [
    {
     "data": {
      "text/plain": [
       "Text(0.5,1,'fidelity')"
      ]
     },
     "execution_count": 27,
     "metadata": {},
     "output_type": "execute_result"
    },
    {
     "data": {
      "image/png": "[encoded data removed]",
      "text/plain": [
       "<matplotlib.figure.Figure at 0x7efe9b8d6ba8>"
      ]
     },
     "metadata": {},
     "output_type": "display_data"
    }
   ],
   "source": [
    "plt.plot(fidelity)\n",
    "plt.xlabel(\"Training step\")\n",
    "plt.title(\"fidelity\")"
   ]
  },
  {
   "cell_type": "code",
   "execution_count": 28,
   "metadata": {},
   "outputs": [],
   "source": [
    "from tools import generate_binary_space"
   ]
  },
  {
   "cell_type": "code",
   "execution_count": 29,
   "metadata": {},
   "outputs": [],
   "source": [
    "basis = torch.tensor(generate_binary_space(L),dtype=torch.long)"
   ]
  },
  {
   "cell_type": "code",
   "execution_count": 30,
   "metadata": {},
   "outputs": [
    {
     "name": "stdout",
     "output_type": "stream",
     "text": [
      "tensor([1, 1, 1, 1]) has probability 0.0003\n",
      "tensor([1, 1, 1, 0]) has probability 0.0000\n",
      "tensor([1, 1, 0, 1]) has probability 0.0001\n",
      "tensor([1, 1, 0, 0]) has probability 0.0016\n",
      "tensor([1, 0, 1, 1]) has probability 0.0001\n",
      "tensor([1, 0, 1, 0]) has probability 0.4866\n",
      "tensor([1, 0, 0, 1]) has probability 0.0011\n",
      "tensor([1, 0, 0, 0]) has probability 0.0003\n",
      "tensor([0, 1, 1, 1]) has probability 0.0002\n",
      "tensor([0, 1, 1, 0]) has probability 0.0003\n",
      "tensor([0, 1, 0, 1]) has probability 0.5065\n",
      "tensor([0, 1, 0, 0]) has probability 0.0001\n",
      "tensor([0, 0, 1, 1]) has probability 0.0012\n",
      "tensor([0, 0, 1, 0]) has probability 0.0004\n",
      "tensor([0, 0, 0, 1]) has probability 0.0008\n",
      "tensor([0, 0, 0, 0]) has probability 0.0003\n"
     ]
    }
   ],
   "source": [
    "with torch.no_grad():\n",
    "    for i in range(len(basis)):\n",
    "        print(\"{0} has probability {1:.4f}\".format(basis[i], psi.prob_normalized(basis[i]).item()))"
   ]
  },
  {
   "cell_type": "code",
   "execution_count": 31,
   "metadata": {},
   "outputs": [
    {
     "name": "stdout",
     "output_type": "stream",
     "text": [
      "tensor([1, 1, 1, 1]) has amplitude -0.0071+0.0161j (target: 0.0000+0.0000j)\n",
      "tensor([1, 1, 1, 0]) has amplitude 0.0030-0.0030j (target: 0.0000+0.0000j)\n",
      "tensor([1, 1, 0, 1]) has amplitude 0.0058+0.0048j (target: 0.0000+0.0000j)\n",
      "tensor([1, 1, 0, 0]) has amplitude 0.0230-0.0330j (target: 0.0000+0.0000j)\n",
      "tensor([1, 0, 1, 1]) has amplitude -0.0117-0.0025j (target: 0.0000+0.0000j)\n",
      "tensor([1, 0, 1, 0]) has amplitude -0.6671+0.2038j (target: 0.7071+0.0000j)\n",
      "tensor([1, 0, 0, 1]) has amplitude -0.0085-0.0313j (target: 0.0000+0.0000j)\n",
      "tensor([1, 0, 0, 0]) has amplitude -0.0151+0.0058j (target: 0.0000+0.0000j)\n",
      "tensor([0, 1, 1, 1]) has amplitude 0.0144-0.0013j (target: 0.0000+0.0000j)\n",
      "tensor([0, 1, 1, 0]) has amplitude -0.0165+0.0081j (target: 0.0000+0.0000j)\n",
      "tensor([0, 1, 0, 1]) has amplitude -0.6718+0.2347j (target: 0.7071+0.0000j)\n",
      "tensor([0, 1, 0, 0]) has amplitude -0.0092-0.0079j (target: 0.0000+0.0000j)\n",
      "tensor([0, 0, 1, 1]) has amplitude 0.0313-0.0157j (target: 0.0000+0.0000j)\n",
      "tensor([0, 0, 1, 0]) has amplitude 0.0093-0.0190j (target: 0.0000+0.0000j)\n",
      "tensor([0, 0, 0, 1]) has amplitude 0.0264+0.0096j (target: 0.0000+0.0000j)\n",
      "tensor([0, 0, 0, 0]) has amplitude -0.0132+0.0131j (target: 0.0000+0.0000j)\n"
     ]
    }
   ],
   "source": [
    "with torch.no_grad():\n",
    "    for i in range(len(basis)):\n",
    "        a = psi.amplitude_normalized(basis[i])\n",
    "        atrue = ghz_plus.amplitude_normalized(basis[i])\n",
    "        print(\"{0} has amplitude {1:.4f} (target: {2:.4f})\".format(basis[i], a.numpy().item(),\n",
    "                                                                         atrue.numpy().item()))"
   ]
  },
  {
   "cell_type": "code",
   "execution_count": null,
   "metadata": {},
   "outputs": [],
   "source": []
  }
 ],
 "metadata": {
  "kernelspec": {
   "display_name": "Python 3",
   "language": "python",
   "name": "python3"
  },
  "language_info": {
   "codemirror_mode": {
    "name": "ipython",
    "version": 3
   },
   "file_extension": ".py",
   "mimetype": "text/x-python",
   "name": "python",
   "nbconvert_exporter": "python",
   "pygments_lexer": "ipython3",
   "version": "3.6.8"
  }
 },
 "nbformat": 4,
 "nbformat_minor": 2
}
