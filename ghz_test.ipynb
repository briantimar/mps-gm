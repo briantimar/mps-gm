{
 "cells": [
  {
   "cell_type": "code",
   "execution_count": 1,
   "metadata": {},
   "outputs": [],
   "source": [
    "import numpy as np\n",
    "import torch\n",
    "from models import SingleBasisMPS\n",
    "import matplotlib.pyplot as plt"
   ]
  },
  {
   "cell_type": "code",
   "execution_count": 17,
   "metadata": {
    "collapsed": true
   },
   "outputs": [],
   "source": [
    "L=4\n",
    "local_dim =2\n",
    "bond_dim = 2"
   ]
  },
  {
   "cell_type": "code",
   "execution_count": 3,
   "metadata": {},
   "outputs": [],
   "source": [
    "psi = SingleBasisMPS(L=L, local_dim=local_dim, bond_dim=bond_dim)"
   ]
  },
  {
   "cell_type": "code",
   "execution_count": 18,
   "metadata": {
    "collapsed": true
   },
   "outputs": [],
   "source": [
    "fname = \"datasets/samples_ghz_plus_z_basis_only_L=4_Nmeasure=100000.npy\"\n",
    "xtr = np.load(fname)[:10000,...]"
   ]
  },
  {
   "cell_type": "code",
   "execution_count": 19,
   "metadata": {
    "collapsed": true
   },
   "outputs": [],
   "source": [
    "xtr = torch.tensor((xtr + 1)/2).to(torch.long)"
   ]
  },
  {
   "cell_type": "code",
   "execution_count": 7,
   "metadata": {},
   "outputs": [],
   "source": [
    "from torch.utils.data import TensorDataset, DataLoader"
   ]
  },
  {
   "cell_type": "code",
   "execution_count": 8,
   "metadata": {},
   "outputs": [],
   "source": [
    "ds = TensorDataset(xtr)"
   ]
  },
  {
   "cell_type": "code",
   "execution_count": 20,
   "metadata": {
    "collapsed": true
   },
   "outputs": [],
   "source": [
    "batch_size = 64\n",
    "epochs = 100"
   ]
  },
  {
   "cell_type": "code",
   "execution_count": 21,
   "metadata": {
    "collapsed": true
   },
   "outputs": [],
   "source": [
    "dl = DataLoader(ds, batch_size=batch_size, shuffle=True)"
   ]
  },
  {
   "cell_type": "code",
   "execution_count": 22,
   "metadata": {},
   "outputs": [],
   "source": [
    "lr = .001\n",
    "optim = torch.optim.Adam(lr=lr,params=psi.parameters())"
   ]
  },
  {
   "cell_type": "code",
   "execution_count": 23,
   "metadata": {
    "collapsed": true
   },
   "outputs": [],
   "source": [
    "costs = []\n",
    "p10 = []\n",
    "p01 = []\n",
    "p0 = []\n",
    "p1 = []"
   ]
  },
  {
   "cell_type": "code",
   "execution_count": 24,
   "metadata": {
    "collapsed": true
   },
   "outputs": [],
   "source": [
    "x10 = torch.tensor([1,0,1,0], dtype=torch.long)\n",
    "x01 = 1-x10\n",
    "x0= torch.zeros(1, L,dtype=torch.long)\n",
    "x1 = torch.ones(1,L,dtype=torch.long)"
   ]
  },
  {
   "cell_type": "code",
   "execution_count": 25,
   "metadata": {},
   "outputs": [
    {
     "name": "stdout",
     "output_type": "stream",
     "text": [
      "finished epoch  0\n",
      "finished epoch  1\n",
      "finished epoch  2\n",
      "finished epoch  3\n",
      "finished epoch  4\n",
      "finished epoch  5\n",
      "finished epoch  6\n",
      "finished epoch  7\n",
      "finished epoch  8\n",
      "finished epoch  9\n",
      "finished epoch  10\n",
      "finished epoch  11\n",
      "finished epoch  12\n",
      "finished epoch  13\n",
      "finished epoch  14\n",
      "finished epoch  15\n",
      "finished epoch  16\n",
      "finished epoch  17\n",
      "finished epoch  18\n",
      "finished epoch  19\n",
      "finished epoch  20\n",
      "finished epoch  21\n",
      "finished epoch  22\n",
      "finished epoch  23\n",
      "finished epoch  24\n",
      "finished epoch  25\n",
      "finished epoch  26\n",
      "finished epoch  27\n",
      "finished epoch  28\n",
      "finished epoch  29\n",
      "finished epoch  30\n",
      "finished epoch  31\n",
      "finished epoch  32\n",
      "finished epoch  33\n",
      "finished epoch  34\n",
      "finished epoch  35\n",
      "finished epoch  36\n",
      "finished epoch  37\n",
      "finished epoch  38\n",
      "finished epoch  39\n",
      "finished epoch  40\n",
      "finished epoch  41\n",
      "finished epoch  42\n",
      "finished epoch  43\n",
      "finished epoch  44\n",
      "finished epoch  45\n",
      "finished epoch  46\n",
      "finished epoch  47\n",
      "finished epoch  48\n",
      "finished epoch  49\n",
      "finished epoch  50\n",
      "finished epoch  51\n",
      "finished epoch  52\n",
      "finished epoch  53\n",
      "finished epoch  54\n",
      "finished epoch  55\n",
      "finished epoch  56\n",
      "finished epoch  57\n",
      "finished epoch  58\n",
      "finished epoch  59\n",
      "finished epoch  60\n",
      "finished epoch  61\n",
      "finished epoch  62\n",
      "finished epoch  63\n",
      "finished epoch  64\n",
      "finished epoch  65\n",
      "finished epoch  66\n",
      "finished epoch  67\n",
      "finished epoch  68\n",
      "finished epoch  69\n",
      "finished epoch  70\n",
      "finished epoch  71\n",
      "finished epoch  72\n",
      "finished epoch  73\n",
      "finished epoch  74\n",
      "finished epoch  75\n",
      "finished epoch  76\n",
      "finished epoch  77\n",
      "finished epoch  78\n",
      "finished epoch  79\n",
      "finished epoch  80\n",
      "finished epoch  81\n",
      "finished epoch  82\n",
      "finished epoch  83\n",
      "finished epoch  84\n",
      "finished epoch  85\n",
      "finished epoch  86\n",
      "finished epoch  87\n",
      "finished epoch  88\n",
      "finished epoch  89\n",
      "finished epoch  90\n",
      "finished epoch  91\n",
      "finished epoch  92\n",
      "finished epoch  93\n",
      "finished epoch  94\n",
      "finished epoch  95\n",
      "finished epoch  96\n",
      "finished epoch  97\n",
      "finished epoch  98\n",
      "finished epoch  99\n"
     ]
    }
   ],
   "source": [
    "for n in range(epochs):\n",
    "    for x, in dl:\n",
    "        cost = psi.nll_cost(x)\n",
    "        psi.zero_grad()\n",
    "        cost.backward()\n",
    "        optim.step()\n",
    "    print(\"finished epoch \", n)\n",
    "    costs.append(cost)\n",
    "    p10.append(psi.prob_normalized(x10))\n",
    "    p01.append(psi.prob_normalized(x01))\n",
    "    p0.append(psi.prob_normalized(x0))\n",
    "    p1.append(psi.prob_normalized(x1))"
   ]
  },
  {
   "cell_type": "code",
   "execution_count": 26,
   "metadata": {},
   "outputs": [
    {
     "data": {
      "text/plain": [
       "[<matplotlib.lines.Line2D at 0x112c6b7f0>]"
      ]
     },
     "execution_count": 26,
     "metadata": {},
     "output_type": "execute_result"
    },
    {
     "data": {
      "image/png": "[encoded data removed]",
      "text/plain": [
       "<matplotlib.figure.Figure at 0x112bc34a8>"
      ]
     },
     "metadata": {},
     "output_type": "display_data"
    }
   ],
   "source": [
    "%matplotlib inline\n",
    "plt.plot(costs)"
   ]
  },
  {
   "cell_type": "code",
   "execution_count": null,
   "metadata": {
    "collapsed": true
   },
   "outputs": [],
   "source": []
  }
 ],
 "metadata": {
  "kernelspec": {
   "display_name": "Python 3",
   "language": "python",
   "name": "python3"
  },
  "language_info": {
   "codemirror_mode": {
    "name": "ipython",
    "version": 3
   },
   "file_extension": ".py",
   "mimetype": "text/x-python",
   "name": "python",
   "nbconvert_exporter": "python",
   "pygments_lexer": "ipython3",
   "version": "3.5.4"
  }
 },
 "nbformat": 4,
 "nbformat_minor": 2
}
