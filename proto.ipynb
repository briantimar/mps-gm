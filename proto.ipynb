{
 "cells": [
  {
   "cell_type": "code",
   "execution_count": 1,
   "metadata": {
    "collapsed": true
   },
   "outputs": [],
   "source": [
    "import numpy as np\n",
    "import torch"
   ]
  },
  {
   "cell_type": "code",
   "execution_count": 2,
   "metadata": {
    "collapsed": true
   },
   "outputs": [],
   "source": [
    "from models import MPS, ComplexTensor"
   ]
  },
  {
   "cell_type": "code",
   "execution_count": 3,
   "metadata": {},
   "outputs": [],
   "source": [
    "from tools import generate_binary_space"
   ]
  },
  {
   "cell_type": "code",
   "execution_count": 10,
   "metadata": {
    "collapsed": true
   },
   "outputs": [],
   "source": [
    "from qtools import pauli_exp"
   ]
  },
  {
   "cell_type": "code",
   "execution_count": 4,
   "metadata": {
    "collapsed": true
   },
   "outputs": [],
   "source": [
    "L=2\n",
    "local_dim=2\n",
    "bond_dim=1"
   ]
  },
  {
   "cell_type": "code",
   "execution_count": 5,
   "metadata": {},
   "outputs": [],
   "source": [
    "basis = torch.tensor(generate_binary_space(L), dtype=torch.long)"
   ]
  },
  {
   "cell_type": "code",
   "execution_count": 6,
   "metadata": {},
   "outputs": [],
   "source": [
    "psi = MPS(L=L, local_dim=local_dim, bond_dim=bond_dim)"
   ]
  },
  {
   "cell_type": "code",
   "execution_count": 7,
   "metadata": {},
   "outputs": [
    {
     "data": {
      "text/plain": [
       "[ComplexTensor shape torch.Size([2, 1, 1]),\n",
       " ComplexTensor shape torch.Size([2, 1, 1])]"
      ]
     },
     "execution_count": 7,
     "metadata": {},
     "output_type": "execute_result"
    }
   ],
   "source": [
    "psi.tensors"
   ]
  },
  {
   "cell_type": "code",
   "execution_count": 8,
   "metadata": {
    "collapsed": true
   },
   "outputs": [],
   "source": [
    "for i in range(L):\n",
    "    psi.tensors[i].real.data = torch.tensor([1.,0]).view(2,1,1)\n",
    "    psi.tensors[i].imag.data = torch.zeros(2).view(2,1,1)"
   ]
  },
  {
   "cell_type": "code",
   "execution_count": 9,
   "metadata": {},
   "outputs": [
    {
     "name": "stdout",
     "output_type": "stream",
     "text": [
      "tensor([1, 1])  has amplitude: [0.+0.j]\n",
      "tensor([1, 0])  has amplitude: [0.+0.j]\n",
      "tensor([0, 1])  has amplitude: [0.+0.j]\n",
      "tensor([0, 0])  has amplitude: [1.+0.j]\n"
     ]
    }
   ],
   "source": [
    "with torch.no_grad():\n",
    "    for b in basis:\n",
    "        print(b,\" has amplitude:\", psi.amplitude_normalized(b).display())"
   ]
  },
  {
   "cell_type": "code",
   "execution_count": 16,
   "metadata": {
    "collapsed": true
   },
   "outputs": [],
   "source": [
    "theta = (np.pi/2) * torch.ones(1,2)\n",
    "# phi = torch.zeros(1,2)\n",
    "phi = theta\n",
    "U = pauli_exp(theta,phi)"
   ]
  },
  {
   "cell_type": "code",
   "execution_count": 17,
   "metadata": {},
   "outputs": [
    {
     "name": "stdout",
     "output_type": "stream",
     "text": [
      "tensor([1, 1])  has amplitude: [0.-0.49999994j]\n",
      "tensor([1, 0])  has amplitude: [-0.49999994+0.j]\n",
      "tensor([0, 1])  has amplitude: [-0.49999994+0.j]\n",
      "tensor([0, 0])  has amplitude: [0.+0.49999994j]\n"
     ]
    }
   ],
   "source": [
    "with torch.no_grad():\n",
    "    for b in basis:\n",
    "        print(b,\" has amplitude:\", psi.amplitude_normalized(b,rotation=U).display())"
   ]
  },
  {
   "cell_type": "code",
   "execution_count": null,
   "metadata": {
    "collapsed": true
   },
   "outputs": [],
   "source": []
  }
 ],
 "metadata": {
  "kernelspec": {
   "display_name": "Python 3",
   "language": "python",
   "name": "python3"
  },
  "language_info": {
   "codemirror_mode": {
    "name": "ipython",
    "version": 3
   },
   "file_extension": ".py",
   "mimetype": "text/x-python",
   "name": "python",
   "nbconvert_exporter": "python",
   "pygments_lexer": "ipython3",
   "version": "3.5.4"
  }
 },
 "nbformat": 4,
 "nbformat_minor": 2
}
