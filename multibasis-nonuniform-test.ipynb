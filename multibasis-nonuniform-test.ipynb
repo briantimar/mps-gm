{
 "cells": [
  {
   "cell_type": "markdown",
   "metadata": {},
   "source": [
    "Try gradient-descent training of MPS model on a GHZ state (including rotated bases)"
   ]
  },
  {
   "cell_type": "code",
   "execution_count": 1,
   "metadata": {
    "collapsed": true
   },
   "outputs": [],
   "source": [
    "import numpy as np\n",
    "import torch\n",
    "from models import MPS, ComplexTensor\n",
    "import matplotlib.pyplot as plt\n",
    "from tools import generate_binary_space"
   ]
  },
  {
   "cell_type": "code",
   "execution_count": 2,
   "metadata": {
    "collapsed": true
   },
   "outputs": [],
   "source": [
    "#helper function to build unitaries from angles\n",
    "from qtools import pauli_exp"
   ]
  },
  {
   "cell_type": "code",
   "execution_count": 19,
   "metadata": {
    "collapsed": true
   },
   "outputs": [],
   "source": [
    "#system size\n",
    "L=4\n",
    "#dimensionality of local hilbert space (2 =qubit)\n",
    "local_dim =2\n",
    "#bond dimension of the MPS\n",
    "bond_dim = 2"
   ]
  },
  {
   "cell_type": "markdown",
   "metadata": {},
   "source": [
    "Creates uniform, closed-boundary-conditions MPS pure state"
   ]
  },
  {
   "cell_type": "code",
   "execution_count": 20,
   "metadata": {
    "collapsed": true
   },
   "outputs": [],
   "source": [
    "psi =MPS(L=L, local_dim=local_dim, bond_dim=bond_dim)"
   ]
  },
  {
   "cell_type": "code",
   "execution_count": 21,
   "metadata": {},
   "outputs": [
    {
     "data": {
      "text/plain": [
       "[ComplexTensor shape torch.Size([2, 1, 2]),\n",
       " ComplexTensor shape torch.Size([2, 2, 2]),\n",
       " ComplexTensor shape torch.Size([2, 2, 2]),\n",
       " ComplexTensor shape torch.Size([2, 2, 1])]"
      ]
     },
     "execution_count": 21,
     "metadata": {},
     "output_type": "execute_result"
    }
   ],
   "source": [
    "psi.tensors"
   ]
  },
  {
   "cell_type": "markdown",
   "metadata": {},
   "source": [
    "Load datasets from numpy pickles"
   ]
  },
  {
   "cell_type": "code",
   "execution_count": 6,
   "metadata": {
    "collapsed": true
   },
   "outputs": [],
   "source": [
    "samples_fname = \"samples_ghz_plus_all_discrete_bases_angles_L=4.npy\"\n",
    "settings_fname = \"settings_ghz_plus_all_discrete_bases_angles_L=4.npy\"\n",
    "samples = np.load(samples_fname)\n",
    "settings = np.load(settings_fname)"
   ]
  },
  {
   "cell_type": "markdown",
   "metadata": {},
   "source": [
    "Tensors which specify local measurement settings"
   ]
  },
  {
   "cell_type": "code",
   "execution_count": 7,
   "metadata": {
    "collapsed": true
   },
   "outputs": [],
   "source": [
    "theta = torch.tensor(settings[...,0],dtype=torch.float32)\n",
    "phi = torch.tensor(settings[...,1],dtype=torch.float32)"
   ]
  },
  {
   "cell_type": "markdown",
   "metadata": {},
   "source": [
    "Tensor holding the corresponding unitaries"
   ]
  },
  {
   "cell_type": "code",
   "execution_count": 44,
   "metadata": {
    "collapsed": true
   },
   "outputs": [],
   "source": [
    "U = pauli_exp(theta, phi)\n",
    "rotations_real = U.real\n",
    "rotations_imag = U.imag"
   ]
  },
  {
   "cell_type": "markdown",
   "metadata": {},
   "source": [
    "Convert samples to binary 0, 1"
   ]
  },
  {
   "cell_type": "code",
   "execution_count": 45,
   "metadata": {
    "collapsed": true
   },
   "outputs": [],
   "source": [
    "samples_tr = torch.tensor((samples + 1)/2).to(torch.long)"
   ]
  },
  {
   "cell_type": "code",
   "execution_count": 46,
   "metadata": {
    "collapsed": true
   },
   "outputs": [],
   "source": [
    "from torch.utils.data import TensorDataset, DataLoader"
   ]
  },
  {
   "cell_type": "code",
   "execution_count": 47,
   "metadata": {
    "collapsed": true
   },
   "outputs": [],
   "source": [
    "class MeasurementDataset(TensorDataset):\n",
    "    def __init__(self, samples, settings):\n",
    "        super().__init__()\n",
    "        if samples.shape[0] != settings.shape[0]:\n",
    "            raise ValueError\n",
    "        self.samples = TensorDataset(samples)\n",
    "        self.settings = TensorDataset(settings)\n",
    "    def __len__(self):\n",
    "        return len(self.samples)\n",
    "    def __getitem__(self, i):\n",
    "        samples = self.samples[i][0]\n",
    "        rot = self.settings[i][0]\n",
    "        return dict(samples=samples, rotation=dict(real=rot.real,imag=rot.imag))"
   ]
  },
  {
   "cell_type": "code",
   "execution_count": 48,
   "metadata": {
    "collapsed": true
   },
   "outputs": [],
   "source": [
    "batch_size = 128\n",
    "epochs = 5"
   ]
  },
  {
   "cell_type": "code",
   "execution_count": 49,
   "metadata": {
    "collapsed": true
   },
   "outputs": [],
   "source": [
    "ds = MeasurementDataset(samples_tr, U)"
   ]
  },
  {
   "cell_type": "code",
   "execution_count": 50,
   "metadata": {
    "collapsed": true
   },
   "outputs": [],
   "source": [
    "dl = DataLoader(ds, batch_size=batch_size, shuffle=True)"
   ]
  },
  {
   "cell_type": "code",
   "execution_count": 51,
   "metadata": {
    "collapsed": true
   },
   "outputs": [],
   "source": [
    "lr = .001\n",
    "optim = torch.optim.SGD(lr=lr,params=psi.parameters())"
   ]
  },
  {
   "cell_type": "code",
   "execution_count": 52,
   "metadata": {
    "collapsed": true
   },
   "outputs": [],
   "source": [
    "losses = []\n",
    "p10 = []\n",
    "p01 = []\n",
    "p0 = []\n",
    "p1 = []"
   ]
  },
  {
   "cell_type": "markdown",
   "metadata": {},
   "source": [
    "For my curiosity -- record probability assigned to a few basis states during training"
   ]
  },
  {
   "cell_type": "code",
   "execution_count": 53,
   "metadata": {
    "collapsed": true
   },
   "outputs": [],
   "source": [
    "x10 = torch.tensor([1,0,1,0], dtype=torch.long)\n",
    "x01 = 1-x10\n",
    "x0= torch.zeros(1, L,dtype=torch.long)\n",
    "x1 = torch.ones(1,L,dtype=torch.long)"
   ]
  },
  {
   "cell_type": "markdown",
   "metadata": {},
   "source": [
    "Train the MPS by minimizing negative-log-likelihood of the observed data."
   ]
  },
  {
   "cell_type": "code",
   "execution_count": 54,
   "metadata": {},
   "outputs": [
    {
     "name": "stdout",
     "output_type": "stream",
     "text": [
      "finished epoch 0\n",
      "finished epoch 1\n",
      "finished epoch 2\n",
      "finished epoch 3\n",
      "finished epoch 4\n"
     ]
    }
   ],
   "source": [
    "for n in range(epochs):\n",
    "    for i,meas in enumerate(dl):\n",
    "        samples = meas['samples']\n",
    "        rot = meas['rotation']\n",
    "        rotation = ComplexTensor(rot['real'], rot['imag'])\n",
    "        psi.zero_grad()\n",
    "        loss = psi.nll_loss(samples,rotation=rotation)\n",
    "        loss.backward()\n",
    "        optim.step()\n",
    "        if i%100==0:\n",
    "            losses.append(loss)\n",
    "            p10.append(psi.prob_normalized(x10))\n",
    "    print(\"finished epoch %d\" %n)"
   ]
  },
  {
   "cell_type": "code",
   "execution_count": 55,
   "metadata": {},
   "outputs": [
    {
     "data": {
      "text/plain": [
       "[<matplotlib.lines.Line2D at 0x1a23db9e48>]"
      ]
     },
     "execution_count": 55,
     "metadata": {},
     "output_type": "execute_result"
    },
    {
     "data": {
      "image/png": "[encoded data removed]",
      "text/plain": [
       "<matplotlib.figure.Figure at 0x1a1bfe1ac8>"
      ]
     },
     "metadata": {},
     "output_type": "display_data"
    }
   ],
   "source": [
    "%matplotlib inline\n",
    "plt.plot(losses)"
   ]
  },
  {
   "cell_type": "code",
   "execution_count": 56,
   "metadata": {},
   "outputs": [
    {
     "data": {
      "text/plain": [
       "<matplotlib.legend.Legend at 0x1a1e35b4e0>"
      ]
     },
     "execution_count": 56,
     "metadata": {},
     "output_type": "execute_result"
    },
    {
     "data": {
      "image/png": "[encoded data removed]",
      "text/plain": [
       "<matplotlib.figure.Figure at 0x1a1e35b320>"
      ]
     },
     "metadata": {},
     "output_type": "display_data"
    }
   ],
   "source": [
    "plt.plot(p10, label=\"1010\")\n",
    "plt.legend()"
   ]
  },
  {
   "cell_type": "markdown",
   "metadata": {},
   "source": [
    "Look at the probability the trained state assigns to each z-basis state"
   ]
  },
  {
   "cell_type": "code",
   "execution_count": 25,
   "metadata": {
    "collapsed": true
   },
   "outputs": [],
   "source": [
    "basis = torch.tensor(generate_binary_space(L),dtype=torch.long)"
   ]
  },
  {
   "cell_type": "code",
   "execution_count": 71,
   "metadata": {
    "scrolled": true
   },
   "outputs": [
    {
     "name": "stdout",
     "output_type": "stream",
     "text": [
      "tensor([1, 1, 1, 1]) has amplitude -0.0864 + i -0.0441, prob 0.0094\n",
      "tensor([1, 1, 1, 0]) has amplitude -0.0924 + i -0.0306, prob 0.0095\n",
      "tensor([1, 1, 0, 1]) has amplitude 0.0822 + i 0.0645, prob 0.0109\n",
      "tensor([1, 1, 0, 0]) has amplitude 0.0797 + i 0.0393, prob 0.0079\n",
      "tensor([1, 0, 1, 1]) has amplitude 0.0971 + i 0.0304, prob 0.0104\n",
      "tensor([1, 0, 1, 0]) has amplitude -0.0945 + i -0.6539, prob 0.4365\n",
      "tensor([1, 0, 0, 1]) has amplitude -0.0838 + i -0.0420, prob 0.0088\n",
      "tensor([1, 0, 0, 0]) has amplitude -0.1002 + i -0.0293, prob 0.0109\n",
      "tensor([0, 1, 1, 1]) has amplitude -0.0751 + i -0.0648, prob 0.0098\n",
      "tensor([0, 1, 1, 0]) has amplitude -0.0746 + i -0.0439, prob 0.0075\n",
      "tensor([0, 1, 0, 1]) has amplitude -0.6076 + i 0.2512, prob 0.4322\n",
      "tensor([0, 1, 0, 0]) has amplitude 0.0791 + i 0.0622, prob 0.0101\n",
      "tensor([0, 0, 1, 1]) has amplitude 0.0752 + i 0.0386, prob 0.0071\n",
      "tensor([0, 0, 1, 0]) has amplitude 0.0948 + i 0.0368, prob 0.0103\n",
      "tensor([0, 0, 0, 1]) has amplitude -0.0706 + i -0.0761, prob 0.0108\n",
      "tensor([0, 0, 0, 0]) has amplitude -0.0761 + i -0.0446, prob 0.0078\n"
     ]
    }
   ],
   "source": [
    "with torch.no_grad():\n",
    "    n = psi.norm().sqrt().item()\n",
    "    for i in range(len(basis)):\n",
    "        a = psi.amplitude(basis[i])\n",
    "        print(\"{0} has amplitude {1:.4f} + i {2:.4f}, prob {3:.4f}\".format(basis[i], \n",
    "                                                                            a.real.item()/n, a.imag.item()/n,\n",
    "                                                                          psi.prob_normalized(basis[i]).item()))"
   ]
  },
  {
   "cell_type": "code",
   "execution_count": 72,
   "metadata": {},
   "outputs": [
    {
     "name": "stdout",
     "output_type": "stream",
     "text": [
      "tensor([1, 1, 1, 1]) has amplitude -0.2207 + i -0.1231\n",
      "tensor([1, 1, 1, 0]) has amplitude -0.1473 + i 0.2480\n",
      "tensor([1, 1, 0, 1]) has amplitude 0.1184 + i -0.2144\n",
      "tensor([1, 1, 0, 0]) has amplitude 0.2165 + i 0.1185\n",
      "tensor([1, 0, 1, 1]) has amplitude -0.1206 + i 0.2087\n",
      "tensor([1, 0, 1, 0]) has amplitude -0.2124 + i -0.1261\n",
      "tensor([1, 0, 0, 1]) has amplitude 0.2294 + i 0.1363\n",
      "tensor([1, 0, 0, 0]) has amplitude 0.1142 + i -0.2063\n",
      "tensor([0, 1, 1, 1]) has amplitude 0.1348 + i -0.2447\n",
      "tensor([0, 1, 1, 0]) has amplitude -0.1163 + i -0.0611\n",
      "tensor([0, 1, 0, 1]) has amplitude -0.2182 + i -0.1156\n",
      "tensor([0, 1, 0, 0]) has amplitude -0.1342 + i 0.2435\n",
      "tensor([0, 0, 1, 1]) has amplitude 0.2100 + i 0.1204\n",
      "tensor([0, 0, 1, 0]) has amplitude 0.1353 + i -0.2392\n",
      "tensor([0, 0, 0, 1]) has amplitude -0.1212 + i 0.2054\n",
      "tensor([0, 0, 0, 0]) has amplitude -0.2133 + i -0.1266\n"
     ]
    }
   ],
   "source": [
    "theta = torch.tensor([[np.pi/2]*L])\n",
    "phi = torch.zeros_like(theta)\n",
    "U = pauli_exp(theta, phi)\n",
    "\n",
    "with torch.no_grad():\n",
    "    n = psi.norm().sqrt().item()\n",
    "    for i in range(len(basis)):\n",
    "        a = psi.amplitude(basis[i],rotation=U)\n",
    "        print(\"{0} has amplitude {1:.4f} + i {2:.4f}\".format(basis[i], a.real.item()/n, a.imag.item()/n))"
   ]
  },
  {
   "cell_type": "code",
   "execution_count": null,
   "metadata": {
    "collapsed": true
   },
   "outputs": [],
   "source": []
  }
 ],
 "metadata": {
  "kernelspec": {
   "display_name": "Python 3",
   "language": "python",
   "name": "python3"
  },
  "language_info": {
   "codemirror_mode": {
    "name": "ipython",
    "version": 3
   },
   "file_extension": ".py",
   "mimetype": "text/x-python",
   "name": "python",
   "nbconvert_exporter": "python",
   "pygments_lexer": "ipython3",
   "version": "3.5.4"
  }
 },
 "nbformat": 4,
 "nbformat_minor": 2
}
