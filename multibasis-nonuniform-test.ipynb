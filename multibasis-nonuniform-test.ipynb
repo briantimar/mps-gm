{
 "cells": [
  {
   "cell_type": "markdown",
   "metadata": {},
   "source": [
    "Try gradient-descent training of MPS model on a GHZ state (including rotated bases)"
   ]
  },
  {
   "cell_type": "code",
   "execution_count": 1,
   "metadata": {
    "collapsed": true
   },
   "outputs": [],
   "source": [
    "import numpy as np\n",
    "import torch\n",
    "from models import MPS, ComplexTensor\n",
    "import matplotlib.pyplot as plt\n",
    "from tools import generate_binary_space"
   ]
  },
  {
   "cell_type": "code",
   "execution_count": 2,
   "metadata": {
    "collapsed": true
   },
   "outputs": [],
   "source": [
    "#helper function to build unitaries from angles\n",
    "from qtools import pauli_exp"
   ]
  },
  {
   "cell_type": "code",
   "execution_count": 3,
   "metadata": {
    "collapsed": true
   },
   "outputs": [],
   "source": [
    "#system size\n",
    "L=4\n",
    "#dimensionality of local hilbert space (2 =qubit)\n",
    "local_dim =2\n",
    "#bond dimension of the MPS\n",
    "bond_dim = 10"
   ]
  },
  {
   "cell_type": "markdown",
   "metadata": {},
   "source": [
    "Creates uniform, closed-boundary-conditions MPS pure state"
   ]
  },
  {
   "cell_type": "code",
   "execution_count": 4,
   "metadata": {
    "collapsed": true
   },
   "outputs": [],
   "source": [
    "psi =MPS(L=L, local_dim=local_dim, bond_dim=bond_dim)"
   ]
  },
  {
   "cell_type": "markdown",
   "metadata": {},
   "source": [
    "Load datasets from numpy pickles"
   ]
  },
  {
   "cell_type": "code",
   "execution_count": 5,
   "metadata": {
    "collapsed": true
   },
   "outputs": [],
   "source": [
    "samples_fname = \"samples_ghz_plus_all_discrete_bases_angles_L=4.npy\"\n",
    "settings_fname = \"settings_ghz_plus_all_discrete_bases_angles_L=4.npy\"\n",
    "samples = np.load(samples_fname)\n",
    "settings = np.load(settings_fname)"
   ]
  },
  {
   "cell_type": "markdown",
   "metadata": {},
   "source": [
    "Tensors which specify local measurement settings"
   ]
  },
  {
   "cell_type": "code",
   "execution_count": 6,
   "metadata": {
    "collapsed": true
   },
   "outputs": [],
   "source": [
    "theta = torch.tensor(settings[...,0],dtype=torch.float32)\n",
    "phi = torch.tensor(settings[...,1],dtype=torch.float32)"
   ]
  },
  {
   "cell_type": "markdown",
   "metadata": {},
   "source": [
    "Tensor holding the corresponding unitaries"
   ]
  },
  {
   "cell_type": "code",
   "execution_count": 7,
   "metadata": {
    "collapsed": true
   },
   "outputs": [],
   "source": [
    "U = pauli_exp(theta, phi)\n",
    "rotations_real = U.real\n",
    "rotations_imag = U.imag"
   ]
  },
  {
   "cell_type": "markdown",
   "metadata": {},
   "source": [
    "Convert samples to binary 0, 1"
   ]
  },
  {
   "cell_type": "code",
   "execution_count": 8,
   "metadata": {
    "collapsed": true
   },
   "outputs": [],
   "source": [
    "samples_tr = torch.tensor((samples + 1)/2).to(torch.long)"
   ]
  },
  {
   "cell_type": "code",
   "execution_count": 9,
   "metadata": {
    "collapsed": true
   },
   "outputs": [],
   "source": [
    "from torch.utils.data import TensorDataset, DataLoader"
   ]
  },
  {
   "cell_type": "code",
   "execution_count": 10,
   "metadata": {
    "collapsed": true
   },
   "outputs": [],
   "source": [
    "class MeasurementDataset(TensorDataset):\n",
    "    def __init__(self, samples, settings):\n",
    "        super().__init__()\n",
    "        if samples.shape[0] != settings.shape[0]:\n",
    "            raise ValueError\n",
    "        self.samples = TensorDataset(samples)\n",
    "        self.settings = TensorDataset(settings)\n",
    "    def __len__(self):\n",
    "        return len(self.samples)\n",
    "    def __getitem__(self, i):\n",
    "        samples = self.samples[i][0]\n",
    "        rot = self.settings[i][0]\n",
    "        return dict(samples=samples, rotation=dict(real=rot.real,imag=rot.imag))"
   ]
  },
  {
   "cell_type": "code",
   "execution_count": 11,
   "metadata": {
    "collapsed": true
   },
   "outputs": [],
   "source": [
    "batch_size = 1024\n",
    "epochs = 5"
   ]
  },
  {
   "cell_type": "code",
   "execution_count": 12,
   "metadata": {
    "collapsed": true
   },
   "outputs": [],
   "source": [
    "ds = MeasurementDataset(samples_tr, U)"
   ]
  },
  {
   "cell_type": "code",
   "execution_count": 13,
   "metadata": {
    "collapsed": true
   },
   "outputs": [],
   "source": [
    "dl = DataLoader(ds, batch_size=batch_size, shuffle=True)"
   ]
  },
  {
   "cell_type": "code",
   "execution_count": 14,
   "metadata": {
    "collapsed": true
   },
   "outputs": [],
   "source": [
    "lr = .001\n",
    "optim = torch.optim.Adam(lr=lr,params=psi.parameters())"
   ]
  },
  {
   "cell_type": "code",
   "execution_count": 15,
   "metadata": {
    "collapsed": true
   },
   "outputs": [],
   "source": [
    "losses = []\n",
    "p10 = []\n",
    "p01 = []\n",
    "p0 = []\n",
    "p1 = []"
   ]
  },
  {
   "cell_type": "markdown",
   "metadata": {},
   "source": [
    "For my curiosity -- record probability assigned to a few basis states during training"
   ]
  },
  {
   "cell_type": "code",
   "execution_count": 16,
   "metadata": {
    "collapsed": true
   },
   "outputs": [],
   "source": [
    "x10 = torch.tensor([1,0,1,0], dtype=torch.long)\n",
    "x01 = 1-x10\n",
    "x0= torch.zeros(1, L,dtype=torch.long)\n",
    "x1 = torch.ones(1,L,dtype=torch.long)"
   ]
  },
  {
   "cell_type": "markdown",
   "metadata": {},
   "source": [
    "Train the MPS by minimizing negative-log-likelihood of the observed data."
   ]
  },
  {
   "cell_type": "code",
   "execution_count": 17,
   "metadata": {},
   "outputs": [
    {
     "name": "stdout",
     "output_type": "stream",
     "text": [
      "finished epoch 0\n",
      "finished epoch 1\n",
      "finished epoch 2\n",
      "finished epoch 3\n",
      "finished epoch 4\n"
     ]
    }
   ],
   "source": [
    "for n in range(epochs):\n",
    "    for i,meas in enumerate(dl):\n",
    "        samples = meas['samples']\n",
    "        rot = meas['rotation']\n",
    "        rotation = ComplexTensor(rot['real'], rot['imag'])\n",
    "        psi.zero_grad()\n",
    "        loss = psi.nll_loss(samples,rotation=rotation)\n",
    "        loss.backward()\n",
    "        optim.step()\n",
    "        if i%100==0:\n",
    "            with torch.no_grad():\n",
    "                losses.append(loss)\n",
    "                p10.append(psi.prob_normalized(x10))\n",
    "                p01.append(psi.prob_normalized(x01))\n",
    "    print(\"finished epoch %d\" %n)"
   ]
  },
  {
   "cell_type": "code",
   "execution_count": 18,
   "metadata": {},
   "outputs": [
    {
     "data": {
      "text/plain": [
       "[<matplotlib.lines.Line2D at 0x1a12f3e278>]"
      ]
     },
     "execution_count": 18,
     "metadata": {},
     "output_type": "execute_result"
    },
    {
     "data": {
      "image/png": "[encoded data removed]",
      "text/plain": [
       "<matplotlib.figure.Figure at 0x1a114d3a90>"
      ]
     },
     "metadata": {},
     "output_type": "display_data"
    }
   ],
   "source": [
    "%matplotlib inline\n",
    "plt.plot(losses)"
   ]
  },
  {
   "cell_type": "code",
   "execution_count": 19,
   "metadata": {},
   "outputs": [
    {
     "data": {
      "text/plain": [
       "<matplotlib.legend.Legend at 0x1a1173de48>"
      ]
     },
     "execution_count": 19,
     "metadata": {},
     "output_type": "execute_result"
    },
    {
     "data": {
      "image/png": "[encoded data removed]",
      "text/plain": [
       "<matplotlib.figure.Figure at 0x1a1173de10>"
      ]
     },
     "metadata": {},
     "output_type": "display_data"
    }
   ],
   "source": [
    "plt.plot(p10, label=\"1010\")\n",
    "plt.legend()"
   ]
  },
  {
   "cell_type": "markdown",
   "metadata": {},
   "source": [
    "Look at the probability the trained state assigns to each z-basis state"
   ]
  },
  {
   "cell_type": "code",
   "execution_count": 20,
   "metadata": {
    "collapsed": true
   },
   "outputs": [],
   "source": [
    "basis = torch.tensor(generate_binary_space(L),dtype=torch.long)"
   ]
  },
  {
   "cell_type": "code",
   "execution_count": 21,
   "metadata": {
    "scrolled": true
   },
   "outputs": [
    {
     "name": "stdout",
     "output_type": "stream",
     "text": [
      "tensor([1, 1, 1, 1]) has amplitude 0.0515 + i -0.0790, prob 0.0089\n",
      "tensor([1, 1, 1, 0]) has amplitude -0.0754 + i 0.0670, prob 0.0102\n",
      "tensor([1, 1, 0, 1]) has amplitude 0.0345 + i -0.1016, prob 0.0115\n",
      "tensor([1, 1, 0, 0]) has amplitude -0.0543 + i 0.0793, prob 0.0092\n",
      "tensor([1, 0, 1, 1]) has amplitude 0.2161 + i -0.0146, prob 0.0469\n",
      "tensor([1, 0, 1, 0]) has amplitude 0.0127 + i -0.5927, prob 0.3514\n",
      "tensor([1, 0, 0, 1]) has amplitude -0.0684 + i -0.1597, prob 0.0302\n",
      "tensor([1, 0, 0, 0]) has amplitude -0.2149 + i 0.0057, prob 0.0462\n",
      "tensor([0, 1, 1, 1]) has amplitude 0.0904 + i 0.1995, prob 0.0480\n",
      "tensor([0, 1, 1, 0]) has amplitude 0.1714 + i -0.0189, prob 0.0297\n",
      "tensor([0, 1, 0, 1]) has amplitude 0.5017 + i -0.2568, prob 0.3176\n",
      "tensor([0, 1, 0, 0]) has amplitude -0.0963 + i -0.2005, prob 0.0495\n",
      "tensor([0, 0, 1, 1]) has amplitude -0.0594 + i 0.0748, prob 0.0091\n",
      "tensor([0, 0, 1, 0]) has amplitude 0.0791 + i -0.0714, prob 0.0114\n",
      "tensor([0, 0, 0, 1]) has amplitude -0.0283 + i 0.1043, prob 0.0117\n",
      "tensor([0, 0, 0, 0]) has amplitude 0.0540 + i -0.0744, prob 0.0084\n"
     ]
    }
   ],
   "source": [
    "with torch.no_grad():\n",
    "    n = psi.norm().sqrt().item()\n",
    "    for i in range(len(basis)):\n",
    "        a = psi.amplitude(basis[i])\n",
    "        print(\"{0} has amplitude {1:.4f} + i {2:.4f}, prob {3:.4f}\".format(basis[i], \n",
    "                                                                            a.real.item()/n, a.imag.item()/n,\n",
    "                                                                          psi.prob_normalized(basis[i]).item()))"
   ]
  },
  {
   "cell_type": "code",
   "execution_count": 22,
   "metadata": {},
   "outputs": [
    {
     "name": "stdout",
     "output_type": "stream",
     "text": [
      "tensor([1, 1, 1, 1]) has amplitude 0.1509 + i -0.2539\n",
      "tensor([1, 1, 1, 0]) has amplitude -0.0946 + i -0.0502\n",
      "tensor([1, 1, 0, 1]) has amplitude -0.2180 + i -0.1442\n",
      "tensor([1, 1, 0, 0]) has amplitude -0.1527 + i 0.2593\n",
      "tensor([1, 0, 1, 1]) has amplitude 0.2076 + i 0.1340\n",
      "tensor([1, 0, 1, 0]) has amplitude 0.1644 + i -0.2635\n",
      "tensor([1, 0, 0, 1]) has amplitude 0.0673 + i -0.1004\n",
      "tensor([1, 0, 0, 0]) has amplitude -0.2027 + i -0.1380\n",
      "tensor([0, 1, 1, 1]) has amplitude -0.1604 + i -0.1003\n",
      "tensor([0, 1, 1, 0]) has amplitude -0.1634 + i 0.2820\n",
      "tensor([0, 1, 0, 1]) has amplitude 0.1509 + i -0.2256\n",
      "tensor([0, 1, 0, 0]) has amplitude 0.1581 + i 0.1043\n",
      "tensor([0, 0, 1, 1]) has amplitude -0.1600 + i 0.2552\n",
      "tensor([0, 0, 1, 0]) has amplitude 0.0896 + i 0.0421\n",
      "tensor([0, 0, 0, 1]) has amplitude 0.2155 + i 0.1432\n",
      "tensor([0, 0, 0, 0]) has amplitude 0.1536 + i -0.2598\n"
     ]
    }
   ],
   "source": [
    "theta = torch.tensor([[np.pi/2]*L])\n",
    "phi = torch.zeros_like(theta)\n",
    "U = pauli_exp(theta, phi)\n",
    "\n",
    "with torch.no_grad():\n",
    "    n = psi.norm().sqrt().item()\n",
    "    for i in range(len(basis)):\n",
    "        a = psi.amplitude(basis[i],rotation=U)\n",
    "        print(\"{0} has amplitude {1:.4f} + i {2:.4f}\".format(basis[i], a.real.item()/n, a.imag.item()/n))"
   ]
  },
  {
   "cell_type": "code",
   "execution_count": null,
   "metadata": {
    "collapsed": true
   },
   "outputs": [],
   "source": []
  }
 ],
 "metadata": {
  "kernelspec": {
   "display_name": "Python 3",
   "language": "python",
   "name": "python3"
  },
  "language_info": {
   "codemirror_mode": {
    "name": "ipython",
    "version": 3
   },
   "file_extension": ".py",
   "mimetype": "text/x-python",
   "name": "python",
   "nbconvert_exporter": "python",
   "pygments_lexer": "ipython3",
   "version": "3.5.4"
  }
 },
 "nbformat": 4,
 "nbformat_minor": 2
}
