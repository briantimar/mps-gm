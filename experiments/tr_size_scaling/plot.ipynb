{
 "cells": [
  {
   "cell_type": "code",
   "execution_count": 1,
   "metadata": {},
   "outputs": [],
   "source": [
    "import numpy as np\n",
    "import matplotlib.pyplot as plt"
   ]
  },
  {
   "cell_type": "code",
   "execution_count": 2,
   "metadata": {},
   "outputs": [],
   "source": [
    "system_sizes = np.load('data/system_sizes.npy')\n",
    "bond_dims = np.load('data/system_sizes.npy')"
   ]
  },
  {
   "cell_type": "code",
   "execution_count": 26,
   "metadata": {},
   "outputs": [],
   "source": [
    "tr_set_sizes = np.linspace(2e3,2e4,20)\n",
    "threshold=.95"
   ]
  },
  {
   "cell_type": "code",
   "execution_count": 4,
   "metadata": {},
   "outputs": [],
   "source": [
    "fidelities_scaling_L = np.load('data/rand_fidelities_scaling_L_D=2.npy')\n",
    "fidelities_scaling_D = np.load('data/rand_fidelities_scaling_D_L=4.npy')"
   ]
  },
  {
   "cell_type": "code",
   "execution_count": 22,
   "metadata": {},
   "outputs": [],
   "source": [
    "nseed=fidelities_scaling_L.shape[-1]"
   ]
  },
  {
   "cell_type": "code",
   "execution_count": 7,
   "metadata": {},
   "outputs": [],
   "source": [
    "%matplotlib inline"
   ]
  },
  {
   "cell_type": "code",
   "execution_count": 46,
   "metadata": {},
   "outputs": [
    {
     "data": {
      "text/plain": [
       "[<matplotlib.lines.Line2D at 0x7fc277438320>]"
      ]
     },
     "execution_count": 46,
     "metadata": {},
     "output_type": "execute_result"
    },
    {
     "data": {
      "image/png": "[encoded data removed]",
      "text/plain": [
       "<matplotlib.figure.Figure at 0x7fc2776c9cc0>"
      ]
     },
     "metadata": {},
     "output_type": "display_data"
    }
   ],
   "source": [
    "plt.plot(fidelities_scaling_D[-1, :, 0])"
   ]
  },
  {
   "cell_type": "code",
   "execution_count": 11,
   "metadata": {},
   "outputs": [],
   "source": [
    "f = fidelities_scaling_L[0, :,0]"
   ]
  },
  {
   "cell_type": "code",
   "execution_count": 13,
   "metadata": {},
   "outputs": [],
   "source": [
    "c = np.polyfit(tr_set_sizes, f,1)"
   ]
  },
  {
   "cell_type": "code",
   "execution_count": 14,
   "metadata": {},
   "outputs": [
    {
     "data": {
      "text/plain": [
       "array([-7.55452701e-05,  1.12058539e-01])"
      ]
     },
     "execution_count": 14,
     "metadata": {},
     "output_type": "execute_result"
    }
   ],
   "source": [
    "c"
   ]
  },
  {
   "cell_type": "code",
   "execution_count": 30,
   "metadata": {},
   "outputs": [],
   "source": [
    "def get_N_for_threshold(f, threshold):\n",
    "    f = f[f>0]\n",
    "    try:\n",
    "        iabove = np.where(f>threshold)[0][0]\n",
    "    \n",
    "        return int(tr_set_sizes[iabove])\n",
    "    except IndexError:\n",
    "        return -1\n",
    "    "
   ]
  },
  {
   "cell_type": "code",
   "execution_count": 31,
   "metadata": {},
   "outputs": [],
   "source": [
    "Nthresh_scaling_L = np.empty((len(system_sizes),nseed))\n",
    "Nthresh_scaling_D= np.empty((len(bond_dims),nseed))\n"
   ]
  },
  {
   "cell_type": "code",
   "execution_count": 32,
   "metadata": {},
   "outputs": [],
   "source": [
    "for i in range(nseed):\n",
    "    for il in range(len(system_sizes)):\n",
    "        Nthresh_scaling_L[il, i] = get_N_for_threshold(fidelities_scaling_L[il, :, i],threshold)\n",
    "    for iD in range(len(bond_dims)):\n",
    "        Nthresh_scaling_D[iD, i] = get_N_for_threshold(fidelities_scaling_D[iD, :, i],threshold)"
   ]
  },
  {
   "cell_type": "code",
   "execution_count": 33,
   "metadata": {},
   "outputs": [
    {
     "data": {
      "text/plain": [
       "array([[3894., 4842., 6736., 5789., 5789.],\n",
       "       [3894., 3894., 4842., 4842., 4842.],\n",
       "       [4842., 6736., 5789., 5789., 6736.],\n",
       "       [8631., 6736., 6736., 6736., 7684.]])"
      ]
     },
     "execution_count": 33,
     "metadata": {},
     "output_type": "execute_result"
    }
   ],
   "source": [
    "Nthresh_scaling_L"
   ]
  },
  {
   "cell_type": "code",
   "execution_count": 34,
   "metadata": {},
   "outputs": [
    {
     "data": {
      "text/plain": [
       "array([[ 3.8940e+03,  4.8420e+03,  6.7360e+03,  5.7890e+03,  5.7890e+03],\n",
       "       [ 5.7890e+03,  5.7890e+03,  8.6310e+03,  6.7360e+03,  8.6310e+03],\n",
       "       [ 3.8940e+03,  7.6840e+03,  9.5780e+03,  7.6840e+03,  7.6840e+03],\n",
       "       [ 5.7890e+03,  6.7360e+03,  1.0526e+04,  7.6840e+03, -1.0000e+00]])"
      ]
     },
     "execution_count": 34,
     "metadata": {},
     "output_type": "execute_result"
    }
   ],
   "source": [
    "Nthresh_scaling_D"
   ]
  },
  {
   "cell_type": "code",
   "execution_count": 40,
   "metadata": {},
   "outputs": [],
   "source": [
    "NL = len(system_sizes)\n",
    "ND = len(bond_dims)"
   ]
  },
  {
   "cell_type": "code",
   "execution_count": 37,
   "metadata": {},
   "outputs": [],
   "source": [
    "N_L_mean =np.empty(len(system_sizes))\n",
    "N_L_std =np.empty(len(system_sizes))\n",
    "for i in range(len(system_sizes)):\n",
    "    N =Nthresh_scaling_L[i, :]\n",
    "    N_L_mean[i] = np.mean(N[N>0])\n",
    "    N_L_std[i] = np.std(N[N>0])"
   ]
  },
  {
   "cell_type": "code",
   "execution_count": 41,
   "metadata": {},
   "outputs": [],
   "source": [
    "N_D_mean =np.empty(ND)\n",
    "N_D_std =np.empty(ND)\n",
    "for i in range(ND):\n",
    "    N =Nthresh_scaling_D[i, :]\n",
    "    N_D_mean[i] = np.mean(N[N>0])\n",
    "    N_D_std[i] = np.std(N[N>0])"
   ]
  },
  {
   "cell_type": "code",
   "execution_count": 39,
   "metadata": {},
   "outputs": [
    {
     "data": {
      "text/plain": [
       "<Container object of 3 artists>"
      ]
     },
     "execution_count": 39,
     "metadata": {},
     "output_type": "execute_result"
    },
    {
     "data": {
      "image/png": "[encoded data removed]",
      "text/plain": [
       "<matplotlib.figure.Figure at 0x7fc27768e1d0>"
      ]
     },
     "metadata": {},
     "output_type": "display_data"
    }
   ],
   "source": [
    "fig, ax = plt.subplots()\n",
    "plt.errorbar(system_sizes, N_L_mean, yerr=N_L_std)"
   ]
  },
  {
   "cell_type": "code",
   "execution_count": 42,
   "metadata": {},
   "outputs": [
    {
     "data": {
      "text/plain": [
       "<Container object of 3 artists>"
      ]
     },
     "execution_count": 42,
     "metadata": {},
     "output_type": "execute_result"
    },
    {
     "data": {
      "image/png": "[encoded data removed]",
      "text/plain": [
       "<matplotlib.figure.Figure at 0x7fc27775f2b0>"
      ]
     },
     "metadata": {},
     "output_type": "display_data"
    }
   ],
   "source": [
    "fig, ax = plt.subplots()\n",
    "plt.errorbar(bond_dims, N_D_mean, yerr=N_D_std)"
   ]
  },
  {
   "cell_type": "code",
   "execution_count": null,
   "metadata": {},
   "outputs": [],
   "source": []
  }
 ],
 "metadata": {
  "kernelspec": {
   "display_name": "Python 3",
   "language": "python",
   "name": "python3"
  },
  "language_info": {
   "codemirror_mode": {
    "name": "ipython",
    "version": 3
   },
   "file_extension": ".py",
   "mimetype": "text/x-python",
   "name": "python",
   "nbconvert_exporter": "python",
   "pygments_lexer": "ipython3",
   "version": "3.6.8"
  }
 },
 "nbformat": 4,
 "nbformat_minor": 2
}
