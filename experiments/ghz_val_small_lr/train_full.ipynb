{
 "cells": [
  {
   "cell_type": "markdown",
   "metadata": {},
   "source": [
    "## Testing SVD cutoff shaking"
   ]
  },
  {
   "cell_type": "code",
   "execution_count": 26,
   "metadata": {},
   "outputs": [],
   "source": [
    "import sys\n",
    "sys.path.append('../..')"
   ]
  },
  {
   "cell_type": "code",
   "execution_count": 27,
   "metadata": {},
   "outputs": [],
   "source": [
    "import numpy as np\n",
    "import torch\n",
    "\n",
    "from mps.models import MPS, ComplexTensor\n",
    "from mps.utils import build_ghz_plus, train_from_dict\n",
    "from mps.qutip_utils import get_ghz_state as get_qutip_ghz\n",
    "\n",
    "import matplotlib.pyplot as plt\n",
    "import datetime\n",
    "import json"
   ]
  },
  {
   "cell_type": "markdown",
   "metadata": {},
   "source": [
    "Pick system size, dimensionality of local hilbert space, and initial bond dim"
   ]
  },
  {
   "cell_type": "code",
   "execution_count": 28,
   "metadata": {},
   "outputs": [],
   "source": [
    "L=4\n",
    "local_dim=2\n",
    "bond_dim=2"
   ]
  },
  {
   "cell_type": "code",
   "execution_count": 29,
   "metadata": {},
   "outputs": [],
   "source": [
    "# dev = torch.device(\"cuda:0\") if torch.cuda.is_available() else torch.device(\"cpu\")\n",
    "dev = torch.device(\"cpu\")"
   ]
  },
  {
   "cell_type": "markdown",
   "metadata": {},
   "source": [
    "Initialize the MPS model"
   ]
  },
  {
   "cell_type": "code",
   "execution_count": 30,
   "metadata": {},
   "outputs": [],
   "source": [
    "psi = MPS(L=L, local_dim=local_dim, bond_dim=bond_dim)"
   ]
  },
  {
   "cell_type": "code",
   "execution_count": 31,
   "metadata": {},
   "outputs": [],
   "source": [
    "psi.to(device=dev)"
   ]
  },
  {
   "cell_type": "code",
   "execution_count": 32,
   "metadata": {},
   "outputs": [],
   "source": [
    "fname_settings = \"../../datasets/mps_sampled/ghz_plus_L=%d_angles.npy\"%L\n",
    "fname_samples = \"../../datasets/mps_sampled/ghz_plus_L=%d_outcomes.npy\"%L\n",
    "mps_path = \"../../datasets/mps_sampled/ghz_plus_L=%d_state\"%L\n",
    "Nsamp=20000\n"
   ]
  },
  {
   "cell_type": "code",
   "execution_count": 33,
   "metadata": {},
   "outputs": [],
   "source": [
    "fname_training_settings = \"data/training_settings.json\"\n",
    "with open(fname_training_settings) as f:\n",
    "    training_settings = json.load(f)"
   ]
  },
  {
   "cell_type": "code",
   "execution_count": 34,
   "metadata": {},
   "outputs": [],
   "source": [
    "trloss = np.load(\"data/trlosses.npy\")\n",
    "valloss = np.load(\"data/vallosses.npy\")"
   ]
  },
  {
   "cell_type": "code",
   "execution_count": 35,
   "metadata": {},
   "outputs": [
    {
     "data": {
      "text/plain": [
       "[<matplotlib.lines.Line2D at 0x7f547419a9b0>]"
      ]
     },
     "execution_count": 35,
     "metadata": {},
     "output_type": "execute_result"
    },
    {
     "data": {
      "image/png": "[encoded data removed]",
      "text/plain": [
       "<matplotlib.figure.Figure at 0x7f54741ba2b0>"
      ]
     },
     "metadata": {},
     "output_type": "display_data"
    }
   ],
   "source": [
    "fig, ax = plt.subplots()\n",
    "plt.plot(trloss, label=\"tr\")\n",
    "plt.plot(valloss, label=\"val\")"
   ]
  },
  {
   "cell_type": "code",
   "execution_count": 36,
   "metadata": {},
   "outputs": [],
   "source": [
    "training_settings[\"mps_path\"] = mps_path\n"
   ]
  },
  {
   "cell_type": "markdown",
   "metadata": {},
   "source": [
    "Max number of singular values to keep, and cutoff below which to truncate singular values"
   ]
  },
  {
   "cell_type": "code",
   "execution_count": 37,
   "metadata": {
    "scrolled": true
   },
   "outputs": [
    {
     "name": "stdout",
     "output_type": "stream",
     "text": [
      "Successfully loaded 20000 settings, samples for system of size L=4\n",
      "Loaded the following settings:\n",
      "lr_scale = 8.702653e-04\n",
      "lr_timescale = 7.831614e+03\n",
      "s2_scale = 1.640444e-04\n",
      "s2_timescale = 4.272079e+02\n",
      "epochs = 3.400000e+01\n",
      "cutoff = 1.000000e-03\n",
      "max_sv = 2.500000e+01\n",
      "batch_size = 2.560000e+02\n",
      "Hold early cutoff: True\n",
      "loading ground truth MPS from  ../../datasets/mps_sampled/ghz_plus_L=4_state\n",
      "Training on system size 4 with 20000 samples\n",
      "Finished epoch 0 in 1.507 sec\n",
      "Model shape:  [(1, 2), (2, 2), (2, 2), (2, 1)]\n",
      "Finished epoch 1 in 1.525 sec\n",
      "Model shape:  [(1, 2), (2, 2), (2, 2), (2, 1)]\n",
      "Finished epoch 2 in 1.499 sec\n",
      "Model shape:  [(1, 2), (2, 2), (2, 2), (2, 1)]\n",
      "Finished epoch 3 in 1.520 sec\n",
      "Model shape:  [(1, 2), (2, 2), (2, 2), (2, 1)]\n",
      "Finished epoch 4 in 1.511 sec\n",
      "Model shape:  [(1, 2), (2, 2), (2, 2), (2, 1)]\n",
      "Finished epoch 5 in 1.514 sec\n",
      "Model shape:  [(1, 2), (2, 2), (2, 2), (2, 1)]\n",
      "Finished epoch 6 in 1.518 sec\n",
      "Model shape:  [(1, 2), (2, 2), (2, 2), (2, 1)]\n",
      "Finished epoch 7 in 1.519 sec\n",
      "Model shape:  [(1, 2), (2, 2), (2, 2), (2, 1)]\n",
      "Finished epoch 8 in 1.504 sec\n",
      "Model shape:  [(1, 2), (2, 2), (2, 2), (2, 1)]\n",
      "Finished epoch 9 in 1.502 sec\n",
      "Model shape:  [(1, 2), (2, 2), (2, 2), (2, 1)]\n",
      "Finished epoch 10 in 1.525 sec\n",
      "Model shape:  [(1, 2), (2, 2), (2, 2), (2, 1)]\n",
      "Finished epoch 11 in 1.520 sec\n",
      "Model shape:  [(1, 2), (2, 2), (2, 2), (2, 1)]\n",
      "Finished epoch 12 in 1.510 sec\n",
      "Model shape:  [(1, 2), (2, 2), (2, 2), (2, 1)]\n",
      "Finished epoch 13 in 1.506 sec\n",
      "Model shape:  [(1, 2), (2, 2), (2, 2), (2, 1)]\n",
      "Finished epoch 14 in 1.540 sec\n",
      "Model shape:  [(1, 2), (2, 2), (2, 2), (2, 1)]\n",
      "Finished epoch 15 in 1.543 sec\n",
      "Model shape:  [(1, 2), (2, 3), (3, 2), (2, 1)]\n",
      "Finished epoch 16 in 1.556 sec\n",
      "Model shape:  [(1, 2), (2, 3), (3, 2), (2, 1)]\n",
      "Finished epoch 17 in 1.553 sec\n",
      "Model shape:  [(1, 2), (2, 3), (3, 2), (2, 1)]\n",
      "Finished epoch 18 in 1.508 sec\n",
      "Model shape:  [(1, 2), (2, 3), (3, 2), (2, 1)]\n",
      "Finished epoch 19 in 1.512 sec\n",
      "Model shape:  [(1, 2), (2, 3), (3, 2), (2, 1)]\n",
      "Finished epoch 20 in 1.513 sec\n",
      "Model shape:  [(1, 2), (2, 3), (3, 2), (2, 1)]\n",
      "Finished epoch 21 in 1.516 sec\n",
      "Model shape:  [(1, 2), (2, 3), (3, 2), (2, 1)]\n",
      "Finished epoch 22 in 1.571 sec\n",
      "Model shape:  [(1, 2), (2, 3), (3, 2), (2, 1)]\n",
      "Finished epoch 23 in 1.566 sec\n",
      "Model shape:  [(1, 2), (2, 3), (3, 2), (2, 1)]\n",
      "Finished epoch 24 in 1.520 sec\n",
      "Model shape:  [(1, 2), (2, 3), (3, 2), (2, 1)]\n",
      "Finished epoch 25 in 1.508 sec\n",
      "Model shape:  [(1, 2), (2, 3), (3, 2), (2, 1)]\n",
      "Finished epoch 26 in 1.508 sec\n",
      "Model shape:  [(1, 2), (2, 3), (3, 2), (2, 1)]\n",
      "Finished epoch 27 in 1.507 sec\n",
      "Model shape:  [(1, 2), (2, 3), (3, 2), (2, 1)]\n",
      "Finished epoch 28 in 1.506 sec\n",
      "Model shape:  [(1, 2), (2, 3), (3, 2), (2, 1)]\n",
      "Finished epoch 29 in 1.510 sec\n",
      "Model shape:  [(1, 2), (2, 3), (3, 2), (2, 1)]\n",
      "Finished epoch 30 in 1.547 sec\n",
      "Model shape:  [(1, 2), (2, 3), (3, 2), (2, 1)]\n",
      "Finished epoch 31 in 1.551 sec\n",
      "Model shape:  [(1, 2), (2, 3), (3, 2), (2, 1)]\n",
      "Finished epoch 32 in 1.577 sec\n",
      "Model shape:  [(1, 2), (2, 3), (3, 2), (2, 1)]\n",
      "Finished epoch 33 in 1.510 sec\n",
      "Model shape:  [(1, 2), (2, 3), (3, 2), (2, 1)]\n",
      "Finished training\n"
     ]
    }
   ],
   "source": [
    "model, logdict, meta = train_from_dict(fname_samples, fname_settings, training_settings,N=Nsamp,\n",
    "                                   record_eigs=True,record_s2=True,verbose=True,\n",
    "                                   compute_overlaps=False,samples_per_epoch=20)"
   ]
  },
  {
   "cell_type": "code",
   "execution_count": 38,
   "metadata": {},
   "outputs": [],
   "source": [
    "fidelity_mps = logdict['fidelity_mps']\n",
    "\n",
    "loss = logdict['loss']\n",
    "max_bond_dim = logdict['max_bond_dim']\n",
    "eigs = logdict['eigenvalues']\n",
    "s2 = logdict['s2']\n"
   ]
  },
  {
   "cell_type": "code",
   "execution_count": 39,
   "metadata": {},
   "outputs": [
    {
     "data": {
      "text/plain": [
       "Text(0.5,1,'batch NLL loss')"
      ]
     },
     "execution_count": 39,
     "metadata": {},
     "output_type": "execute_result"
    },
    {
     "data": {
      "image/png": "[encoded data removed]",
      "text/plain": [
       "<matplotlib.figure.Figure at 0x7f54741595f8>"
      ]
     },
     "metadata": {},
     "output_type": "display_data"
    }
   ],
   "source": [
    "%matplotlib inline\n",
    "fig, ax = plt.subplots()\n",
    "plt.plot(loss, label='training set')\n",
    "plt.legend()\n",
    "plt.xlabel(\"training step\")\n",
    "plt.title(\"batch NLL loss\")\n"
   ]
  },
  {
   "cell_type": "code",
   "execution_count": 40,
   "metadata": {},
   "outputs": [
    {
     "data": {
      "text/plain": [
       "Text(0.5,1,'Ground truth fidelity')"
      ]
     },
     "execution_count": 40,
     "metadata": {},
     "output_type": "execute_result"
    },
    {
     "data": {
      "image/png": "[encoded data removed]",
      "text/plain": [
       "<matplotlib.figure.Figure at 0x7f5477fc6080>"
      ]
     },
     "metadata": {},
     "output_type": "display_data"
    }
   ],
   "source": [
    "%matplotlib inline\n",
    "fig, ax = plt.subplots()\n",
    "plt.plot(fidelity_mps)\n",
    "plt.xlabel(\"training step\")\n",
    "plt.title(\"Ground truth fidelity\")\n"
   ]
  },
  {
   "cell_type": "code",
   "execution_count": 42,
   "metadata": {},
   "outputs": [
    {
     "data": {
      "text/plain": [
       "Text(0.5,1,'Max bond dimension')"
      ]
     },
     "execution_count": 42,
     "metadata": {},
     "output_type": "execute_result"
    },
    {
     "data": {
      "image/png": "[encoded data removed]",
      "text/plain": [
       "<matplotlib.figure.Figure at 0x7f5474074940>"
      ]
     },
     "metadata": {},
     "output_type": "display_data"
    }
   ],
   "source": [
    "%matplotlib inline\n",
    "fig, ax = plt.subplots()\n",
    "plt.plot(max_bond_dim)\n",
    "plt.xlabel(\"training step\")\n",
    "plt.title(\"Max bond dimension\")\n"
   ]
  },
  {
   "cell_type": "code",
   "execution_count": null,
   "metadata": {},
   "outputs": [],
   "source": []
  }
 ],
 "metadata": {
  "kernelspec": {
   "display_name": "Python 3",
   "language": "python",
   "name": "python3"
  },
  "language_info": {
   "codemirror_mode": {
    "name": "ipython",
    "version": 3
   },
   "file_extension": ".py",
   "mimetype": "text/x-python",
   "name": "python",
   "nbconvert_exporter": "python",
   "pygments_lexer": "ipython3",
   "version": "3.6.8"
  }
 },
 "nbformat": 4,
 "nbformat_minor": 2
}
