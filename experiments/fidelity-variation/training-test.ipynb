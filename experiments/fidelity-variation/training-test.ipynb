{
 "cells": [
  {
   "cell_type": "markdown",
   "metadata": {},
   "source": [
    "Verifying that I can actually train on some qutip ground states..."
   ]
  },
  {
   "cell_type": "code",
   "execution_count": 1,
   "metadata": {},
   "outputs": [],
   "source": [
    "import numpy as np\n",
    "from config import get_qutip_path, get_data_paths\n",
    "import sys\n",
    "sys.path.append('../..')\n",
    "import matplotlib.pyplot as plt"
   ]
  },
  {
   "cell_type": "code",
   "execution_count": 2,
   "metadata": {},
   "outputs": [
    {
     "name": "stdout",
     "output_type": "stream",
     "text": [
      "Loaded libLAPACK.dylib for dgesvd\n"
     ]
    }
   ],
   "source": [
    "from mps.utils import two_phase_training"
   ]
  },
  {
   "cell_type": "code",
   "execution_count": 3,
   "metadata": {
    "collapsed": true
   },
   "outputs": [],
   "source": [
    "L=8\n",
    "name=\"rydberg_ground\"\n",
    "qutip_path = get_qutip_path(name, L)\n",
    "settings_path, samples_path = get_data_paths(name, L)"
   ]
  },
  {
   "cell_type": "code",
   "execution_count": 4,
   "metadata": {
    "collapsed": true
   },
   "outputs": [],
   "source": [
    "settings = {'max_sv': 30, \n",
    "             'lr_scale': .001, \n",
    "             'lr_timescale': 1000, \n",
    "              's2_scale': 0.0, \n",
    "              's2_timescale': 1000, \n",
    "              'cutoff': 1e-3, \n",
    "              'epochs': 10, \n",
    "              'batch_size': 512, \n",
    "              'qutip_path': qutip_path, \n",
    "               'val_fraction': .2\n",
    "               }"
   ]
  },
  {
   "cell_type": "code",
   "execution_count": 5,
   "metadata": {},
   "outputs": [
    {
     "name": "stdout",
     "output_type": "stream",
     "text": [
      "Successfully loaded 10000 settings, samples for system of size L=8\n",
      "Loaded the following settings:\n",
      "lr_scale = 1.000000e-03\n",
      "lr_timescale = 1.000000e+03\n",
      "s2_scale = 0.000000e+00\n",
      "s2_timescale = 1.000000e+03\n",
      "epochs = 1.000000e+01\n",
      "cutoff = 1.000000e-03\n",
      "max_sv = 3.000000e+01\n",
      "batch_size = 5.120000e+02\n",
      "Hold early cutoff: True\n",
      "Wait for tr plateau: False\n",
      "Samples per epoch: 1\n",
      "Val fraction: 0.2\n",
      "Early stopping: False\n",
      "Wait for val plateau: True\n",
      "Loading ground truth qutip state from  /Users/btimar/Dropbox/data/states/qutip/rydberg_ground_L=8\n",
      "Loaded Qobj object:\n",
      "Quantum object: dims = [[2, 2, 2, 2, 2, 2, 2, 2], [1, 1, 1, 1, 1, 1, 1, 1]], shape = (256, 1), type = ket\n",
      "\n",
      "Training on system size 8 with 8000 samples\n",
      "Starting training on model of shape:\n",
      "[(1, 2), (2, 2), (2, 2), (2, 2), (2, 2), (2, 2), (2, 2), (2, 1)]\n",
      "Finished epoch 1 in 3.425 sec\n",
      "Model shape:  [(1, 2), (2, 2), (2, 2), (2, 2), (2, 2), (2, 2), (2, 2), (2, 1)]\n",
      "Finished epoch 2 in 3.062 sec\n",
      "Model shape:  [(1, 2), (2, 2), (2, 2), (2, 2), (2, 2), (2, 2), (2, 2), (2, 1)]\n",
      "Finished epoch 3 in 3.366 sec\n",
      "Model shape:  [(1, 2), (2, 2), (2, 2), (2, 2), (2, 2), (2, 2), (2, 2), (2, 1)]\n",
      "Finished epoch 4 in 3.217 sec\n",
      "Model shape:  [(1, 2), (2, 2), (2, 2), (2, 2), (2, 2), (2, 2), (2, 2), (2, 1)]\n",
      "Finished epoch 5 in 3.251 sec\n",
      "Model shape:  [(1, 2), (2, 2), (2, 2), (2, 2), (2, 2), (2, 2), (2, 2), (2, 1)]\n",
      "Finished epoch 6 in 3.452 sec\n",
      "Model shape:  [(1, 2), (2, 2), (2, 2), (2, 2), (2, 2), (2, 2), (2, 2), (2, 1)]\n",
      "Finished epoch 7 in 3.570 sec\n",
      "Model shape:  [(1, 2), (2, 2), (2, 2), (2, 2), (2, 2), (2, 2), (2, 2), (2, 1)]\n",
      "Finished epoch 8 in 3.862 sec\n",
      "Model shape:  [(1, 2), (2, 2), (2, 2), (2, 2), (2, 2), (2, 2), (2, 2), (2, 1)]\n",
      "Finished epoch 9 in 3.018 sec\n",
      "Model shape:  [(1, 2), (2, 2), (2, 2), (2, 2), (2, 2), (2, 2), (2, 2), (2, 1)]\n",
      "Finished epoch 10 in 3.025 sec\n",
      "Model shape:  [(1, 2), (2, 2), (2, 2), (2, 2), (2, 2), (2, 2), (2, 2), (2, 1)]\n",
      "Finished epoch 11 in 3.078 sec\n",
      "Model shape:  [(1, 2), (2, 2), (2, 2), (2, 2), (2, 2), (2, 2), (2, 2), (2, 1)]\n",
      "Finished epoch 12 in 3.139 sec\n",
      "Model shape:  [(1, 2), (2, 3), (3, 3), (3, 2), (2, 2), (2, 2), (2, 2), (2, 1)]\n",
      "Finished epoch 13 in 3.062 sec\n",
      "Model shape:  [(1, 2), (2, 3), (3, 3), (3, 2), (2, 2), (2, 2), (2, 2), (2, 1)]\n",
      "Finished epoch 14 in 3.097 sec\n",
      "Model shape:  [(1, 2), (2, 3), (3, 3), (3, 2), (2, 2), (2, 2), (2, 2), (2, 1)]\n",
      "Finished epoch 15 in 3.472 sec\n",
      "Model shape:  [(1, 2), (2, 3), (3, 3), (3, 2), (2, 2), (2, 2), (2, 2), (2, 1)]\n",
      "Finished epoch 16 in 3.252 sec\n",
      "Model shape:  [(1, 2), (2, 3), (3, 3), (3, 2), (2, 2), (2, 2), (2, 2), (2, 1)]\n",
      "Finished epoch 17 in 4.188 sec\n",
      "Model shape:  [(1, 2), (2, 3), (3, 3), (3, 2), (2, 3), (3, 3), (3, 2), (2, 1)]\n",
      "Finished epoch 18 in 3.476 sec\n",
      "Model shape:  [(1, 2), (2, 3), (3, 4), (4, 3), (3, 3), (3, 3), (3, 2), (2, 1)]\n",
      "Finished epoch 19 in 3.329 sec\n",
      "Model shape:  [(1, 2), (2, 3), (3, 4), (4, 3), (3, 3), (3, 3), (3, 2), (2, 1)]\n",
      "Finished epoch 20 in 3.353 sec\n",
      "Model shape:  [(1, 2), (2, 3), (3, 4), (4, 3), (3, 3), (3, 3), (3, 2), (2, 1)]\n",
      "Finished epoch 21 in 3.399 sec\n",
      "Model shape:  [(1, 2), (2, 3), (3, 4), (4, 3), (3, 3), (3, 3), (3, 2), (2, 1)]\n",
      "Finished epoch 22 in 3.343 sec\n",
      "Model shape:  [(1, 2), (2, 3), (3, 4), (4, 3), (3, 3), (3, 3), (3, 2), (2, 1)]\n",
      "Finished epoch 23 in 3.386 sec\n",
      "Model shape:  [(1, 2), (2, 3), (3, 4), (4, 3), (3, 3), (3, 3), (3, 2), (2, 1)]\n",
      "Finished epoch 24 in 3.423 sec\n",
      "Model shape:  [(1, 2), (2, 3), (3, 4), (4, 3), (3, 3), (3, 3), (3, 2), (2, 1)]\n",
      "Finished epoch 25 in 3.380 sec\n",
      "Model shape:  [(1, 2), (2, 3), (3, 4), (4, 3), (3, 3), (3, 3), (3, 2), (2, 1)]\n",
      "Finished epoch 26 in 3.505 sec\n",
      "Model shape:  [(1, 2), (2, 3), (3, 4), (4, 3), (3, 3), (3, 3), (3, 2), (2, 1)]\n",
      "Finished epoch 27 in 3.211 sec\n",
      "Model shape:  [(1, 2), (2, 3), (3, 4), (4, 3), (3, 3), (3, 3), (3, 2), (2, 1)]\n",
      "Finished epoch 28 in 3.657 sec\n",
      "Model shape:  [(1, 2), (2, 3), (3, 4), (4, 3), (3, 3), (3, 3), (3, 2), (2, 1)]\n",
      "Finished epoch 29 in 3.802 sec\n",
      "Model shape:  [(1, 2), (2, 3), (3, 4), (4, 3), (3, 3), (3, 3), (3, 2), (2, 1)]\n",
      "Finished epoch 30 in 3.239 sec\n",
      "Model shape:  [(1, 2), (2, 3), (3, 4), (4, 3), (3, 3), (3, 3), (3, 2), (2, 1)]\n",
      "Finished epoch 31 in 3.296 sec\n",
      "Model shape:  [(1, 2), (2, 3), (3, 4), (4, 3), (3, 3), (3, 3), (3, 2), (2, 1)]\n",
      "Finished epoch 32 in 3.414 sec\n",
      "Model shape:  [(1, 2), (2, 3), (3, 4), (4, 3), (3, 3), (3, 3), (3, 2), (2, 1)]\n",
      "Finished epoch 33 in 3.253 sec\n",
      "Model shape:  [(1, 2), (2, 3), (3, 4), (4, 3), (3, 3), (3, 3), (3, 2), (2, 1)]\n",
      "Finished epoch 34 in 3.313 sec\n",
      "Model shape:  [(1, 2), (2, 3), (3, 4), (4, 3), (3, 3), (3, 3), (3, 2), (2, 1)]\n",
      "Finished epoch 35 in 3.420 sec\n",
      "Model shape:  [(1, 2), (2, 3), (3, 4), (4, 3), (3, 3), (3, 3), (3, 2), (2, 1)]\n",
      "Finished epoch 36 in 3.345 sec\n",
      "Model shape:  [(1, 2), (2, 3), (3, 4), (4, 3), (3, 3), (3, 3), (3, 2), (2, 1)]\n",
      "Finished epoch 37 in 3.358 sec\n",
      "Model shape:  [(1, 2), (2, 3), (3, 4), (4, 3), (3, 3), (3, 3), (3, 2), (2, 1)]\n",
      "Finished epoch 38 in 3.422 sec\n",
      "Model shape:  [(1, 2), (2, 3), (3, 4), (4, 3), (3, 3), (3, 3), (3, 2), (2, 1)]\n",
      "Finished epoch 39 in 3.586 sec\n",
      "Model shape:  [(1, 2), (2, 3), (3, 4), (4, 3), (3, 3), (3, 3), (3, 2), (2, 1)]\n",
      "Finished epoch 40 in 3.464 sec\n",
      "Model shape:  [(1, 2), (2, 3), (3, 4), (4, 3), (3, 3), (3, 3), (3, 2), (2, 1)]\n",
      "Finished epoch 41 in 3.541 sec\n",
      "Model shape:  [(1, 2), (2, 3), (3, 4), (4, 3), (3, 3), (3, 3), (3, 2), (2, 1)]\n",
      "Finished epoch 42 in 3.608 sec\n",
      "Model shape:  [(1, 2), (2, 3), (3, 4), (4, 3), (3, 3), (3, 3), (3, 2), (2, 1)]\n",
      "Finished epoch 43 in 3.567 sec\n",
      "Model shape:  [(1, 2), (2, 3), (3, 4), (4, 3), (3, 3), (3, 3), (3, 2), (2, 1)]\n",
      "Finished epoch 44 in 3.503 sec\n",
      "Model shape:  [(1, 2), (2, 3), (3, 4), (4, 3), (3, 3), (3, 3), (3, 2), (2, 1)]\n",
      "Finished epoch 45 in 3.444 sec\n",
      "Model shape:  [(1, 2), (2, 3), (3, 4), (4, 3), (3, 3), (3, 3), (3, 2), (2, 1)]\n",
      "Finished epoch 46 in 3.311 sec\n",
      "Model shape:  [(1, 2), (2, 3), (3, 4), (4, 3), (3, 3), (3, 3), (3, 2), (2, 1)]\n",
      "Finished epoch 47 in 3.584 sec\n",
      "Model shape:  [(1, 2), (2, 3), (3, 4), (4, 3), (3, 3), (3, 3), (3, 2), (2, 1)]\n",
      "Finished epoch 48 in 3.469 sec\n",
      "Model shape:  [(1, 2), (2, 3), (3, 4), (4, 3), (3, 3), (3, 3), (3, 2), (2, 1)]\n",
      "Finished epoch 49 in 3.429 sec\n",
      "Model shape:  [(1, 2), (2, 3), (3, 4), (4, 3), (3, 3), (3, 3), (3, 2), (2, 1)]\n",
      "Finished epoch 50 in 3.428 sec\n",
      "Model shape:  [(1, 2), (2, 3), (3, 4), (4, 3), (3, 3), (3, 3), (3, 2), (2, 1)]\n",
      "Finished epoch 51 in 3.611 sec\n",
      "Model shape:  [(1, 2), (2, 3), (3, 4), (4, 3), (3, 3), (3, 3), (3, 2), (2, 1)]\n",
      "Val score not decreasing\n",
      "Finished epoch 52 in 3.466 sec\n",
      "Model shape:  [(1, 2), (2, 3), (3, 4), (4, 3), (3, 3), (3, 3), (3, 2), (2, 1)]\n",
      "Finished training\n",
      "Successfully loaded 10000 settings, samples for system of size L=8\n",
      "Loaded the following settings:\n",
      "lr_scale = 1.000000e-03\n",
      "lr_timescale = 1.000000e+03\n",
      "s2_scale = 0.000000e+00\n",
      "s2_timescale = 1.000000e+03\n",
      "epochs = 1.000000e+01\n",
      "cutoff = 1.000000e-03\n",
      "max_sv = 3.000000e+01\n",
      "batch_size = 5.120000e+02\n",
      "Hold early cutoff: False\n",
      "Wait for tr plateau: True\n",
      "Samples per epoch: 1\n",
      "Training on supplied model\n",
      "Loading ground truth qutip state from  /Users/btimar/Dropbox/data/states/qutip/rydberg_ground_L=8\n",
      "Loaded Qobj object:\n",
      "Quantum object: dims = [[2, 2, 2, 2, 2, 2, 2, 2], [1, 1, 1, 1, 1, 1, 1, 1]], shape = (256, 1), type = ket\n",
      "\n",
      "Training on system size 8 with 10000 samples\n",
      "Starting training on model of shape:\n",
      "[(1, 2), (2, 3), (3, 4), (4, 3), (3, 3), (3, 3), (3, 2), (2, 1)]\n",
      "Finished epoch 53 in 4.303 sec\n",
      "Model shape:  [(1, 2), (2, 3), (3, 4), (4, 3), (3, 3), (3, 3), (3, 2), (2, 1)]\n",
      "Finished epoch 54 in 4.306 sec\n",
      "Model shape:  [(1, 2), (2, 3), (3, 4), (4, 3), (3, 3), (3, 3), (3, 2), (2, 1)]\n",
      "Finished epoch 55 in 4.450 sec\n",
      "Model shape:  [(1, 2), (2, 3), (3, 4), (4, 3), (3, 3), (3, 3), (3, 2), (2, 1)]\n",
      "Finished epoch 56 in 4.312 sec\n",
      "Model shape:  [(1, 2), (2, 3), (3, 4), (4, 3), (3, 3), (3, 3), (3, 2), (2, 1)]\n",
      "Finished epoch 57 in 4.370 sec\n",
      "Model shape:  [(1, 2), (2, 3), (3, 4), (4, 3), (3, 3), (3, 3), (3, 2), (2, 1)]\n",
      "Finished epoch 58 in 4.289 sec\n",
      "Model shape:  [(1, 2), (2, 3), (3, 4), (4, 3), (3, 3), (3, 3), (3, 2), (2, 1)]\n",
      "Finished epoch 59 in 4.036 sec\n",
      "Model shape:  [(1, 2), (2, 3), (3, 4), (4, 3), (3, 3), (3, 3), (3, 2), (2, 1)]\n",
      "Finished epoch 60 in 4.171 sec\n",
      "Model shape:  [(1, 2), (2, 3), (3, 4), (4, 3), (3, 3), (3, 3), (3, 2), (2, 1)]\n"
     ]
    },
    {
     "name": "stdout",
     "output_type": "stream",
     "text": [
      "Finished epoch 61 in 4.402 sec\n",
      "Model shape:  [(1, 2), (2, 3), (3, 4), (4, 3), (3, 3), (3, 3), (3, 2), (2, 1)]\n",
      "Finished epoch 62 in 4.321 sec\n",
      "Model shape:  [(1, 2), (2, 3), (3, 4), (4, 3), (3, 3), (3, 3), (3, 2), (2, 1)]\n",
      "Finished epoch 63 in 4.312 sec\n",
      "Model shape:  [(1, 2), (2, 3), (3, 4), (4, 3), (3, 3), (3, 3), (3, 2), (2, 1)]\n",
      "Training plateau not reached, continuing...\n",
      "Finished epoch 64 in 4.346 sec\n",
      "Model shape:  [(1, 2), (2, 3), (3, 4), (4, 3), (3, 3), (3, 3), (3, 2), (2, 1)]\n",
      "Training plateau not reached, continuing...\n",
      "Finished epoch 65 in 4.637 sec\n",
      "Model shape:  [(1, 2), (2, 3), (3, 4), (4, 3), (3, 3), (3, 3), (3, 2), (2, 1)]\n",
      "Training plateau not reached, continuing...\n",
      "Finished epoch 66 in 4.489 sec\n",
      "Model shape:  [(1, 2), (2, 3), (3, 4), (4, 3), (3, 3), (3, 3), (3, 2), (2, 1)]\n",
      "Training plateau not reached, continuing...\n",
      "Finished epoch 67 in 5.188 sec\n",
      "Model shape:  [(1, 2), (2, 3), (3, 4), (4, 3), (3, 3), (3, 3), (3, 2), (2, 1)]\n",
      "Training plateau not reached, continuing...\n",
      "Finished epoch 68 in 4.629 sec\n",
      "Model shape:  [(1, 2), (2, 3), (3, 4), (4, 3), (3, 3), (3, 3), (3, 2), (2, 1)]\n",
      "Training plateau not reached, continuing...\n",
      "Finished epoch 69 in 6.012 sec\n",
      "Model shape:  [(1, 2), (2, 3), (3, 4), (4, 3), (3, 3), (3, 3), (3, 2), (2, 1)]\n",
      "Training plateau not reached, continuing...\n",
      "Finished epoch 70 in 4.556 sec\n",
      "Model shape:  [(1, 2), (2, 3), (3, 4), (4, 3), (3, 3), (3, 3), (3, 2), (2, 1)]\n",
      "Training plateau not reached, continuing...\n",
      "Finished epoch 71 in 4.962 sec\n",
      "Model shape:  [(1, 2), (2, 3), (3, 4), (4, 3), (3, 3), (3, 3), (3, 2), (2, 1)]\n",
      "Training plateau not reached, continuing...\n",
      "Finished epoch 72 in 4.243 sec\n",
      "Model shape:  [(1, 2), (2, 3), (3, 4), (4, 3), (3, 3), (3, 3), (3, 2), (2, 1)]\n",
      "Training plateau not reached, continuing...\n",
      "Finished epoch 73 in 4.119 sec\n",
      "Model shape:  [(1, 2), (2, 3), (3, 4), (4, 3), (3, 3), (3, 3), (3, 2), (2, 1)]\n",
      "Training plateau not reached, continuing...\n",
      "Finished epoch 74 in 4.376 sec\n",
      "Model shape:  [(1, 2), (2, 3), (3, 4), (4, 3), (3, 3), (3, 3), (3, 2), (2, 1)]\n",
      "Training plateau not reached, continuing...\n",
      "Finished epoch 75 in 4.367 sec\n",
      "Model shape:  [(1, 2), (2, 3), (3, 4), (4, 3), (3, 3), (3, 3), (3, 2), (2, 1)]\n",
      "Training plateau not reached, continuing...\n",
      "Finished epoch 76 in 4.002 sec\n",
      "Model shape:  [(1, 2), (2, 3), (3, 4), (4, 3), (3, 3), (3, 3), (3, 2), (2, 1)]\n",
      "Training plateau not reached, continuing...\n",
      "Finished epoch 77 in 4.233 sec\n",
      "Model shape:  [(1, 2), (2, 3), (3, 4), (4, 3), (3, 3), (3, 3), (3, 2), (2, 1)]\n",
      "Training plateau not reached, continuing...\n",
      "Finished epoch 78 in 4.067 sec\n",
      "Model shape:  [(1, 2), (2, 3), (3, 4), (4, 3), (3, 3), (3, 3), (3, 2), (2, 1)]\n",
      "Training plateau not reached, continuing...\n",
      "Finished epoch 79 in 4.740 sec\n",
      "Model shape:  [(1, 2), (2, 3), (3, 4), (4, 3), (3, 3), (3, 3), (3, 2), (2, 1)]\n",
      "Training plateau not reached, continuing...\n",
      "Finished epoch 80 in 4.239 sec\n",
      "Model shape:  [(1, 2), (2, 3), (3, 4), (4, 3), (3, 3), (3, 3), (3, 2), (2, 1)]\n",
      "Finished epoch 81 in 4.111 sec\n",
      "Model shape:  [(1, 2), (2, 3), (3, 4), (4, 3), (3, 3), (3, 3), (3, 2), (2, 1)]\n",
      "Finished training\n"
     ]
    }
   ],
   "source": [
    "model, logdict, meta = two_phase_training(samples_path, settings_path, settings)"
   ]
  },
  {
   "cell_type": "code",
   "execution_count": 9,
   "metadata": {
    "collapsed": true
   },
   "outputs": [],
   "source": [
    "%matplotlib inline"
   ]
  },
  {
   "cell_type": "code",
   "execution_count": 10,
   "metadata": {},
   "outputs": [
    {
     "data": {
      "text/plain": [
       "[<matplotlib.lines.Line2D at 0x1120e0198>]"
      ]
     },
     "execution_count": 10,
     "metadata": {},
     "output_type": "execute_result"
    },
    {
     "data": {
      "image/png": "[encoded data removed]",
      "text/plain": [
       "<matplotlib.figure.Figure at 0x10c72f048>"
      ]
     },
     "metadata": {},
     "output_type": "display_data"
    }
   ],
   "source": [
    "fig, ax = plt.subplots()\n",
    "plt.plot(logdict['fidelity_qutip'])"
   ]
  },
  {
   "cell_type": "code",
   "execution_count": null,
   "metadata": {
    "collapsed": true
   },
   "outputs": [],
   "source": []
  }
 ],
 "metadata": {
  "kernelspec": {
   "display_name": "Python 3",
   "language": "python",
   "name": "python3"
  },
  "language_info": {
   "codemirror_mode": {
    "name": "ipython",
    "version": 3
   },
   "file_extension": ".py",
   "mimetype": "text/x-python",
   "name": "python",
   "nbconvert_exporter": "python",
   "pygments_lexer": "ipython3",
   "version": "3.5.4"
  }
 },
 "nbformat": 4,
 "nbformat_minor": 2
}
