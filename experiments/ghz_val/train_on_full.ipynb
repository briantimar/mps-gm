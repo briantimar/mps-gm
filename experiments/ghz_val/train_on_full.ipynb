{
 "cells": [
  {
   "cell_type": "code",
   "execution_count": 15,
   "metadata": {},
   "outputs": [],
   "source": [
    "import numpy as np\n",
    "import matplotlib.pyplot as plt\n",
    "import json\n",
    "import sys\n",
    "sys.path.append('../..')\n",
    "import torch"
   ]
  },
  {
   "cell_type": "code",
   "execution_count": 23,
   "metadata": {},
   "outputs": [],
   "source": [
    "from utils import train_from_dataset, MeasurementDataset, make_exp_schedule\n",
    "from qtools import pauli_exp\n",
    "from models import MPS"
   ]
  },
  {
   "cell_type": "code",
   "execution_count": 28,
   "metadata": {},
   "outputs": [],
   "source": [
    "trlosses = np.load(\"data/trlosses.npy\")\n",
    "vallosses = np.load(\"data/vallosses.npy\")\n",
    "params = np.load(\"data/validated_params.npy\").item()\n",
    "with open(\"data/metadata.json\") as f:\n",
    "    metadata=json.load(f)"
   ]
  },
  {
   "cell_type": "code",
   "execution_count": 8,
   "metadata": {},
   "outputs": [
    {
     "data": {
      "text/plain": [
       "<matplotlib.legend.Legend at 0x7f75423a2ac8>"
      ]
     },
     "execution_count": 8,
     "metadata": {},
     "output_type": "execute_result"
    },
    {
     "data": {
      "image/png": "[encoded data removed]",
      "text/plain": [
       "<matplotlib.figure.Figure at 0x7f754a92dd68>"
      ]
     },
     "metadata": {},
     "output_type": "display_data"
    }
   ],
   "source": [
    "fig, ax = plt.subplots()\n",
    "plt.plot(trlosses, label=\"tr\")\n",
    "plt.plot(vallosses, label=\"val\")\n",
    "plt.legend()"
   ]
  },
  {
   "cell_type": "code",
   "execution_count": 21,
   "metadata": {},
   "outputs": [],
   "source": [
    "L=4 \n",
    "fname_settings = \"../../datasets/mps_sampled/ghz_plus_L=%d_angles.npy\"%L\n",
    "fname_samples = \"../../datasets/mps_sampled/ghz_plus_L=%d_outcomes.npy\"%L\n",
    "Nsamp=20000\n",
    "samples = np.load(fname_samples)[:Nsamp]\n",
    "samples_tr = torch.tensor((1-samples)/2).to(dtype=torch.long)\n",
    "settings = np.load(fname_settings)[:Nsamp]\n",
    "\n",
    "theta = torch.tensor(settings[...,0],dtype=torch.float32)\n",
    "phi = torch.tensor(settings[...,1],dtype=torch.float32)\n",
    "U = pauli_exp(theta, phi)\n",
    "ds = MeasurementDataset(samples=samples_tr,rotations=U)\n"
   ]
  },
  {
   "cell_type": "code",
   "execution_count": 24,
   "metadata": {},
   "outputs": [],
   "source": [
    "ground_truth_mps = MPS(L, 2, 2)\n",
    "ground_truth_mps.load(\"../../datasets/mps_sampled/ghz_plus_L=%d_state\"%L)"
   ]
  },
  {
   "cell_type": "code",
   "execution_count": 43,
   "metadata": {},
   "outputs": [],
   "source": [
    "lr = make_exp_schedule(params['lr_scale'], params['lr_timescale'])\n",
    "s2_penalty = make_exp_schedule(params['s2_scale'], params['s2_timescale'])\n",
    "epochs = 2*len(trlosses)\n",
    "batch_size = metadata['batch_size']\n",
    "cutoff=metadata['cutoff']\n",
    "max_sv_to_keep = metadata['max_sv']\n",
    "\n",
    "\n"
   ]
  },
  {
   "cell_type": "code",
   "execution_count": 44,
   "metadata": {},
   "outputs": [
    {
     "name": "stdout",
     "output_type": "stream",
     "text": [
      "Training on system size 4 with 20000 samples\n",
      "Finished epoch 0 in 1.023 sec\n",
      "Model shape:  [(1, 2), (2, 4), (4, 2), (2, 1)]\n"
     ]
    },
    {
     "name": "stderr",
     "output_type": "stream",
     "text": [
      "../../utils.py:746: UserWarning: overlap estimate failed to converge within tolerance 1.00e-02\n",
      "  warnings.warn(\"overlap estimate failed to converge within tolerance {0:.2e}\".format(eps))\n"
     ]
    },
    {
     "name": "stdout",
     "output_type": "stream",
     "text": [
      "Finished epoch 1 in 1.564 sec\n",
      "Model shape:  [(1, 2), (2, 4), (4, 2), (2, 1)]\n",
      "Finished epoch 2 in 0.728 sec\n",
      "Model shape:  [(1, 2), (2, 4), (4, 2), (2, 1)]\n",
      "Finished epoch 3 in 1.563 sec\n",
      "Model shape:  [(1, 2), (2, 4), (4, 2), (2, 1)]\n",
      "Finished epoch 4 in 0.813 sec\n",
      "Model shape:  [(1, 2), (2, 4), (4, 2), (2, 1)]\n",
      "Finished epoch 5 in 1.257 sec\n",
      "Model shape:  [(1, 2), (2, 4), (4, 2), (2, 1)]\n",
      "Finished epoch 6 in 1.181 sec\n",
      "Model shape:  [(1, 2), (2, 4), (4, 2), (2, 1)]\n",
      "Finished epoch 7 in 1.640 sec\n",
      "Model shape:  [(1, 2), (2, 4), (4, 2), (2, 1)]\n",
      "Finished epoch 8 in 1.638 sec\n",
      "Model shape:  [(1, 2), (2, 4), (4, 2), (2, 1)]\n",
      "Finished epoch 9 in 1.048 sec\n",
      "Model shape:  [(1, 2), (2, 4), (4, 2), (2, 1)]\n",
      "Finished epoch 10 in 1.561 sec\n",
      "Model shape:  [(1, 2), (2, 4), (4, 2), (2, 1)]\n",
      "Finished epoch 11 in 0.814 sec\n",
      "Model shape:  [(1, 2), (2, 4), (4, 2), (2, 1)]\n",
      "Finished epoch 12 in 1.138 sec\n",
      "Model shape:  [(1, 2), (2, 4), (4, 2), (2, 1)]\n",
      "Finished epoch 13 in 0.816 sec\n",
      "Model shape:  [(1, 2), (2, 4), (4, 2), (2, 1)]\n",
      "Finished epoch 14 in 0.926 sec\n",
      "Model shape:  [(1, 2), (2, 4), (4, 2), (2, 1)]\n",
      "Finished epoch 15 in 1.520 sec\n",
      "Model shape:  [(1, 2), (2, 4), (4, 2), (2, 1)]\n",
      "Finished epoch 16 in 0.985 sec\n",
      "Model shape:  [(1, 2), (2, 4), (4, 2), (2, 1)]\n",
      "Finished epoch 17 in 0.851 sec\n",
      "Model shape:  [(1, 2), (2, 4), (4, 2), (2, 1)]\n",
      "Finished epoch 18 in 0.777 sec\n",
      "Model shape:  [(1, 2), (2, 4), (4, 2), (2, 1)]\n",
      "Finished epoch 19 in 1.681 sec\n",
      "Model shape:  [(1, 2), (2, 4), (4, 2), (2, 1)]\n",
      "Finished epoch 20 in 1.059 sec\n",
      "Model shape:  [(1, 2), (2, 4), (4, 2), (2, 1)]\n",
      "Finished epoch 21 in 1.660 sec\n",
      "Model shape:  [(1, 2), (2, 4), (4, 2), (2, 1)]\n",
      "Finished epoch 22 in 0.781 sec\n",
      "Model shape:  [(1, 2), (2, 4), (4, 2), (2, 1)]\n",
      "Finished epoch 23 in 0.771 sec\n",
      "Model shape:  [(1, 2), (2, 4), (4, 2), (2, 1)]\n",
      "Finished epoch 24 in 0.974 sec\n",
      "Model shape:  [(1, 2), (2, 4), (4, 2), (2, 1)]\n",
      "Finished epoch 25 in 1.108 sec\n",
      "Model shape:  [(1, 2), (2, 4), (4, 2), (2, 1)]\n",
      "Finished epoch 26 in 1.066 sec\n",
      "Model shape:  [(1, 2), (2, 4), (4, 2), (2, 1)]\n",
      "Finished epoch 27 in 0.843 sec\n",
      "Model shape:  [(1, 2), (2, 4), (4, 2), (2, 1)]\n",
      "Finished epoch 28 in 1.539 sec\n",
      "Model shape:  [(1, 2), (2, 4), (4, 2), (2, 1)]\n",
      "Finished epoch 29 in 1.141 sec\n",
      "Model shape:  [(1, 2), (2, 4), (4, 2), (2, 1)]\n",
      "Finished epoch 30 in 1.022 sec\n",
      "Model shape:  [(1, 2), (2, 4), (4, 2), (2, 1)]\n",
      "Finished epoch 31 in 1.566 sec\n",
      "Model shape:  [(1, 2), (2, 4), (4, 2), (2, 1)]\n",
      "Finished epoch 32 in 1.138 sec\n",
      "Model shape:  [(1, 2), (2, 4), (4, 2), (2, 1)]\n",
      "Finished epoch 33 in 0.931 sec\n",
      "Model shape:  [(1, 2), (2, 4), (4, 2), (2, 1)]\n"
     ]
    }
   ],
   "source": [
    "model, logdict = train_from_dataset(ds, lr, batch_size, epochs, \n",
    "                                   s2_penalty=s2_penalty, cutoff=cutoff, \n",
    "                                   max_sv_to_keep=max_sv_to_keep, ground_truth_mps=ground_truth_mps,\n",
    "                                   use_cache=True, record_eigs=False,record_s2=True,verbose=True,\n",
    "                                   early_stopping=True,compute_overlaps=True)"
   ]
  },
  {
   "cell_type": "code",
   "execution_count": 45,
   "metadata": {},
   "outputs": [],
   "source": [
    "fidelity_mps = logdict['fidelity_mps']\n",
    "fidelity_qutip = logdict['fidelity_qutip']\n",
    "loss = logdict['loss']\n",
    "max_bond_dim = logdict['max_bond_dim']\n",
    "eigs = logdict['eigenvalues']\n",
    "s2 = logdict['s2']\n",
    "val_loss = logdict['val_loss']\n",
    "overlap = logdict['overlap']"
   ]
  },
  {
   "cell_type": "code",
   "execution_count": 46,
   "metadata": {},
   "outputs": [
    {
     "data": {
      "text/plain": [
       "Text(0.5,1,'batch NLL loss')"
      ]
     },
     "execution_count": 46,
     "metadata": {},
     "output_type": "execute_result"
    },
    {
     "data": {
      "image/png": "[encoded data removed]",
      "text/plain": [
       "<matplotlib.figure.Figure at 0x7f74f81ea630>"
      ]
     },
     "metadata": {},
     "output_type": "display_data"
    }
   ],
   "source": [
    "%matplotlib inline\n",
    "fig, ax = plt.subplots()\n",
    "plt.plot(loss, label='training set')\n",
    "plt.plot(val_loss, label='val set')\n",
    "plt.legend()\n",
    "plt.xlabel(\"training step\")\n",
    "plt.title(\"batch NLL loss\")\n"
   ]
  },
  {
   "cell_type": "code",
   "execution_count": 47,
   "metadata": {},
   "outputs": [
    {
     "data": {
      "text/plain": [
       "Text(0.5,1,'Overlap during training')"
      ]
     },
     "execution_count": 47,
     "metadata": {},
     "output_type": "execute_result"
    },
    {
     "data": {
      "image/png": "[encoded data removed]",
      "text/plain": [
       "<matplotlib.figure.Figure at 0x7f74f848cc88>"
      ]
     },
     "metadata": {},
     "output_type": "display_data"
    }
   ],
   "source": [
    "fig, ax = plt.subplots()\n",
    "plt.plot(range(epochs), fidelity_mps**2, label='mps overlap')\n",
    "\n",
    "c = overlap['converged']\n",
    "plt.errorbar(np.arange(epochs)[c], overlap['mean'][c], yerr=overlap['err'][c], marker='o', linestyle='none', \n",
    "            label=\"random unitary estimate\")\n",
    "plt.legend()\n",
    "plt.xlabel('epoch')\n",
    "plt.title(\"Overlap during training\")"
   ]
  },
  {
   "cell_type": "code",
   "execution_count": 48,
   "metadata": {},
   "outputs": [
    {
     "data": {
      "text/plain": [
       "array([0.47049964, 0.65244679, 0.78330935, 0.87253894, 0.92568183,\n",
       "       0.95774486, 0.97526105, 0.98505123, 0.99055196, 0.9936725 ,\n",
       "       0.99552567, 0.99675508, 0.99758593, 0.99814056, 0.99854994,\n",
       "       0.99884518, 0.99908466, 0.99925632, 0.99938087, 0.99947573,\n",
       "       0.99953548, 0.99959368, 0.99965463, 0.99968476, 0.99969069,\n",
       "       0.99972381, 0.9997445 , 0.99975958, 0.99977077, 0.99977674,\n",
       "       0.99978389, 0.99979155, 0.99977634, 0.99977938])"
      ]
     },
     "execution_count": 48,
     "metadata": {},
     "output_type": "execute_result"
    }
   ],
   "source": [
    "fidelity_mps"
   ]
  },
  {
   "cell_type": "code",
   "execution_count": null,
   "metadata": {},
   "outputs": [],
   "source": []
  }
 ],
 "metadata": {
  "kernelspec": {
   "display_name": "Python 3",
   "language": "python",
   "name": "python3"
  },
  "language_info": {
   "codemirror_mode": {
    "name": "ipython",
    "version": 3
   },
   "file_extension": ".py",
   "mimetype": "text/x-python",
   "name": "python",
   "nbconvert_exporter": "python",
   "pygments_lexer": "ipython3",
   "version": "3.6.8"
  }
 },
 "nbformat": 4,
 "nbformat_minor": 2
}
