{
 "cells": [
  {
   "cell_type": "code",
   "execution_count": 1,
   "metadata": {},
   "outputs": [],
   "source": [
    "import numpy as np\n",
    "import matplotlib.pyplot as plt\n",
    "import json\n",
    "import sys\n",
    "sys.path.append('../..')\n",
    "import torch\n",
    "import os"
   ]
  },
  {
   "cell_type": "code",
   "execution_count": 2,
   "metadata": {},
   "outputs": [
    {
     "name": "stdout",
     "output_type": "stream",
     "text": [
      "Loaded libmkl_rt.so for dgesvd\n"
     ]
    }
   ],
   "source": [
    "from mps.utils import train_from_dataset, MeasurementDataset, make_exp_schedule\n",
    "from mps.utils import train_from_filepath\n",
    "from mps.qtools import pauli_exp\n",
    "from mps.models import MPS"
   ]
  },
  {
   "cell_type": "code",
   "execution_count": 3,
   "metadata": {},
   "outputs": [],
   "source": [
    "trlosses = np.load(\"data/trlosses.npy\")\n",
    "vallosses = np.load(\"data/vallosses.npy\")\n",
    "params = np.load(\"data/validated_params.npy\").item()\n",
    "with open(\"data/metadata.json\") as f:\n",
    "    val_metadata=json.load(f)"
   ]
  },
  {
   "cell_type": "code",
   "execution_count": 4,
   "metadata": {},
   "outputs": [
    {
     "data": {
      "text/plain": [
       "<matplotlib.legend.Legend at 0x7f16fa7c0160>"
      ]
     },
     "execution_count": 4,
     "metadata": {},
     "output_type": "execute_result"
    },
    {
     "data": {
      "image/png": "[encoded data removed]",
      "text/plain": [
       "<matplotlib.figure.Figure at 0x7f16fdb966d8>"
      ]
     },
     "metadata": {},
     "output_type": "display_data"
    }
   ],
   "source": [
    "fig, ax = plt.subplots()\n",
    "plt.plot(trlosses, label=\"tr\")\n",
    "plt.plot(vallosses, label=\"val\")\n",
    "plt.legend()"
   ]
  },
  {
   "cell_type": "markdown",
   "metadata": {},
   "source": [
    "Prepare and write a json file for the full training script"
   ]
  },
  {
   "cell_type": "code",
   "execution_count": 5,
   "metadata": {},
   "outputs": [],
   "source": [
    "training_settings = val_metadata.copy()"
   ]
  },
  {
   "cell_type": "code",
   "execution_count": 6,
   "metadata": {},
   "outputs": [],
   "source": [
    "for p in ['lr_scale', 'lr_timescale', 's2_scale', 's2_timescale']:\n",
    "    training_settings[p] = params[p]"
   ]
  },
  {
   "cell_type": "code",
   "execution_count": 7,
   "metadata": {},
   "outputs": [],
   "source": [
    "L=4\n",
    "fname_angles = \"../../datasets/mps_sampled/ghz_plus_L=%d_angles.npy\"%L\n",
    "fname_samples = \"../../datasets/mps_sampled/ghz_plus_L=%d_outcomes.npy\"%L\n",
    "fname_state = \"../../datasets/mps_sampled/ghz_plus_L=%d_state\"%L\n",
    "output_dir = \"./data\"\n",
    "Nsamp=20000\n"
   ]
  },
  {
   "cell_type": "code",
   "execution_count": 8,
   "metadata": {},
   "outputs": [],
   "source": [
    "training_settings['mps_path'] = fname_state"
   ]
  },
  {
   "cell_type": "markdown",
   "metadata": {},
   "source": [
    "Update with the actual number of epochs used"
   ]
  },
  {
   "cell_type": "code",
   "execution_count": 9,
   "metadata": {},
   "outputs": [],
   "source": [
    "epochs = int(1.0*len(trlosses))\n",
    "training_settings['epochs'] = epochs"
   ]
  },
  {
   "cell_type": "code",
   "execution_count": 10,
   "metadata": {},
   "outputs": [],
   "source": [
    "fname_training_settings = os.path.join(output_dir, 'training_settings.json')"
   ]
  },
  {
   "cell_type": "code",
   "execution_count": 11,
   "metadata": {},
   "outputs": [],
   "source": [
    "with open(os.path.join(output_dir, 'training_settings.json'), 'w') as f:\n",
    "    json.dump(training_settings, f)"
   ]
  },
  {
   "cell_type": "code",
   "execution_count": 12,
   "metadata": {},
   "outputs": [
    {
     "name": "stdout",
     "output_type": "stream",
     "text": [
      "Successfully loaded 20000 settings, samples for system of size L=4\n",
      "Loading training settings from ./data/training_settings.json\n",
      "Loaded the following settings:\n",
      "lr_scale = 1.165400e-02\n",
      "lr_timescale = 9.058899e+01\n",
      "s2_scale = 3.107953e-06\n",
      "s2_timescale = 7.610777e+01\n",
      "epochs = 1.500000e+01\n",
      "cutoff = 1.000000e-05\n",
      "max_sv = 1.000000e+01\n",
      "batch_size = 1.024000e+03\n",
      "loading ground truth MPS from  ../../datasets/mps_sampled/ghz_plus_L=4_state\n",
      "Training on system size 4 with 20000 samples\n",
      "Finished epoch 0 in 1.191 sec\n",
      "Model shape:  [(1, 2), (2, 4), (4, 2), (2, 1)]\n",
      "Finished epoch 1 in 1.133 sec\n",
      "Model shape:  [(1, 2), (2, 4), (4, 2), (2, 1)]\n",
      "Finished epoch 2 in 0.906 sec\n",
      "Model shape:  [(1, 2), (2, 4), (4, 2), (2, 1)]\n",
      "Finished epoch 3 in 0.719 sec\n",
      "Model shape:  [(1, 2), (2, 4), (4, 2), (2, 1)]\n",
      "Finished epoch 4 in 0.909 sec\n",
      "Model shape:  [(1, 2), (2, 4), (4, 2), (2, 1)]\n",
      "Finished epoch 5 in 0.721 sec\n",
      "Model shape:  [(1, 2), (2, 4), (4, 2), (2, 1)]\n",
      "Finished epoch 6 in 0.722 sec\n",
      "Model shape:  [(1, 2), (2, 4), (4, 2), (2, 1)]\n",
      "Finished epoch 7 in 0.906 sec\n",
      "Model shape:  [(1, 2), (2, 4), (4, 2), (2, 1)]\n",
      "Finished epoch 8 in 0.721 sec\n",
      "Model shape:  [(1, 2), (2, 4), (4, 2), (2, 1)]\n",
      "Finished epoch 9 in 1.304 sec\n",
      "Model shape:  [(1, 2), (2, 4), (4, 2), (2, 1)]\n",
      "Finished epoch 10 in 1.081 sec\n",
      "Model shape:  [(1, 2), (2, 4), (4, 2), (2, 1)]\n"
     ]
    },
    {
     "name": "stderr",
     "output_type": "stream",
     "text": [
      "../../mps/utils.py:851: UserWarning: overlap estimate failed to converge within tolerance 1.00e-02\n",
      "  warnings.warn(\"overlap estimate failed to converge within tolerance {0:.2e}\".format(eps))\n"
     ]
    },
    {
     "name": "stdout",
     "output_type": "stream",
     "text": [
      "Finished epoch 11 in 1.621 sec\n",
      "Model shape:  [(1, 2), (2, 4), (4, 2), (2, 1)]\n",
      "Finished epoch 12 in 1.134 sec\n",
      "Model shape:  [(1, 2), (2, 4), (4, 2), (2, 1)]\n",
      "Finished epoch 13 in 0.856 sec\n",
      "Model shape:  [(1, 2), (2, 4), (4, 2), (2, 1)]\n",
      "Finished epoch 14 in 1.413 sec\n",
      "Model shape:  [(1, 2), (2, 4), (4, 2), (2, 1)]\n",
      "Finished training\n"
     ]
    }
   ],
   "source": [
    "model, logdict, meta = train_from_filepath(fname_samples, fname_angles,\n",
    "                                           fname_training_settings, \n",
    "                                           N=Nsamp,\n",
    "                                           numpy_seed=0,\n",
    "                                       use_cache=True, record_eigs=False,record_s2=True,verbose=True,\n",
    "                                       compute_overlaps=True)"
   ]
  },
  {
   "cell_type": "code",
   "execution_count": 13,
   "metadata": {},
   "outputs": [],
   "source": [
    "fidelity_mps = logdict['fidelity_mps']\n",
    "fidelity_qutip = logdict['fidelity_qutip']\n",
    "loss = logdict['loss']\n",
    "max_bond_dim = logdict['max_bond_dim']\n",
    "eigs = logdict['eigenvalues']\n",
    "s2 = logdict['s2']\n",
    "val_loss = logdict['val_loss']\n",
    "overlap = logdict['overlap']"
   ]
  },
  {
   "cell_type": "code",
   "execution_count": 14,
   "metadata": {},
   "outputs": [
    {
     "data": {
      "text/plain": [
       "Text(0.5,1,'batch NLL loss')"
      ]
     },
     "execution_count": 14,
     "metadata": {},
     "output_type": "execute_result"
    },
    {
     "data": {
      "image/png": "[encoded data removed]",
      "text/plain": [
       "<matplotlib.figure.Figure at 0x7f16fa711240>"
      ]
     },
     "metadata": {},
     "output_type": "display_data"
    }
   ],
   "source": [
    "%matplotlib inline\n",
    "fig, ax = plt.subplots()\n",
    "plt.plot(loss, label='training set')\n",
    "plt.plot(val_loss, label='val set')\n",
    "plt.legend()\n",
    "plt.xlabel(\"training step\")\n",
    "plt.title(\"batch NLL loss\")\n"
   ]
  },
  {
   "cell_type": "code",
   "execution_count": 15,
   "metadata": {},
   "outputs": [
    {
     "data": {
      "text/plain": [
       "Text(0.5,1,'Overlap during training')"
      ]
     },
     "execution_count": 15,
     "metadata": {},
     "output_type": "execute_result"
    },
    {
     "data": {
      "image/png": "[encoded data removed]",
      "text/plain": [
       "<matplotlib.figure.Figure at 0x7f16fa2a49e8>"
      ]
     },
     "metadata": {},
     "output_type": "display_data"
    }
   ],
   "source": [
    "fig, ax = plt.subplots()\n",
    "plt.plot(range(epochs), fidelity_mps**2, label='mps overlap')\n",
    "\n",
    "c = overlap['converged']\n",
    "plt.errorbar(np.arange(epochs)[c], overlap['mean'][c], yerr=overlap['err'][c], marker='o', linestyle='none', \n",
    "            label=\"random unitary estimate\")\n",
    "plt.legend()\n",
    "plt.xlabel('epoch')\n",
    "plt.title(\"Overlap during training\")"
   ]
  }
 ],
 "metadata": {
  "kernelspec": {
   "display_name": "Python 3",
   "language": "python",
   "name": "python3"
  },
  "language_info": {
   "codemirror_mode": {
    "name": "ipython",
    "version": 3
   },
   "file_extension": ".py",
   "mimetype": "text/x-python",
   "name": "python",
   "nbconvert_exporter": "python",
   "pygments_lexer": "ipython3",
   "version": "3.6.8"
  }
 },
 "nbformat": 4,
 "nbformat_minor": 2
}
