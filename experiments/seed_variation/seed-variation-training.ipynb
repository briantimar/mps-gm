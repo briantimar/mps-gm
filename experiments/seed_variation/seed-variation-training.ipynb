{
 "cells": [
  {
   "cell_type": "code",
   "execution_count": 1,
   "metadata": {},
   "outputs": [],
   "source": [
    "import numpy as np\n",
    "import matplotlib.pyplot as plt\n",
    "import sys\n",
    "sys.path.append('../..')\n",
    "import json\n",
    "import os"
   ]
  },
  {
   "cell_type": "code",
   "execution_count": 34,
   "metadata": {},
   "outputs": [],
   "source": [
    "from mps.models import MPS\n",
    "from mps.utils import two_phase_training, build_random_mps"
   ]
  },
  {
   "cell_type": "code",
   "execution_count": 3,
   "metadata": {},
   "outputs": [],
   "source": [
    "L=4\n",
    "N=10000\n",
    "D=16\n",
    "source_root = \"../../datasets/mps_sampled/rand_L=%d_D=%d\"%(L,D)\n",
    "fname_angles = source_root + \"_angles.npy\"\n",
    "fname_outcomes = source_root + \"_outcomes.npy\"\n",
    "fname_state = source_root + \"_state\""
   ]
  },
  {
   "cell_type": "code",
   "execution_count": 4,
   "metadata": {},
   "outputs": [],
   "source": [
    "max_sv=2"
   ]
  },
  {
   "cell_type": "code",
   "execution_count": 13,
   "metadata": {},
   "outputs": [],
   "source": [
    "from mps.models import MPS"
   ]
  },
  {
   "cell_type": "code",
   "execution_count": 50,
   "metadata": {},
   "outputs": [
    {
     "name": "stdout",
     "output_type": "stream",
     "text": [
      "[(1, 16), (16, 8), (8, 4), (4, 2), (2, 1)]\n"
     ]
    }
   ],
   "source": [
    "psi=MPS(L=5, local_dim=2, bond_dim=16)\n",
    "print(psi.shape)"
   ]
  },
  {
   "cell_type": "code",
   "execution_count": 39,
   "metadata": {},
   "outputs": [],
   "source": [
    "psi = MPS(L=L,local_dim=2,bond_dim=16)\n",
    "phi = build_random_mps(L,D)"
   ]
  },
  {
   "cell_type": "code",
   "execution_count": 32,
   "metadata": {},
   "outputs": [],
   "source": [
    "psi.load(fname_state)"
   ]
  },
  {
   "cell_type": "code",
   "execution_count": 28,
   "metadata": {},
   "outputs": [
    {
     "data": {
      "text/plain": [
       "'../../datasets/mps_sampled/rand_L=4_D=16_state'"
      ]
     },
     "execution_count": 28,
     "metadata": {},
     "output_type": "execute_result"
    }
   ],
   "source": [
    "fname_state"
   ]
  },
  {
   "cell_type": "code",
   "execution_count": 40,
   "metadata": {},
   "outputs": [
    {
     "data": {
      "text/plain": [
       "[(1, 8), (8, 4), (4, 2), (2, 1)]"
      ]
     },
     "execution_count": 40,
     "metadata": {},
     "output_type": "execute_result"
    }
   ],
   "source": [
    "psi.shape"
   ]
  },
  {
   "cell_type": "code",
   "execution_count": 5,
   "metadata": {},
   "outputs": [],
   "source": [
    "trsettings = dict(epochs=10,lr_scale=1e-3,lr_timescale=1000,s2_scale=0, s2_timescale=1000,\n",
    "                     batch_size=512,cutoff=1e-3, max_sv=max_sv,val_fraction=.2, early_stopping=False, \n",
    "                     mps_path=fname_state, samples_per_epoch=2)"
   ]
  },
  {
   "cell_type": "code",
   "execution_count": 6,
   "metadata": {},
   "outputs": [],
   "source": [
    "data_output = \"data/rand_L=%d_D=%d_maxsv=%d\"%(L,D,max_sv)"
   ]
  },
  {
   "cell_type": "code",
   "execution_count": 7,
   "metadata": {},
   "outputs": [],
   "source": [
    "with open(os.path.join(data_output, 'trsettings.json'), 'w') as f:\n",
    "    json.dump(trsettings, f)"
   ]
  },
  {
   "cell_type": "code",
   "execution_count": 8,
   "metadata": {},
   "outputs": [],
   "source": [
    "numseed=25"
   ]
  },
  {
   "cell_type": "markdown",
   "metadata": {},
   "source": [
    "Here, for a fixed dataset, train with various seeds on state known to be MPS-representable"
   ]
  },
  {
   "cell_type": "code",
   "execution_count": 9,
   "metadata": {},
   "outputs": [],
   "source": [
    "losses = []\n",
    "val_losses = []\n",
    "fidelities=[]\n",
    "s2 = []\n",
    "bond_dims = []"
   ]
  },
  {
   "cell_type": "code",
   "execution_count": 10,
   "metadata": {},
   "outputs": [
    {
     "name": "stdout",
     "output_type": "stream",
     "text": [
      "Training on seed 0\n",
      "loading ground truth MPS from  ../../datasets/mps_sampled/rand_L=4_D=16_state\n",
      "loading ground truth MPS from  ../../datasets/mps_sampled/rand_L=4_D=16_state\n",
      "Training on seed 1\n",
      "loading ground truth MPS from  ../../datasets/mps_sampled/rand_L=4_D=16_state\n",
      "loading ground truth MPS from  ../../datasets/mps_sampled/rand_L=4_D=16_state\n",
      "Training on seed 2\n",
      "loading ground truth MPS from  ../../datasets/mps_sampled/rand_L=4_D=16_state\n",
      "loading ground truth MPS from  ../../datasets/mps_sampled/rand_L=4_D=16_state\n",
      "Training on seed 3\n",
      "loading ground truth MPS from  ../../datasets/mps_sampled/rand_L=4_D=16_state\n",
      "loading ground truth MPS from  ../../datasets/mps_sampled/rand_L=4_D=16_state\n",
      "Training on seed 4\n",
      "loading ground truth MPS from  ../../datasets/mps_sampled/rand_L=4_D=16_state\n",
      "loading ground truth MPS from  ../../datasets/mps_sampled/rand_L=4_D=16_state\n",
      "Training on seed 5\n",
      "loading ground truth MPS from  ../../datasets/mps_sampled/rand_L=4_D=16_state\n",
      "loading ground truth MPS from  ../../datasets/mps_sampled/rand_L=4_D=16_state\n",
      "Training on seed 6\n",
      "loading ground truth MPS from  ../../datasets/mps_sampled/rand_L=4_D=16_state\n",
      "loading ground truth MPS from  ../../datasets/mps_sampled/rand_L=4_D=16_state\n",
      "Training on seed 7\n",
      "loading ground truth MPS from  ../../datasets/mps_sampled/rand_L=4_D=16_state\n",
      "loading ground truth MPS from  ../../datasets/mps_sampled/rand_L=4_D=16_state\n",
      "Training on seed 8\n",
      "loading ground truth MPS from  ../../datasets/mps_sampled/rand_L=4_D=16_state\n",
      "loading ground truth MPS from  ../../datasets/mps_sampled/rand_L=4_D=16_state\n",
      "Training on seed 9\n",
      "loading ground truth MPS from  ../../datasets/mps_sampled/rand_L=4_D=16_state\n",
      "loading ground truth MPS from  ../../datasets/mps_sampled/rand_L=4_D=16_state\n",
      "Training on seed 10\n",
      "loading ground truth MPS from  ../../datasets/mps_sampled/rand_L=4_D=16_state\n",
      "loading ground truth MPS from  ../../datasets/mps_sampled/rand_L=4_D=16_state\n",
      "Training on seed 11\n",
      "loading ground truth MPS from  ../../datasets/mps_sampled/rand_L=4_D=16_state\n",
      "loading ground truth MPS from  ../../datasets/mps_sampled/rand_L=4_D=16_state\n",
      "Training on seed 12\n",
      "loading ground truth MPS from  ../../datasets/mps_sampled/rand_L=4_D=16_state\n",
      "loading ground truth MPS from  ../../datasets/mps_sampled/rand_L=4_D=16_state\n",
      "Training on seed 13\n",
      "loading ground truth MPS from  ../../datasets/mps_sampled/rand_L=4_D=16_state\n",
      "loading ground truth MPS from  ../../datasets/mps_sampled/rand_L=4_D=16_state\n",
      "Training on seed 14\n",
      "loading ground truth MPS from  ../../datasets/mps_sampled/rand_L=4_D=16_state\n",
      "loading ground truth MPS from  ../../datasets/mps_sampled/rand_L=4_D=16_state\n",
      "Training on seed 15\n",
      "loading ground truth MPS from  ../../datasets/mps_sampled/rand_L=4_D=16_state\n",
      "loading ground truth MPS from  ../../datasets/mps_sampled/rand_L=4_D=16_state\n",
      "Training on seed 16\n",
      "loading ground truth MPS from  ../../datasets/mps_sampled/rand_L=4_D=16_state\n",
      "loading ground truth MPS from  ../../datasets/mps_sampled/rand_L=4_D=16_state\n",
      "Training on seed 17\n",
      "loading ground truth MPS from  ../../datasets/mps_sampled/rand_L=4_D=16_state\n",
      "loading ground truth MPS from  ../../datasets/mps_sampled/rand_L=4_D=16_state\n",
      "Training on seed 18\n",
      "loading ground truth MPS from  ../../datasets/mps_sampled/rand_L=4_D=16_state\n",
      "loading ground truth MPS from  ../../datasets/mps_sampled/rand_L=4_D=16_state\n",
      "Training on seed 19\n",
      "loading ground truth MPS from  ../../datasets/mps_sampled/rand_L=4_D=16_state\n",
      "loading ground truth MPS from  ../../datasets/mps_sampled/rand_L=4_D=16_state\n",
      "Training on seed 20\n",
      "loading ground truth MPS from  ../../datasets/mps_sampled/rand_L=4_D=16_state\n",
      "loading ground truth MPS from  ../../datasets/mps_sampled/rand_L=4_D=16_state\n",
      "Training on seed 21\n",
      "loading ground truth MPS from  ../../datasets/mps_sampled/rand_L=4_D=16_state\n",
      "loading ground truth MPS from  ../../datasets/mps_sampled/rand_L=4_D=16_state\n",
      "Training on seed 22\n",
      "loading ground truth MPS from  ../../datasets/mps_sampled/rand_L=4_D=16_state\n",
      "loading ground truth MPS from  ../../datasets/mps_sampled/rand_L=4_D=16_state\n",
      "Training on seed 23\n",
      "loading ground truth MPS from  ../../datasets/mps_sampled/rand_L=4_D=16_state\n",
      "loading ground truth MPS from  ../../datasets/mps_sampled/rand_L=4_D=16_state\n",
      "Training on seed 24\n",
      "loading ground truth MPS from  ../../datasets/mps_sampled/rand_L=4_D=16_state\n",
      "loading ground truth MPS from  ../../datasets/mps_sampled/rand_L=4_D=16_state\n"
     ]
    }
   ],
   "source": [
    "for ii in range(numseed):\n",
    "    print(\"Training on seed\", ii)\n",
    "    __, logdict, __ = two_phase_training(fname_outcomes, fname_angles, trsettings,\n",
    "                                        N=N,numpy_seed=0,seed=ii,record_s2=True,verbose=False)\n",
    "    losses.append(logdict['loss'])\n",
    "    val_losses.append(logdict['val_loss'])\n",
    "    fidelities.append(logdict['fidelity_mps'])\n",
    "    s2.append(logdict['s2'])\n",
    "    bond_dims.append(logdict['max_bond_dim'])"
   ]
  },
  {
   "cell_type": "code",
   "execution_count": 12,
   "metadata": {},
   "outputs": [],
   "source": [
    "np.save(os.path.join(data_output, \"losses\"), losses)\n",
    "np.save(os.path.join(data_output, \"val_losses\"), val_losses)\n",
    "np.save(os.path.join(data_output, \"fidelities\"), fidelities)\n",
    "np.save(os.path.join(data_output, \"s2\"), s2)\n",
    "np.save(os.path.join(data_output, \"max_bond_dims\"),bond_dims)"
   ]
  },
  {
   "cell_type": "code",
   "execution_count": null,
   "metadata": {},
   "outputs": [],
   "source": []
  }
 ],
 "metadata": {
  "kernelspec": {
   "display_name": "Python 3",
   "language": "python",
   "name": "python3"
  },
  "language_info": {
   "codemirror_mode": {
    "name": "ipython",
    "version": 3
   },
   "file_extension": ".py",
   "mimetype": "text/x-python",
   "name": "python",
   "nbconvert_exporter": "python",
   "pygments_lexer": "ipython3",
   "version": "3.6.8"
  }
 },
 "nbformat": 4,
 "nbformat_minor": 2
}
