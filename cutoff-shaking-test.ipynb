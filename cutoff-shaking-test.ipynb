{
 "cells": [
  {
   "cell_type": "markdown",
   "metadata": {},
   "source": [
    "## Testing SVD cutoff shaking"
   ]
  },
  {
   "cell_type": "code",
   "execution_count": 1,
   "metadata": {},
   "outputs": [
    {
     "name": "stdout",
     "output_type": "stream",
     "text": [
      "Loaded libmkl_rt.so for dgesvd\n"
     ]
    }
   ],
   "source": [
    "import numpy as np\n",
    "import torch\n",
    "\n",
    "from mps.models import MPS, ComplexTensor\n",
    "from mps.utils import build_ghz_plus, train_from_dict\n",
    "from mps.qutip_utils import get_ghz_state as get_qutip_ghz\n",
    "\n",
    "import matplotlib.pyplot as plt\n",
    "import datetime\n",
    "import json"
   ]
  },
  {
   "cell_type": "markdown",
   "metadata": {},
   "source": [
    "Pick system size, dimensionality of local hilbert space, and initial bond dim"
   ]
  },
  {
   "cell_type": "code",
   "execution_count": 2,
   "metadata": {},
   "outputs": [],
   "source": [
    "L=6\n",
    "local_dim=2\n",
    "bond_dim=2"
   ]
  },
  {
   "cell_type": "code",
   "execution_count": 3,
   "metadata": {},
   "outputs": [],
   "source": [
    "# dev = torch.device(\"cuda:0\") if torch.cuda.is_available() else torch.device(\"cpu\")\n",
    "dev = torch.device(\"cpu\")"
   ]
  },
  {
   "cell_type": "markdown",
   "metadata": {},
   "source": [
    "Initialize the MPS model"
   ]
  },
  {
   "cell_type": "code",
   "execution_count": 4,
   "metadata": {},
   "outputs": [],
   "source": [
    "psi = MPS(L=L, local_dim=local_dim, bond_dim=bond_dim)"
   ]
  },
  {
   "cell_type": "code",
   "execution_count": 5,
   "metadata": {},
   "outputs": [],
   "source": [
    "psi.to(device=dev)"
   ]
  },
  {
   "cell_type": "markdown",
   "metadata": {},
   "source": [
    "The ground truth state (a ghz state with no phase)"
   ]
  },
  {
   "cell_type": "code",
   "execution_count": 6,
   "metadata": {},
   "outputs": [],
   "source": [
    "ghz_plus = build_ghz_plus(L)\n",
    "ghz_plus.to(device=dev)\n",
    "ghz_qutip = get_qutip_ghz(L,phase=0)"
   ]
  },
  {
   "cell_type": "code",
   "execution_count": 7,
   "metadata": {},
   "outputs": [],
   "source": [
    "fname_settings = \"datasets/mps_sampled/ghz_plus_L=%d_angles.npy\"%L\n",
    "fname_samples = \"datasets/mps_sampled/ghz_plus_L=%d_outcomes.npy\"%L\n",
    "mps_path = \"datasets/mps_sampled/ghz_plus_L=%d_state\"%L\n",
    "Nsamp=20000\n"
   ]
  },
  {
   "cell_type": "code",
   "execution_count": 8,
   "metadata": {},
   "outputs": [],
   "source": [
    "fname_training_settings = \"experiments/ghz_val/data/training_settings.json\"\n",
    "with open(fname_training_settings) as f:\n",
    "    training_settings = json.load(f)"
   ]
  },
  {
   "cell_type": "code",
   "execution_count": 9,
   "metadata": {},
   "outputs": [],
   "source": [
    "training_settings[\"mps_path\"] = mps_path\n",
    "training_settings[\"max_sv\"] = 25\n",
    "training_settings[\"hold_early_cutoff\"]= True\n",
    "training_settings[\"epochs\"]=50\n",
    "training_settings['lr_scale']=1e-3\n",
    "training_settings[\"batch_size\"] = 1024\n",
    "training_settings['cutoff']=1e-3\n"
   ]
  },
  {
   "cell_type": "markdown",
   "metadata": {},
   "source": [
    "Max number of singular values to keep, and cutoff below which to truncate singular values"
   ]
  },
  {
   "cell_type": "code",
   "execution_count": 10,
   "metadata": {
    "scrolled": true
   },
   "outputs": [
    {
     "name": "stdout",
     "output_type": "stream",
     "text": [
      "Successfully loaded 20000 settings, samples for system of size L=6\n",
      "Loaded the following settings:\n",
      "lr_scale = 1.000000e-03\n",
      "lr_timescale = 9.058899e+01\n",
      "s2_scale = 3.107953e-06\n",
      "s2_timescale = 7.610777e+01\n",
      "epochs = 5.000000e+01\n",
      "cutoff = 1.000000e-03\n",
      "max_sv = 2.500000e+01\n",
      "batch_size = 1.024000e+03\n",
      "Hold early cutoff: True\n",
      "loading ground truth MPS from  datasets/mps_sampled/ghz_plus_L=6_state\n",
      "Training on system size 6 with 20000 samples\n",
      "Finished epoch 0 in 1.280 sec\n",
      "Model shape:  [(1, 2), (2, 2), (2, 2), (2, 2), (2, 2), (2, 1)]\n",
      "Finished epoch 1 in 1.278 sec\n",
      "Model shape:  [(1, 2), (2, 2), (2, 2), (2, 2), (2, 2), (2, 1)]\n",
      "Finished epoch 2 in 1.281 sec\n",
      "Model shape:  [(1, 2), (2, 2), (2, 2), (2, 2), (2, 2), (2, 1)]\n",
      "Finished epoch 3 in 1.288 sec\n",
      "Model shape:  [(1, 2), (2, 2), (2, 2), (2, 2), (2, 2), (2, 1)]\n",
      "Finished epoch 4 in 1.287 sec\n",
      "Model shape:  [(1, 2), (2, 2), (2, 2), (2, 2), (2, 2), (2, 1)]\n",
      "Finished epoch 5 in 1.281 sec\n",
      "Model shape:  [(1, 2), (2, 2), (2, 2), (2, 2), (2, 2), (2, 1)]\n",
      "Finished epoch 6 in 1.282 sec\n",
      "Model shape:  [(1, 2), (2, 2), (2, 2), (2, 2), (2, 2), (2, 1)]\n",
      "Finished epoch 7 in 1.282 sec\n",
      "Model shape:  [(1, 2), (2, 2), (2, 2), (2, 2), (2, 2), (2, 1)]\n",
      "Finished epoch 8 in 1.282 sec\n",
      "Model shape:  [(1, 2), (2, 2), (2, 2), (2, 2), (2, 2), (2, 1)]\n",
      "Finished epoch 9 in 1.279 sec\n",
      "Model shape:  [(1, 2), (2, 2), (2, 2), (2, 2), (2, 2), (2, 1)]\n",
      "Finished epoch 10 in 1.282 sec\n",
      "Model shape:  [(1, 2), (2, 2), (2, 2), (2, 2), (2, 2), (2, 1)]\n",
      "Finished epoch 11 in 1.284 sec\n",
      "Model shape:  [(1, 2), (2, 2), (2, 2), (2, 2), (2, 2), (2, 1)]\n",
      "Finished epoch 12 in 1.280 sec\n",
      "Model shape:  [(1, 2), (2, 2), (2, 2), (2, 2), (2, 2), (2, 1)]\n",
      "Finished epoch 13 in 1.292 sec\n",
      "Model shape:  [(1, 2), (2, 2), (2, 3), (3, 2), (2, 2), (2, 1)]\n",
      "Finished epoch 14 in 1.293 sec\n",
      "Model shape:  [(1, 2), (2, 2), (2, 3), (3, 2), (2, 2), (2, 1)]\n",
      "Finished epoch 15 in 1.302 sec\n",
      "Model shape:  [(1, 2), (2, 3), (3, 3), (3, 2), (2, 2), (2, 1)]\n",
      "Finished epoch 16 in 1.306 sec\n",
      "Model shape:  [(1, 2), (2, 3), (3, 3), (3, 2), (2, 2), (2, 1)]\n",
      "Finished epoch 17 in 1.304 sec\n",
      "Model shape:  [(1, 2), (2, 3), (3, 3), (3, 2), (2, 2), (2, 1)]\n",
      "Finished epoch 18 in 1.303 sec\n",
      "Model shape:  [(1, 2), (2, 3), (3, 3), (3, 2), (2, 2), (2, 1)]\n",
      "Finished epoch 19 in 1.307 sec\n",
      "Model shape:  [(1, 2), (2, 3), (3, 3), (3, 2), (2, 2), (2, 1)]\n",
      "Finished epoch 20 in 1.303 sec\n",
      "Model shape:  [(1, 2), (2, 3), (3, 3), (3, 2), (2, 2), (2, 1)]\n",
      "Finished epoch 21 in 1.303 sec\n",
      "Model shape:  [(1, 2), (2, 3), (3, 3), (3, 2), (2, 2), (2, 1)]\n",
      "Finished epoch 22 in 1.306 sec\n",
      "Model shape:  [(1, 2), (2, 3), (3, 3), (3, 2), (2, 2), (2, 1)]\n",
      "Finished epoch 23 in 1.306 sec\n",
      "Model shape:  [(1, 2), (2, 3), (3, 3), (3, 2), (2, 2), (2, 1)]\n",
      "Finished epoch 24 in 1.304 sec\n",
      "Model shape:  [(1, 2), (2, 3), (3, 3), (3, 2), (2, 2), (2, 1)]\n",
      "Finished epoch 25 in 1.304 sec\n",
      "Model shape:  [(1, 2), (2, 3), (3, 3), (3, 2), (2, 2), (2, 1)]\n",
      "Finished epoch 26 in 1.307 sec\n",
      "Model shape:  [(1, 2), (2, 3), (3, 3), (3, 2), (2, 2), (2, 1)]\n",
      "Finished epoch 27 in 1.304 sec\n",
      "Model shape:  [(1, 2), (2, 3), (3, 3), (3, 2), (2, 2), (2, 1)]\n",
      "Finished epoch 28 in 1.303 sec\n",
      "Model shape:  [(1, 2), (2, 3), (3, 3), (3, 2), (2, 2), (2, 1)]\n",
      "Finished epoch 29 in 1.304 sec\n",
      "Model shape:  [(1, 2), (2, 3), (3, 3), (3, 2), (2, 2), (2, 1)]\n",
      "Finished epoch 30 in 1.304 sec\n",
      "Model shape:  [(1, 2), (2, 3), (3, 3), (3, 2), (2, 2), (2, 1)]\n",
      "Finished epoch 31 in 1.305 sec\n",
      "Model shape:  [(1, 2), (2, 3), (3, 3), (3, 2), (2, 2), (2, 1)]\n",
      "Finished epoch 32 in 1.305 sec\n",
      "Model shape:  [(1, 2), (2, 3), (3, 3), (3, 2), (2, 2), (2, 1)]\n",
      "Finished epoch 33 in 1.306 sec\n",
      "Model shape:  [(1, 2), (2, 3), (3, 3), (3, 2), (2, 2), (2, 1)]\n",
      "Finished epoch 34 in 1.307 sec\n",
      "Model shape:  [(1, 2), (2, 3), (3, 3), (3, 2), (2, 2), (2, 1)]\n",
      "Finished epoch 35 in 1.288 sec\n",
      "Model shape:  [(1, 2), (2, 3), (3, 3), (3, 2), (2, 2), (2, 1)]\n",
      "Finished epoch 36 in 1.305 sec\n",
      "Model shape:  [(1, 2), (2, 3), (3, 3), (3, 2), (2, 2), (2, 1)]\n",
      "Finished epoch 37 in 1.318 sec\n",
      "Model shape:  [(1, 2), (2, 3), (3, 3), (3, 2), (2, 2), (2, 1)]\n",
      "Finished epoch 38 in 1.322 sec\n",
      "Model shape:  [(1, 2), (2, 3), (3, 3), (3, 2), (2, 2), (2, 1)]\n",
      "Finished epoch 39 in 1.291 sec\n",
      "Model shape:  [(1, 2), (2, 3), (3, 3), (3, 2), (2, 2), (2, 1)]\n",
      "Finished epoch 40 in 1.308 sec\n",
      "Model shape:  [(1, 2), (2, 3), (3, 3), (3, 2), (2, 2), (2, 1)]\n",
      "Finished epoch 41 in 1.306 sec\n",
      "Model shape:  [(1, 2), (2, 3), (3, 3), (3, 2), (2, 2), (2, 1)]\n",
      "Finished epoch 42 in 1.303 sec\n",
      "Model shape:  [(1, 2), (2, 3), (3, 3), (3, 2), (2, 2), (2, 1)]\n",
      "Finished epoch 43 in 1.307 sec\n",
      "Model shape:  [(1, 2), (2, 3), (3, 3), (3, 2), (2, 2), (2, 1)]\n",
      "Finished epoch 44 in 1.305 sec\n",
      "Model shape:  [(1, 2), (2, 3), (3, 3), (3, 2), (2, 2), (2, 1)]\n",
      "Finished epoch 45 in 1.304 sec\n",
      "Model shape:  [(1, 2), (2, 3), (3, 3), (3, 2), (2, 2), (2, 1)]\n",
      "Finished epoch 46 in 1.305 sec\n",
      "Model shape:  [(1, 2), (2, 3), (3, 3), (3, 2), (2, 2), (2, 1)]\n",
      "Finished epoch 47 in 1.302 sec\n",
      "Model shape:  [(1, 2), (2, 3), (3, 3), (3, 2), (2, 2), (2, 1)]\n",
      "Finished epoch 48 in 1.305 sec\n",
      "Model shape:  [(1, 2), (2, 3), (3, 3), (3, 2), (2, 2), (2, 1)]\n",
      "Finished epoch 49 in 1.303 sec\n",
      "Model shape:  [(1, 2), (2, 3), (3, 3), (3, 2), (2, 2), (2, 1)]\n",
      "Finished training\n"
     ]
    }
   ],
   "source": [
    "model, logdict, meta = train_from_dict(fname_samples, fname_settings, training_settings,N=Nsamp,\n",
    "                                   record_eigs=True,record_s2=True,verbose=True,\n",
    "                                   compute_overlaps=False,samples_per_epoch=20)"
   ]
  },
  {
   "cell_type": "code",
   "execution_count": 11,
   "metadata": {},
   "outputs": [],
   "source": [
    "fidelity_mps = logdict['fidelity_mps']\n",
    "\n",
    "loss = logdict['loss']\n",
    "max_bond_dim = logdict['max_bond_dim']\n",
    "eigs = logdict['eigenvalues']\n",
    "s2 = logdict['s2']\n"
   ]
  },
  {
   "cell_type": "code",
   "execution_count": 12,
   "metadata": {},
   "outputs": [
    {
     "data": {
      "text/plain": [
       "Text(0.5,1,'batch NLL loss')"
      ]
     },
     "execution_count": 12,
     "metadata": {},
     "output_type": "execute_result"
    },
    {
     "data": {
      "image/png": "[encoded data removed]",
      "text/plain": [
       "<matplotlib.figure.Figure at 0x7fcacb29e7f0>"
      ]
     },
     "metadata": {},
     "output_type": "display_data"
    }
   ],
   "source": [
    "%matplotlib inline\n",
    "fig, ax = plt.subplots()\n",
    "plt.plot(loss, label='training set')\n",
    "plt.legend()\n",
    "plt.xlabel(\"training step\")\n",
    "plt.title(\"batch NLL loss\")\n"
   ]
  },
  {
   "cell_type": "code",
   "execution_count": 13,
   "metadata": {},
   "outputs": [
    {
     "data": {
      "text/plain": [
       "Text(0.5,1,'Ground truth fidelity')"
      ]
     },
     "execution_count": 13,
     "metadata": {},
     "output_type": "execute_result"
    },
    {
     "data": {
      "image/png": "[encoded data removed]",
      "text/plain": [
       "<matplotlib.figure.Figure at 0x7fcacb29ea58>"
      ]
     },
     "metadata": {},
     "output_type": "display_data"
    }
   ],
   "source": [
    "%matplotlib inline\n",
    "fig, ax = plt.subplots()\n",
    "plt.plot(fidelity_mps)\n",
    "plt.xlabel(\"training step\")\n",
    "plt.title(\"Ground truth fidelity\")\n"
   ]
  },
  {
   "cell_type": "code",
   "execution_count": 14,
   "metadata": {},
   "outputs": [
    {
     "data": {
      "text/plain": [
       "Text(0.5,1,'Max bond dimension')"
      ]
     },
     "execution_count": 14,
     "metadata": {},
     "output_type": "execute_result"
    },
    {
     "data": {
      "image/png": "[encoded data removed]",
      "text/plain": [
       "<matplotlib.figure.Figure at 0x7fcacb1c7978>"
      ]
     },
     "metadata": {},
     "output_type": "display_data"
    }
   ],
   "source": [
    "%matplotlib inline\n",
    "fig, ax = plt.subplots()\n",
    "plt.plot(max_bond_dim)\n",
    "plt.xlabel(\"training step\")\n",
    "plt.title(\"Max bond dimension\")\n"
   ]
  },
  {
   "cell_type": "code",
   "execution_count": null,
   "metadata": {},
   "outputs": [],
   "source": []
  }
 ],
 "metadata": {
  "kernelspec": {
   "display_name": "Python 3",
   "language": "python",
   "name": "python3"
  },
  "language_info": {
   "codemirror_mode": {
    "name": "ipython",
    "version": 3
   },
   "file_extension": ".py",
   "mimetype": "text/x-python",
   "name": "python",
   "nbconvert_exporter": "python",
   "pygments_lexer": "ipython3",
   "version": "3.6.8"
  }
 },
 "nbformat": 4,
 "nbformat_minor": 2
}
