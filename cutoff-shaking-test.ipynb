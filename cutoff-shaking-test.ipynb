{
 "cells": [
  {
   "cell_type": "markdown",
   "metadata": {},
   "source": [
    "## Testing SVD cutoff shaking"
   ]
  },
  {
   "cell_type": "code",
   "execution_count": 1,
   "metadata": {},
   "outputs": [
    {
     "name": "stdout",
     "output_type": "stream",
     "text": [
      "Loaded libmkl_rt.so for dgesvd\n"
     ]
    }
   ],
   "source": [
    "import numpy as np\n",
    "import torch\n",
    "\n",
    "from models import MPS, ComplexTensor\n",
    "from utils import build_ghz_plus\n",
    "from qtools import pauli_exp\n",
    "from torch.utils.data import DataLoader\n",
    "from torch.utils.data import random_split\n",
    "from qutip_utils import get_ghz_state as get_qutip_ghz\n",
    "from utils import MeasurementDataset,train_from_dataset\n",
    "\n",
    "import matplotlib.pyplot as plt\n",
    "import datetime\n",
    "from utils import make_linear_schedule, make_exp_schedule"
   ]
  },
  {
   "cell_type": "markdown",
   "metadata": {},
   "source": [
    "Pick system size, dimensionality of local hilbert space, and initial bond dim"
   ]
  },
  {
   "cell_type": "code",
   "execution_count": 2,
   "metadata": {},
   "outputs": [],
   "source": [
    "L=4\n",
    "local_dim=2\n",
    "bond_dim=2"
   ]
  },
  {
   "cell_type": "code",
   "execution_count": 3,
   "metadata": {},
   "outputs": [],
   "source": [
    "# dev = torch.device(\"cuda:0\") if torch.cuda.is_available() else torch.device(\"cpu\")\n",
    "dev = torch.device(\"cpu\")"
   ]
  },
  {
   "cell_type": "markdown",
   "metadata": {},
   "source": [
    "Initialize the MPS model"
   ]
  },
  {
   "cell_type": "code",
   "execution_count": 4,
   "metadata": {},
   "outputs": [],
   "source": [
    "psi = MPS(L=L, local_dim=local_dim, bond_dim=bond_dim)"
   ]
  },
  {
   "cell_type": "code",
   "execution_count": 5,
   "metadata": {},
   "outputs": [],
   "source": [
    "psi.to(device=dev)"
   ]
  },
  {
   "cell_type": "markdown",
   "metadata": {},
   "source": [
    "The ground truth state (a ghz state with no phase)"
   ]
  },
  {
   "cell_type": "code",
   "execution_count": 6,
   "metadata": {},
   "outputs": [],
   "source": [
    "ghz_plus = build_ghz_plus(L)\n",
    "ghz_plus.to(device=dev)\n",
    "ghz_qutip = get_qutip_ghz(L,phase=0)"
   ]
  },
  {
   "cell_type": "markdown",
   "metadata": {},
   "source": [
    "Samples_tr: lists indices of the observed basis states at each measurement. 0 = spin up, 1 = spin down\n",
    "\n",
    "settings: array of corresponding angles"
   ]
  },
  {
   "cell_type": "code",
   "execution_count": 7,
   "metadata": {},
   "outputs": [],
   "source": [
    "# fname_settings = \"test_datasets/settings_ghz_plus_random_basis_L=%d.npy\"%L\n",
    "# fname_samples = \"test_datasets/samples_ghz_plus_random_basis_L=%d.npy\"%L\n",
    "fname_settings = \"datasets/mps_sampled/ghz_plus_L=%d_angles.npy\"%L\n",
    "fname_samples = \"datasets/mps_sampled/ghz_plus_L=%d_outcomes.npy\"%L\n",
    "Nsamp=20000\n",
    "samples = np.load(fname_samples)[:Nsamp]\n",
    "samples_tr = torch.tensor((1-samples)/2).to(dtype=torch.long,device=dev)\n",
    "settings = np.load(fname_settings)[:Nsamp]"
   ]
  },
  {
   "cell_type": "code",
   "execution_count": 8,
   "metadata": {},
   "outputs": [],
   "source": [
    "theta = torch.tensor(settings[...,0],dtype=torch.float32,device=dev)\n",
    "phi = torch.tensor(settings[...,1],dtype=torch.float32,device=dev)"
   ]
  },
  {
   "cell_type": "markdown",
   "metadata": {},
   "source": [
    "Holds the unitaries corresponding to each angle"
   ]
  },
  {
   "cell_type": "code",
   "execution_count": 9,
   "metadata": {},
   "outputs": [],
   "source": [
    "U = pauli_exp(theta, phi)\n"
   ]
  },
  {
   "cell_type": "markdown",
   "metadata": {},
   "source": [
    "A dataset which yields outcomes and corresponding rotations"
   ]
  },
  {
   "cell_type": "code",
   "execution_count": 10,
   "metadata": {},
   "outputs": [],
   "source": [
    "ds = MeasurementDataset(samples=samples_tr,rotations=U)\n"
   ]
  },
  {
   "cell_type": "code",
   "execution_count": 11,
   "metadata": {},
   "outputs": [],
   "source": [
    "batch_size = 1028\n",
    "epochs=50"
   ]
  },
  {
   "cell_type": "markdown",
   "metadata": {},
   "source": [
    "Max number of singular values to keep, and cutoff below which to truncate singular values"
   ]
  },
  {
   "cell_type": "code",
   "execution_count": 12,
   "metadata": {},
   "outputs": [],
   "source": [
    "max_sv = 10\n",
    "cutoff=1e-4"
   ]
  },
  {
   "cell_type": "code",
   "execution_count": 13,
   "metadata": {},
   "outputs": [],
   "source": [
    "lr = 1e-3"
   ]
  },
  {
   "cell_type": "code",
   "execution_count": 14,
   "metadata": {},
   "outputs": [],
   "source": [
    "s2_penalty = make_exp_schedule(.5, epochs // 4)"
   ]
  },
  {
   "cell_type": "code",
   "execution_count": 15,
   "metadata": {},
   "outputs": [],
   "source": [
    "max_sv_to_keep = lambda ep: max_sv"
   ]
  },
  {
   "cell_type": "code",
   "execution_count": 16,
   "metadata": {
    "scrolled": true
   },
   "outputs": [
    {
     "name": "stdout",
     "output_type": "stream",
     "text": [
      "Training on system size 4 with 20000 samples\n",
      "Finished epoch 0 in 0.768 sec\n",
      "Model shape:  [(1, 2), (2, 4), (4, 2), (2, 1)]\n",
      "Finished epoch 1 in 1.453 sec\n",
      "Model shape:  [(1, 2), (2, 4), (4, 2), (2, 1)]\n"
     ]
    },
    {
     "name": "stderr",
     "output_type": "stream",
     "text": [
      "/home/brian/Code/mps-gm/utils.py:573: UserWarning: overlap estimate failed to converge within tolerance 1.00e-02\n",
      "  warnings.warn(\"overlap estimate failed to converge within tolerance {0:.2e}\".format(eps))\n"
     ]
    },
    {
     "name": "stdout",
     "output_type": "stream",
     "text": [
      "Finished epoch 2 in 1.627 sec\n",
      "Model shape:  [(1, 2), (2, 4), (4, 2), (2, 1)]\n",
      "Finished epoch 3 in 1.597 sec\n",
      "Model shape:  [(1, 2), (2, 4), (4, 2), (2, 1)]\n",
      "Finished epoch 4 in 1.663 sec\n",
      "Model shape:  [(1, 2), (2, 4), (4, 2), (2, 1)]\n",
      "Finished epoch 5 in 1.586 sec\n",
      "Model shape:  [(1, 2), (2, 4), (4, 2), (2, 1)]\n",
      "Finished epoch 6 in 1.587 sec\n",
      "Model shape:  [(1, 2), (2, 4), (4, 2), (2, 1)]\n",
      "Finished epoch 7 in 1.594 sec\n",
      "Model shape:  [(1, 2), (2, 4), (4, 2), (2, 1)]\n",
      "Finished epoch 8 in 1.590 sec\n",
      "Model shape:  [(1, 2), (2, 4), (4, 2), (2, 1)]\n",
      "Finished epoch 9 in 1.296 sec\n",
      "Model shape:  [(1, 2), (2, 4), (4, 2), (2, 1)]\n",
      "Finished epoch 10 in 1.588 sec\n",
      "Model shape:  [(1, 2), (2, 4), (4, 2), (2, 1)]\n",
      "Finished epoch 11 in 0.821 sec\n",
      "Model shape:  [(1, 2), (2, 4), (4, 2), (2, 1)]\n",
      "Finished epoch 12 in 1.620 sec\n",
      "Model shape:  [(1, 2), (2, 4), (4, 2), (2, 1)]\n",
      "Finished epoch 13 in 1.467 sec\n",
      "Model shape:  [(1, 2), (2, 4), (4, 2), (2, 1)]\n",
      "Finished epoch 14 in 1.625 sec\n",
      "Model shape:  [(1, 2), (2, 4), (4, 2), (2, 1)]\n",
      "Finished epoch 15 in 1.667 sec\n",
      "Model shape:  [(1, 2), (2, 4), (4, 2), (2, 1)]\n",
      "Finished epoch 16 in 1.085 sec\n",
      "Model shape:  [(1, 2), (2, 4), (4, 2), (2, 1)]\n",
      "Finished epoch 17 in 1.636 sec\n",
      "Model shape:  [(1, 2), (2, 4), (4, 2), (2, 1)]\n",
      "Finished epoch 18 in 1.379 sec\n",
      "Model shape:  [(1, 2), (2, 4), (4, 2), (2, 1)]\n",
      "Finished epoch 19 in 1.623 sec\n",
      "Model shape:  [(1, 2), (2, 4), (4, 2), (2, 1)]\n",
      "Finished epoch 20 in 0.777 sec\n",
      "Model shape:  [(1, 2), (2, 4), (4, 2), (2, 1)]\n",
      "Finished epoch 21 in 1.164 sec\n",
      "Model shape:  [(1, 2), (2, 4), (4, 2), (2, 1)]\n",
      "Finished epoch 22 in 1.513 sec\n",
      "Model shape:  [(1, 2), (2, 4), (4, 2), (2, 1)]\n",
      "Finished epoch 23 in 1.611 sec\n",
      "Model shape:  [(1, 2), (2, 4), (4, 2), (2, 1)]\n",
      "Finished epoch 24 in 1.152 sec\n",
      "Model shape:  [(1, 2), (2, 4), (4, 2), (2, 1)]\n",
      "Finished epoch 25 in 1.295 sec\n",
      "Model shape:  [(1, 2), (2, 4), (4, 2), (2, 1)]\n",
      "Finished epoch 26 in 1.609 sec\n",
      "Model shape:  [(1, 2), (2, 4), (4, 2), (2, 1)]\n",
      "Finished epoch 27 in 1.611 sec\n",
      "Model shape:  [(1, 2), (2, 4), (4, 2), (2, 1)]\n",
      "Finished epoch 28 in 1.613 sec\n",
      "Model shape:  [(1, 2), (2, 4), (4, 2), (2, 1)]\n",
      "Finished epoch 29 in 0.820 sec\n",
      "Model shape:  [(1, 2), (2, 4), (4, 2), (2, 1)]\n",
      "Finished epoch 30 in 1.302 sec\n",
      "Model shape:  [(1, 2), (2, 4), (4, 2), (2, 1)]\n",
      "Finished epoch 31 in 1.032 sec\n",
      "Model shape:  [(1, 2), (2, 4), (4, 2), (2, 1)]\n",
      "Finished epoch 32 in 1.038 sec\n",
      "Model shape:  [(1, 2), (2, 4), (4, 2), (2, 1)]\n",
      "Finished epoch 33 in 1.155 sec\n",
      "Model shape:  [(1, 2), (2, 4), (4, 2), (2, 1)]\n",
      "Finished epoch 34 in 0.923 sec\n",
      "Model shape:  [(1, 2), (2, 4), (4, 2), (2, 1)]\n",
      "Finished epoch 35 in 1.030 sec\n",
      "Model shape:  [(1, 2), (2, 4), (4, 2), (2, 1)]\n",
      "Finished epoch 36 in 1.291 sec\n",
      "Model shape:  [(1, 2), (2, 4), (4, 2), (2, 1)]\n",
      "Finished epoch 37 in 1.587 sec\n",
      "Model shape:  [(1, 2), (2, 4), (4, 2), (2, 1)]\n",
      "Finished epoch 38 in 1.618 sec\n",
      "Model shape:  [(1, 2), (2, 4), (4, 2), (2, 1)]\n",
      "Finished epoch 39 in 1.326 sec\n",
      "Model shape:  [(1, 2), (2, 4), (4, 2), (2, 1)]\n",
      "Finished epoch 40 in 0.831 sec\n",
      "Model shape:  [(1, 2), (2, 4), (4, 2), (2, 1)]\n",
      "Finished epoch 41 in 1.643 sec\n",
      "Model shape:  [(1, 2), (2, 4), (4, 2), (2, 1)]\n",
      "Finished epoch 42 in 1.327 sec\n",
      "Model shape:  [(1, 2), (2, 4), (4, 2), (2, 1)]\n",
      "Finished epoch 43 in 0.855 sec\n",
      "Model shape:  [(1, 2), (2, 4), (4, 2), (2, 1)]\n",
      "Finished epoch 44 in 1.033 sec\n",
      "Model shape:  [(1, 2), (2, 4), (4, 2), (2, 1)]\n",
      "Finished epoch 45 in 1.591 sec\n",
      "Model shape:  [(1, 2), (2, 4), (4, 2), (2, 1)]\n",
      "Finished epoch 46 in 1.068 sec\n",
      "Model shape:  [(1, 2), (2, 4), (4, 2), (2, 1)]\n",
      "Finished epoch 47 in 1.600 sec\n",
      "Model shape:  [(1, 2), (2, 4), (4, 2), (2, 1)]\n",
      "Finished epoch 48 in 1.154 sec\n",
      "Model shape:  [(1, 2), (2, 4), (4, 2), (2, 1)]\n",
      "Finished epoch 49 in 0.858 sec\n",
      "Model shape:  [(1, 2), (2, 4), (4, 2), (2, 1)]\n"
     ]
    }
   ],
   "source": [
    "model, logdict = train_from_dataset(ds, lr, batch_size, epochs, \n",
    "                                   s2_penalty=s2_penalty, cutoff=cutoff, \n",
    "                                   max_sv_to_keep=max_sv_to_keep, ground_truth_mps = ghz_plus, \n",
    "                                    ground_truth_qutip=ghz_qutip,\n",
    "                                   use_cache=True, record_eigs=False,record_s2=True,verbose=True,\n",
    "                                   early_stopping=True,compute_overlaps=True)"
   ]
  },
  {
   "cell_type": "code",
   "execution_count": 17,
   "metadata": {},
   "outputs": [],
   "source": [
    "fidelity_mps = logdict['fidelity_mps']\n",
    "fidelity_qutip = logdict['fidelity_qutip']\n",
    "loss = logdict['loss']\n",
    "max_bond_dim = logdict['max_bond_dim']\n",
    "eigs = logdict['eigenvalues']\n",
    "s2 = logdict['s2']\n",
    "val_loss = logdict['val_loss']\n",
    "overlap = logdict['overlap']"
   ]
  },
  {
   "cell_type": "code",
   "execution_count": 18,
   "metadata": {},
   "outputs": [
    {
     "data": {
      "text/plain": [
       "Text(0.5,1,'batch NLL loss')"
      ]
     },
     "execution_count": 18,
     "metadata": {},
     "output_type": "execute_result"
    },
    {
     "data": {
      "image/png": "[encoded data removed]",
      "text/plain": [
       "<matplotlib.figure.Figure at 0x7f4b40627438>"
      ]
     },
     "metadata": {},
     "output_type": "display_data"
    }
   ],
   "source": [
    "%matplotlib inline\n",
    "fig, ax = plt.subplots()\n",
    "plt.plot(loss, label='training set')\n",
    "plt.plot(val_loss, label='val set')\n",
    "plt.legend()\n",
    "plt.xlabel(\"training step\")\n",
    "plt.title(\"batch NLL loss\")\n"
   ]
  },
  {
   "cell_type": "code",
   "execution_count": 21,
   "metadata": {},
   "outputs": [
    {
     "data": {
      "text/plain": [
       "Text(0.5,1,'Overlap during training')"
      ]
     },
     "execution_count": 21,
     "metadata": {},
     "output_type": "execute_result"
    },
    {
     "data": {
      "image/png": "[encoded data removed]",
      "text/plain": [
       "<matplotlib.figure.Figure at 0x7f4abada09e8>"
      ]
     },
     "metadata": {},
     "output_type": "display_data"
    }
   ],
   "source": [
    "fig, ax = plt.subplots()\n",
    "plt.plot(range(epochs), fidelity_mps**2, label='mps overlap')\n",
    "plt.plot(range(epochs), fidelity_qutip**2, label='qutip overlap')\n",
    "c = overlap['converged']\n",
    "plt.errorbar(np.arange(epochs)[c], overlap['mean'][c], yerr=overlap['err'][c], marker='o', linestyle='none', \n",
    "            label=\"random unitary estimate\")\n",
    "plt.legend()\n",
    "plt.xlabel('epoch')\n",
    "plt.title(\"Overlap during training\")"
   ]
  },
  {
   "cell_type": "code",
   "execution_count": null,
   "metadata": {},
   "outputs": [],
   "source": []
  }
 ],
 "metadata": {
  "kernelspec": {
   "display_name": "Python 3",
   "language": "python",
   "name": "python3"
  },
  "language_info": {
   "codemirror_mode": {
    "name": "ipython",
    "version": 3
   },
   "file_extension": ".py",
   "mimetype": "text/x-python",
   "name": "python",
   "nbconvert_exporter": "python",
   "pygments_lexer": "ipython3",
   "version": "3.6.8"
  }
 },
 "nbformat": 4,
 "nbformat_minor": 2
}
