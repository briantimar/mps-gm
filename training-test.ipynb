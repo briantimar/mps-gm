{
 "cells": [
  {
   "cell_type": "markdown",
   "metadata": {},
   "source": [
    "## Bond dimension testing\n",
    "Using two-site gradient based training with numpy svd, I found MPSs tended to 'inflate' to the max bond dimension, unless a very high cutoff (~1e-2) was set. Want to check if that's still the case with the stable SVD code, and if so, how it might be avoided."
   ]
  },
  {
   "cell_type": "code",
   "execution_count": 1,
   "metadata": {},
   "outputs": [
    {
     "name": "stdout",
     "output_type": "stream",
     "text": [
      "Loaded libmkl_rt.so for dgesvd\n"
     ]
    }
   ],
   "source": [
    "import numpy as np\n",
    "import torch\n",
    "\n",
    "from models import MPS, ComplexTensor\n",
    "from utils import build_ghz_plus\n",
    "from qtools import pauli_exp\n",
    "from torch.utils.data import DataLoader\n",
    "from torch.utils.data import random_split\n",
    "from utils import MeasurementDataset,do_local_sgd_training, evaluate, do_validation\n",
    "import matplotlib.pyplot as plt\n",
    "import datetime\n",
    "from utils import make_linear_schedule, make_exp_schedule"
   ]
  },
  {
   "cell_type": "markdown",
   "metadata": {},
   "source": [
    "Pick system size, dimensionality of local hilbert space, and initial bond dim"
   ]
  },
  {
   "cell_type": "code",
   "execution_count": 2,
   "metadata": {},
   "outputs": [],
   "source": [
    "L=4\n",
    "local_dim=2\n",
    "bond_dim=2"
   ]
  },
  {
   "cell_type": "code",
   "execution_count": 3,
   "metadata": {},
   "outputs": [],
   "source": [
    "# dev = torch.device(\"cuda:0\") if torch.cuda.is_available() else torch.device(\"cpu\")\n",
    "dev = torch.device(\"cpu\")"
   ]
  },
  {
   "cell_type": "markdown",
   "metadata": {},
   "source": [
    "Initialize the MPS model"
   ]
  },
  {
   "cell_type": "code",
   "execution_count": 4,
   "metadata": {},
   "outputs": [],
   "source": [
    "psi = MPS(L=L, local_dim=local_dim, bond_dim=bond_dim)"
   ]
  },
  {
   "cell_type": "code",
   "execution_count": 5,
   "metadata": {},
   "outputs": [],
   "source": [
    "psi.to(device=dev)"
   ]
  },
  {
   "cell_type": "markdown",
   "metadata": {},
   "source": [
    "The ground truth state (a ghz state with no phase)"
   ]
  },
  {
   "cell_type": "code",
   "execution_count": 6,
   "metadata": {},
   "outputs": [],
   "source": [
    "ghz_plus = build_ghz_plus(L)\n",
    "ghz_plus.to(device=dev)"
   ]
  },
  {
   "cell_type": "markdown",
   "metadata": {},
   "source": [
    "Samples_tr: lists indices of the observed basis states at each measurement. 0 = spin up, 1 = spin down\n",
    "\n",
    "settings: array of corresponding angles"
   ]
  },
  {
   "cell_type": "code",
   "execution_count": 7,
   "metadata": {},
   "outputs": [],
   "source": [
    "# fname_settings = \"test_datasets/settings_ghz_plus_random_basis_L=%d.npy\"%L\n",
    "# fname_samples = \"test_datasets/samples_ghz_plus_random_basis_L=%d.npy\"%L\n",
    "fname_settings = \"datasets/mps_sampled/ghz_plus_L=%d_angles.npy\"%L\n",
    "fname_samples = \"datasets/mps_sampled/ghz_plus_L=%d_outcomes.npy\"%L\n",
    "Nsamp=20000\n",
    "samples = np.load(fname_samples)[:Nsamp]\n",
    "samples_tr = torch.tensor((1-samples)/2).to(dtype=torch.long,device=dev)\n",
    "settings = np.load(fname_settings)[:Nsamp]"
   ]
  },
  {
   "cell_type": "code",
   "execution_count": 8,
   "metadata": {},
   "outputs": [],
   "source": [
    "theta = torch.tensor(settings[...,0],dtype=torch.float32,device=dev)\n",
    "phi = torch.tensor(settings[...,1],dtype=torch.float32,device=dev)"
   ]
  },
  {
   "cell_type": "markdown",
   "metadata": {},
   "source": [
    "Holds the unitaries corresponding to each angle"
   ]
  },
  {
   "cell_type": "code",
   "execution_count": 9,
   "metadata": {},
   "outputs": [],
   "source": [
    "U = pauli_exp(theta, phi)\n",
    "rotations_real = U.real\n",
    "rotations_imag = U.imag"
   ]
  },
  {
   "cell_type": "markdown",
   "metadata": {},
   "source": [
    "A dataset which yields outcomes and corresponding rotations"
   ]
  },
  {
   "cell_type": "code",
   "execution_count": 10,
   "metadata": {},
   "outputs": [],
   "source": [
    "Ntr=18000"
   ]
  },
  {
   "cell_type": "code",
   "execution_count": 11,
   "metadata": {},
   "outputs": [],
   "source": [
    "ds = MeasurementDataset(samples=samples_tr,rotations=U)\n",
    "ds_tr, ds_val = random_split(ds, [Ntr, Nsamp-Ntr])"
   ]
  },
  {
   "cell_type": "markdown",
   "metadata": {},
   "source": [
    "Batch size and learning rate for training:"
   ]
  },
  {
   "cell_type": "code",
   "execution_count": 12,
   "metadata": {},
   "outputs": [],
   "source": [
    "batch_size = 1028\n"
   ]
  },
  {
   "cell_type": "markdown",
   "metadata": {},
   "source": [
    "Number of epochs of training"
   ]
  },
  {
   "cell_type": "code",
   "execution_count": 13,
   "metadata": {},
   "outputs": [],
   "source": [
    "epochs = 50"
   ]
  },
  {
   "cell_type": "markdown",
   "metadata": {},
   "source": [
    "Max number of singular values to keep, and cutoff below which to truncate singular values"
   ]
  },
  {
   "cell_type": "code",
   "execution_count": 14,
   "metadata": {},
   "outputs": [],
   "source": [
    "max_sv = 10\n",
    "cutoff=1e-4"
   ]
  },
  {
   "cell_type": "code",
   "execution_count": 15,
   "metadata": {},
   "outputs": [],
   "source": [
    "Nsamp = 5"
   ]
  },
  {
   "cell_type": "code",
   "execution_count": 16,
   "metadata": {},
   "outputs": [],
   "source": [
    "lr_scale = 10**np.random.uniform(-6, 0, Nsamp)\n",
    "s2_scale = 10**np.random.uniform(-2, 1, Nsamp)\n",
    "s2_timescale = np.random.uniform(.2, 1, Nsamp) * epochs\n",
    "lr_timescale = np.random.uniform(.5, 1, Nsamp) * epochs\n",
    "\n",
    "learning_rates = [make_exp_schedule(A, tau) for (A, tau) in zip(lr_scale, lr_timescale)]\n",
    "s2_penalties = [make_exp_schedule(A, tau) for (A, tau) in zip(s2_scale, s2_timescale)]"
   ]
  },
  {
   "cell_type": "code",
   "execution_count": 17,
   "metadata": {},
   "outputs": [],
   "source": [
    "params = [dict(learning_rate=lr, s2_penalty=s2) for lr, s2 in zip(learning_rates, s2_penalties)]"
   ]
  },
  {
   "cell_type": "code",
   "execution_count": 18,
   "metadata": {},
   "outputs": [],
   "source": [
    "max_sv_to_keep = lambda ep: max_sv"
   ]
  },
  {
   "cell_type": "code",
   "execution_count": 19,
   "metadata": {},
   "outputs": [
    {
     "name": "stdout",
     "output_type": "stream",
     "text": [
      "Training on 5 different param sets, with 1 seeds each\n",
      "Training with lr = <function make_exp_schedule.<locals>.f at 0x7fbca9b48f28>, s2 penalty = <function make_exp_schedule.<locals>.f at 0x7fbca5310488>\n",
      "Training on system size 4 with 18000 samples\n",
      "Finished epoch 0 in 0.651 sec\n",
      "Model shape:  [(1, 2), (2, 2), (2, 2), (2, 1)]\n",
      "Finished epoch 1 in 0.639 sec\n",
      "Model shape:  [(1, 2), (2, 2), (2, 2), (2, 1)]\n",
      "Finished epoch 2 in 0.609 sec\n",
      "Model shape:  [(1, 2), (2, 2), (2, 2), (2, 1)]\n",
      "Finished epoch 3 in 0.628 sec\n",
      "Model shape:  [(1, 2), (2, 2), (2, 2), (2, 1)]\n",
      "Finished epoch 4 in 0.610 sec\n",
      "Model shape:  [(1, 2), (2, 2), (2, 2), (2, 1)]\n",
      "Finished epoch 5 in 0.609 sec\n",
      "Model shape:  [(1, 2), (2, 2), (2, 2), (2, 1)]\n",
      "Finished epoch 6 in 0.609 sec\n",
      "Model shape:  [(1, 2), (2, 2), (2, 2), (2, 1)]\n",
      "Val score not decreasing, halting training\n",
      "Acheived val score: 3.4159557819366455\n",
      "Training with lr = <function make_exp_schedule.<locals>.f at 0x7fbca5310048>, s2 penalty = <function make_exp_schedule.<locals>.f at 0x7fbca5310510>\n",
      "Training on system size 4 with 18000 samples\n",
      "Error during factorization: 3\n",
      "Training failed\n",
      "Acheived val score: inf\n",
      "Training with lr = <function make_exp_schedule.<locals>.f at 0x7fbca53102f0>, s2 penalty = <function make_exp_schedule.<locals>.f at 0x7fbca5310598>\n",
      "Training on system size 4 with 18000 samples\n",
      "Finished epoch 0 in 0.615 sec\n",
      "Model shape:  [(1, 2), (2, 4), (4, 2), (2, 1)]\n",
      "Finished epoch 1 in 0.595 sec\n",
      "Model shape:  [(1, 2), (2, 4), (4, 2), (2, 1)]\n",
      "Finished epoch 2 in 0.627 sec\n",
      "Model shape:  [(1, 2), (2, 4), (4, 2), (2, 1)]\n",
      "Finished epoch 3 in 0.630 sec\n",
      "Model shape:  [(1, 2), (2, 4), (4, 2), (2, 1)]\n",
      "Finished epoch 4 in 0.614 sec\n",
      "Model shape:  [(1, 2), (2, 4), (4, 2), (2, 1)]\n",
      "Finished epoch 5 in 0.615 sec\n",
      "Model shape:  [(1, 2), (2, 4), (4, 2), (2, 1)]\n",
      "Finished epoch 6 in 0.613 sec\n",
      "Model shape:  [(1, 2), (2, 4), (4, 2), (2, 1)]\n",
      "Finished epoch 7 in 0.613 sec\n",
      "Model shape:  [(1, 2), (2, 4), (4, 2), (2, 1)]\n",
      "Finished epoch 8 in 0.614 sec\n",
      "Model shape:  [(1, 2), (2, 4), (4, 2), (2, 1)]\n",
      "Finished epoch 9 in 0.613 sec\n",
      "Model shape:  [(1, 2), (2, 4), (4, 2), (2, 1)]\n",
      "Finished epoch 10 in 0.596 sec\n",
      "Model shape:  [(1, 2), (2, 4), (4, 2), (2, 1)]\n",
      "Finished epoch 11 in 0.644 sec\n",
      "Model shape:  [(1, 2), (2, 4), (4, 2), (2, 1)]\n",
      "Finished epoch 12 in 0.612 sec\n",
      "Model shape:  [(1, 2), (2, 4), (4, 2), (2, 1)]\n",
      "Finished epoch 13 in 0.614 sec\n",
      "Model shape:  [(1, 2), (2, 4), (4, 2), (2, 1)]\n",
      "Finished epoch 14 in 0.618 sec\n",
      "Model shape:  [(1, 2), (2, 4), (4, 2), (2, 1)]\n",
      "Finished epoch 15 in 0.617 sec\n",
      "Model shape:  [(1, 2), (2, 4), (4, 2), (2, 1)]\n",
      "Finished epoch 16 in 0.618 sec\n",
      "Model shape:  [(1, 2), (2, 4), (4, 2), (2, 1)]\n",
      "Finished epoch 17 in 0.614 sec\n",
      "Model shape:  [(1, 2), (2, 4), (4, 2), (2, 1)]\n",
      "Finished epoch 18 in 0.595 sec\n",
      "Model shape:  [(1, 2), (2, 4), (4, 2), (2, 1)]\n",
      "Finished epoch 19 in 0.616 sec\n",
      "Model shape:  [(1, 2), (2, 4), (4, 2), (2, 1)]\n",
      "Finished epoch 20 in 0.642 sec\n",
      "Model shape:  [(1, 2), (2, 4), (4, 2), (2, 1)]\n",
      "Finished epoch 21 in 0.622 sec\n",
      "Model shape:  [(1, 2), (2, 4), (4, 2), (2, 1)]\n",
      "Finished epoch 22 in 0.612 sec\n",
      "Model shape:  [(1, 2), (2, 4), (4, 2), (2, 1)]\n",
      "Finished epoch 23 in 0.613 sec\n",
      "Model shape:  [(1, 2), (2, 4), (4, 2), (2, 1)]\n",
      "Finished epoch 24 in 0.615 sec\n",
      "Model shape:  [(1, 2), (2, 4), (4, 2), (2, 1)]\n",
      "Finished epoch 25 in 0.619 sec\n",
      "Model shape:  [(1, 2), (2, 4), (4, 2), (2, 1)]\n",
      "Finished epoch 26 in 0.599 sec\n",
      "Model shape:  [(1, 2), (2, 4), (4, 2), (2, 1)]\n",
      "Finished epoch 27 in 0.614 sec\n",
      "Model shape:  [(1, 2), (2, 4), (4, 2), (2, 1)]\n",
      "Finished epoch 28 in 0.621 sec\n",
      "Model shape:  [(1, 2), (2, 4), (4, 2), (2, 1)]\n",
      "Finished epoch 29 in 0.653 sec\n",
      "Model shape:  [(1, 2), (2, 4), (4, 2), (2, 1)]\n",
      "Finished epoch 30 in 0.645 sec\n",
      "Model shape:  [(1, 2), (2, 4), (4, 2), (2, 1)]\n",
      "Finished epoch 31 in 0.628 sec\n",
      "Model shape:  [(1, 2), (2, 4), (4, 2), (2, 1)]\n",
      "Finished epoch 32 in 0.654 sec\n",
      "Model shape:  [(1, 2), (2, 4), (4, 2), (2, 1)]\n",
      "Finished epoch 33 in 0.616 sec\n",
      "Model shape:  [(1, 2), (2, 4), (4, 2), (2, 1)]\n",
      "Finished epoch 34 in 0.600 sec\n",
      "Model shape:  [(1, 2), (2, 4), (4, 2), (2, 1)]\n",
      "Finished epoch 35 in 0.626 sec\n",
      "Model shape:  [(1, 2), (2, 4), (4, 2), (2, 1)]\n",
      "Finished epoch 36 in 0.619 sec\n",
      "Model shape:  [(1, 2), (2, 4), (4, 2), (2, 1)]\n",
      "Finished epoch 37 in 0.646 sec\n",
      "Model shape:  [(1, 2), (2, 4), (4, 2), (2, 1)]\n",
      "Finished epoch 38 in 0.624 sec\n",
      "Model shape:  [(1, 2), (2, 4), (4, 2), (2, 1)]\n",
      "Finished epoch 39 in 0.620 sec\n",
      "Model shape:  [(1, 2), (2, 4), (4, 2), (2, 1)]\n",
      "Finished epoch 40 in 0.626 sec\n",
      "Model shape:  [(1, 2), (2, 4), (4, 2), (2, 1)]\n",
      "Finished epoch 41 in 0.644 sec\n",
      "Model shape:  [(1, 2), (2, 4), (4, 2), (2, 1)]\n",
      "Finished epoch 42 in 0.685 sec\n",
      "Model shape:  [(1, 2), (2, 4), (4, 2), (2, 1)]\n",
      "Finished epoch 43 in 0.648 sec\n",
      "Model shape:  [(1, 2), (2, 4), (4, 2), (2, 1)]\n",
      "Finished epoch 44 in 0.647 sec\n",
      "Model shape:  [(1, 2), (2, 4), (4, 2), (2, 1)]\n",
      "Finished epoch 45 in 0.636 sec\n",
      "Model shape:  [(1, 2), (2, 4), (4, 2), (2, 1)]\n",
      "Finished epoch 46 in 0.617 sec\n",
      "Model shape:  [(1, 2), (2, 4), (4, 2), (2, 1)]\n",
      "Finished epoch 47 in 0.618 sec\n",
      "Model shape:  [(1, 2), (2, 4), (4, 2), (2, 1)]\n",
      "Finished epoch 48 in 0.626 sec\n",
      "Model shape:  [(1, 2), (2, 4), (4, 2), (2, 1)]\n",
      "Finished epoch 49 in 0.621 sec\n",
      "Model shape:  [(1, 2), (2, 4), (4, 2), (2, 1)]\n",
      "Acheived val score: 2.441019296646118\n",
      "Training with lr = <function make_exp_schedule.<locals>.f at 0x7fbca5310378>, s2 penalty = <function make_exp_schedule.<locals>.f at 0x7fbca5310620>\n",
      "Training on system size 4 with 18000 samples\n",
      "Finished epoch 0 in 0.626 sec\n",
      "Model shape:  [(1, 2), (2, 4), (4, 2), (2, 1)]\n",
      "Finished epoch 1 in 0.624 sec\n",
      "Model shape:  [(1, 2), (2, 4), (4, 2), (2, 1)]\n",
      "Finished epoch 2 in 0.629 sec\n",
      "Model shape:  [(1, 2), (2, 4), (4, 2), (2, 1)]\n",
      "Finished epoch 3 in 0.628 sec\n",
      "Model shape:  [(1, 2), (2, 4), (4, 2), (2, 1)]\n",
      "Finished epoch 4 in 0.632 sec\n",
      "Model shape:  [(1, 2), (2, 4), (4, 2), (2, 1)]\n",
      "Finished epoch 5 in 0.623 sec\n",
      "Model shape:  [(1, 2), (2, 4), (4, 2), (2, 1)]\n",
      "Finished epoch 6 in 0.621 sec\n",
      "Model shape:  [(1, 2), (2, 4), (4, 2), (2, 1)]\n",
      "Finished epoch 7 in 0.624 sec\n",
      "Model shape:  [(1, 2), (2, 4), (4, 2), (2, 1)]\n",
      "Finished epoch 8 in 0.623 sec\n",
      "Model shape:  [(1, 2), (2, 4), (4, 2), (2, 1)]\n",
      "Finished epoch 9 in 0.625 sec\n",
      "Model shape:  [(1, 2), (2, 4), (4, 2), (2, 1)]\n",
      "Finished epoch 10 in 0.619 sec\n",
      "Model shape:  [(1, 2), (2, 4), (4, 2), (2, 1)]\n",
      "Finished epoch 11 in 0.622 sec\n",
      "Model shape:  [(1, 2), (2, 4), (4, 2), (2, 1)]\n",
      "Finished epoch 12 in 0.625 sec\n",
      "Model shape:  [(1, 2), (2, 4), (4, 2), (2, 1)]\n",
      "Finished epoch 13 in 0.620 sec\n",
      "Model shape:  [(1, 2), (2, 4), (4, 2), (2, 1)]\n",
      "Finished epoch 14 in 0.621 sec\n",
      "Model shape:  [(1, 2), (2, 4), (4, 2), (2, 1)]\n",
      "Finished epoch 15 in 0.623 sec\n",
      "Model shape:  [(1, 2), (2, 4), (4, 2), (2, 1)]\n",
      "Finished epoch 16 in 0.602 sec\n",
      "Model shape:  [(1, 2), (2, 4), (4, 2), (2, 1)]\n",
      "Finished epoch 17 in 0.623 sec\n",
      "Model shape:  [(1, 2), (2, 4), (4, 2), (2, 1)]\n",
      "Finished epoch 18 in 0.633 sec\n",
      "Model shape:  [(1, 2), (2, 4), (4, 2), (2, 1)]\n",
      "Finished epoch 19 in 0.647 sec\n",
      "Model shape:  [(1, 2), (2, 4), (4, 2), (2, 1)]\n",
      "Finished epoch 20 in 0.621 sec\n",
      "Model shape:  [(1, 2), (2, 4), (4, 2), (2, 1)]\n",
      "Finished epoch 21 in 0.644 sec\n",
      "Model shape:  [(1, 2), (2, 4), (4, 2), (2, 1)]\n",
      "Finished epoch 22 in 0.617 sec\n",
      "Model shape:  [(1, 2), (2, 4), (4, 2), (2, 1)]\n",
      "Finished epoch 23 in 0.644 sec\n",
      "Model shape:  [(1, 2), (2, 4), (4, 2), (2, 1)]\n",
      "Finished epoch 24 in 0.636 sec\n",
      "Model shape:  [(1, 2), (2, 4), (4, 2), (2, 1)]\n",
      "Finished epoch 25 in 0.631 sec\n",
      "Model shape:  [(1, 2), (2, 4), (4, 2), (2, 1)]\n",
      "Finished epoch 26 in 0.673 sec\n",
      "Model shape:  [(1, 2), (2, 4), (4, 2), (2, 1)]\n",
      "Finished epoch 27 in 0.620 sec\n",
      "Model shape:  [(1, 2), (2, 4), (4, 2), (2, 1)]\n",
      "Finished epoch 28 in 0.616 sec\n",
      "Model shape:  [(1, 2), (2, 4), (4, 2), (2, 1)]\n",
      "Finished epoch 29 in 0.624 sec\n",
      "Model shape:  [(1, 2), (2, 4), (4, 2), (2, 1)]\n",
      "Finished epoch 30 in 0.627 sec\n",
      "Model shape:  [(1, 2), (2, 4), (4, 2), (2, 1)]\n",
      "Finished epoch 31 in 0.621 sec\n",
      "Model shape:  [(1, 2), (2, 4), (4, 2), (2, 1)]\n",
      "Finished epoch 32 in 0.600 sec\n",
      "Model shape:  [(1, 2), (2, 4), (4, 2), (2, 1)]\n",
      "Finished epoch 33 in 0.618 sec\n",
      "Model shape:  [(1, 2), (2, 4), (4, 2), (2, 1)]\n",
      "Finished epoch 34 in 0.624 sec\n",
      "Model shape:  [(1, 2), (2, 4), (4, 2), (2, 1)]\n",
      "Finished epoch 35 in 0.622 sec\n",
      "Model shape:  [(1, 2), (2, 4), (4, 2), (2, 1)]\n"
     ]
    },
    {
     "name": "stdout",
     "output_type": "stream",
     "text": [
      "Finished epoch 36 in 0.621 sec\n",
      "Model shape:  [(1, 2), (2, 4), (4, 2), (2, 1)]\n",
      "Finished epoch 37 in 0.620 sec\n",
      "Model shape:  [(1, 2), (2, 4), (4, 2), (2, 1)]\n",
      "Finished epoch 38 in 0.620 sec\n",
      "Model shape:  [(1, 2), (2, 4), (4, 2), (2, 1)]\n",
      "Finished epoch 39 in 0.621 sec\n",
      "Model shape:  [(1, 2), (2, 4), (4, 2), (2, 1)]\n",
      "Finished epoch 40 in 0.601 sec\n",
      "Model shape:  [(1, 2), (2, 4), (4, 2), (2, 1)]\n",
      "Finished epoch 41 in 0.618 sec\n",
      "Model shape:  [(1, 2), (2, 4), (4, 2), (2, 1)]\n",
      "Finished epoch 42 in 0.618 sec\n",
      "Model shape:  [(1, 2), (2, 4), (4, 2), (2, 1)]\n",
      "Finished epoch 43 in 0.620 sec\n",
      "Model shape:  [(1, 2), (2, 4), (4, 2), (2, 1)]\n",
      "Finished epoch 44 in 0.616 sec\n",
      "Model shape:  [(1, 2), (2, 4), (4, 2), (2, 1)]\n",
      "Finished epoch 45 in 0.615 sec\n",
      "Model shape:  [(1, 2), (2, 4), (4, 2), (2, 1)]\n",
      "Finished epoch 46 in 0.618 sec\n",
      "Model shape:  [(1, 2), (2, 4), (4, 2), (2, 1)]\n",
      "Finished epoch 47 in 0.620 sec\n",
      "Model shape:  [(1, 2), (2, 4), (4, 2), (2, 1)]\n",
      "Finished epoch 48 in 0.615 sec\n",
      "Model shape:  [(1, 2), (2, 4), (4, 2), (2, 1)]\n",
      "Finished epoch 49 in 0.623 sec\n",
      "Model shape:  [(1, 2), (2, 4), (4, 2), (2, 1)]\n",
      "Acheived val score: 2.473361015319824\n",
      "Training with lr = <function make_exp_schedule.<locals>.f at 0x7fbca5310400>, s2 penalty = <function make_exp_schedule.<locals>.f at 0x7fbca53106a8>\n",
      "Training on system size 4 with 18000 samples\n",
      "Finished epoch 0 in 0.618 sec\n",
      "Model shape:  [(1, 2), (2, 2), (2, 2), (2, 1)]\n",
      "Finished epoch 1 in 0.615 sec\n",
      "Model shape:  [(1, 2), (2, 2), (2, 2), (2, 1)]\n",
      "Finished epoch 2 in 0.615 sec\n",
      "Model shape:  [(1, 2), (2, 2), (2, 2), (2, 1)]\n",
      "Finished epoch 3 in 0.615 sec\n",
      "Model shape:  [(1, 2), (2, 2), (2, 2), (2, 1)]\n",
      "Finished epoch 4 in 0.661 sec\n",
      "Model shape:  [(1, 2), (2, 2), (2, 2), (2, 1)]\n",
      "Finished epoch 5 in 0.624 sec\n",
      "Model shape:  [(1, 2), (2, 2), (2, 2), (2, 1)]\n",
      "Finished epoch 6 in 0.603 sec\n",
      "Model shape:  [(1, 2), (2, 2), (2, 2), (2, 1)]\n",
      "Val score not decreasing, halting training\n",
      "Acheived val score: 3.8829152584075928\n"
     ]
    }
   ],
   "source": [
    "scores = do_validation(ds_tr, ds_val, batch_size,epochs, params,\n",
    "                                    cutoff=cutoff, max_sv_to_keep=max_sv_to_keep, use_cache=True, \n",
    "                                  early_stopping=True,\n",
    "                                   verbose=True)"
   ]
  },
  {
   "cell_type": "code",
   "execution_count": 20,
   "metadata": {},
   "outputs": [
    {
     "data": {
      "text/plain": [
       "array([3.41595578,        inf, 2.4410193 , 2.47336102, 3.88291526])"
      ]
     },
     "execution_count": 20,
     "metadata": {},
     "output_type": "execute_result"
    }
   ],
   "source": [
    "scores"
   ]
  },
  {
   "cell_type": "code",
   "execution_count": null,
   "metadata": {},
   "outputs": [],
   "source": [
    "lr_"
   ]
  },
  {
   "cell_type": "markdown",
   "metadata": {},
   "source": [
    "fidelity = logdict['fidelity']\n",
    "loss = logdict['loss']\n",
    "max_bond_dim = logdict['max_bond_dim']\n",
    "eigs = logdict['eigenvalues']\n",
    "s2 = logdict['s2']\n",
    "val_loss = logdict['val_loss']"
   ]
  },
  {
   "cell_type": "markdown",
   "metadata": {},
   "source": [
    "t = datetime.datetime.now().strftime(\"%Y-%m-%d_%H:%M:%S\")"
   ]
  },
  {
   "cell_type": "markdown",
   "metadata": {},
   "source": [
    "%matplotlib inline\n",
    "fig, ax = plt.subplots()\n",
    "plt.plot(loss, label='training set')\n",
    "plt.plot(val_loss, label='val set')\n",
    "plt.legend()\n",
    "plt.xlabel(\"training step\")\n",
    "plt.title(\"batch NLL loss %s\" % t)\n",
    "# fig.savefig(\"assets/nll_loss_example_{0}.png\".format(t))"
   ]
  }
 ],
 "metadata": {
  "kernelspec": {
   "display_name": "Python 3",
   "language": "python",
   "name": "python3"
  },
  "language_info": {
   "codemirror_mode": {
    "name": "ipython",
    "version": 3
   },
   "file_extension": ".py",
   "mimetype": "text/x-python",
   "name": "python",
   "nbconvert_exporter": "python",
   "pygments_lexer": "ipython3",
   "version": "3.6.8"
  }
 },
 "nbformat": 4,
 "nbformat_minor": 2
}
