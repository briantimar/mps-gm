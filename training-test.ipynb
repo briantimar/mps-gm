{
 "cells": [
  {
   "cell_type": "markdown",
   "metadata": {},
   "source": [
    "## Training test\n",
    "### A notebook for prototyping mps training code\n"
   ]
  },
  {
   "cell_type": "code",
   "execution_count": 1,
   "metadata": {},
   "outputs": [
    {
     "name": "stdout",
     "output_type": "stream",
     "text": [
      "Loaded libmkl_rt.so for dgesvd\n"
     ]
    }
   ],
   "source": [
    "import numpy as np\n",
    "import torch\n",
    "\n",
    "from mps.models import MPS, ComplexTensor\n",
    "from mps.utils import train_from_dict, rolling_avg\n",
    "import matplotlib.pyplot as plt\n",
    "import datetime\n"
   ]
  },
  {
   "cell_type": "markdown",
   "metadata": {},
   "source": [
    "Pick system size, dimensionality of local hilbert space, and initial bond dim"
   ]
  },
  {
   "cell_type": "code",
   "execution_count": 2,
   "metadata": {},
   "outputs": [],
   "source": [
    "L=6\n",
    "local_dim=2\n",
    "bond_dim=2"
   ]
  },
  {
   "cell_type": "code",
   "execution_count": 3,
   "metadata": {},
   "outputs": [],
   "source": [
    "# dev = torch.device(\"cuda:0\") if torch.cuda.is_available() else torch.device(\"cpu\")\n",
    "dev = torch.device(\"cpu\")"
   ]
  },
  {
   "cell_type": "markdown",
   "metadata": {},
   "source": [
    "Initialize the MPS model"
   ]
  },
  {
   "cell_type": "code",
   "execution_count": 4,
   "metadata": {},
   "outputs": [],
   "source": [
    "psi = MPS(L=L, local_dim=local_dim, bond_dim=bond_dim)"
   ]
  },
  {
   "cell_type": "code",
   "execution_count": 5,
   "metadata": {},
   "outputs": [],
   "source": [
    "psi.to(device=dev)"
   ]
  },
  {
   "cell_type": "code",
   "execution_count": 6,
   "metadata": {},
   "outputs": [],
   "source": [
    "fname_settings = \"datasets/mps_sampled/ghz_plus_L=%d_angles.npy\"%L\n",
    "fname_samples = \"datasets/mps_sampled/ghz_plus_L=%d_outcomes.npy\"%L\n",
    "fname_mps = \"datasets/mps_sampled/ghz_plus_L=%d_state\"%L\n",
    "Nsamp=20000\n"
   ]
  },
  {
   "cell_type": "code",
   "execution_count": 7,
   "metadata": {},
   "outputs": [],
   "source": [
    "training_settings=dict(batch_size=512,epochs=2,\n",
    "                        max_sv=10,cutoff=1e-3,\n",
    "                       lr_scale=1e-3, lr_timescale=100,\n",
    "                       s2_scale=0, s2_timescale=100,\n",
    "                       hold_early_cutoff=True,\n",
    "                       wait_for_plateau=True,\n",
    "                      mps_path = fname_mps, \n",
    "                      samples_per_epoch=5)\n",
    "                           "
   ]
  },
  {
   "cell_type": "code",
   "execution_count": 8,
   "metadata": {
    "scrolled": true
   },
   "outputs": [
    {
     "name": "stdout",
     "output_type": "stream",
     "text": [
      "Successfully loaded 20000 settings, samples for system of size L=6\n",
      "Loaded the following settings:\n",
      "lr_scale = 1.000000e-03\n",
      "lr_timescale = 1.000000e+02\n",
      "s2_scale = 0.000000e+00\n",
      "s2_timescale = 1.000000e+02\n",
      "epochs = 2.000000e+00\n",
      "cutoff = 1.000000e-03\n",
      "max_sv = 1.000000e+01\n",
      "batch_size = 5.120000e+02\n",
      "Hold early cutoff: True\n",
      "Wait for plateau: True\n",
      "Samples per epoch: 5\n",
      "loading ground truth MPS from  datasets/mps_sampled/ghz_plus_L=6_state\n",
      "Training on system size 6 with 20000 samples\n",
      "Finished epoch 1 in 1.931 sec\n",
      "Model shape:  [(1, 2), (2, 2), (2, 2), (2, 2), (2, 2), (2, 1)]\n",
      "Finished epoch 2 in 1.939 sec\n",
      "Model shape:  [(1, 2), (2, 2), (2, 2), (2, 2), (2, 2), (2, 1)]\n",
      "Finished epoch 3 in 1.974 sec\n",
      "Model shape:  [(1, 2), (2, 2), (2, 2), (2, 2), (2, 2), (2, 1)]\n",
      "Finished epoch 4 in 1.942 sec\n",
      "Model shape:  [(1, 2), (2, 2), (2, 2), (2, 2), (2, 2), (2, 1)]\n",
      "Finished epoch 5 in 1.967 sec\n",
      "Model shape:  [(1, 2), (2, 2), (2, 2), (2, 2), (2, 2), (2, 1)]\n",
      "Finished epoch 6 in 1.950 sec\n",
      "Model shape:  [(1, 2), (2, 2), (2, 2), (2, 2), (2, 2), (2, 1)]\n",
      "Finished epoch 7 in 1.987 sec\n",
      "Model shape:  [(1, 2), (2, 2), (2, 2), (2, 2), (2, 2), (2, 1)]\n",
      "Finished epoch 8 in 1.967 sec\n",
      "Model shape:  [(1, 2), (2, 2), (2, 2), (2, 2), (2, 2), (2, 1)]\n",
      "Finished epoch 9 in 1.997 sec\n",
      "Model shape:  [(1, 2), (2, 2), (2, 2), (2, 2), (2, 2), (2, 1)]\n",
      "Finished epoch 10 in 1.954 sec\n",
      "Model shape:  [(1, 2), (2, 2), (2, 2), (2, 2), (2, 2), (2, 1)]\n",
      "Finished epoch 11 in 1.976 sec\n",
      "Model shape:  [(1, 2), (2, 2), (2, 2), (2, 2), (2, 2), (2, 1)]\n",
      "Training plateau not reached, continuing...\n",
      "Finished epoch 12 in 1.975 sec\n",
      "Model shape:  [(1, 2), (2, 2), (2, 2), (2, 2), (2, 2), (2, 1)]\n",
      "Training plateau not reached, continuing...\n",
      "Finished epoch 13 in 1.971 sec\n",
      "Model shape:  [(1, 2), (2, 2), (2, 2), (2, 2), (2, 2), (2, 1)]\n",
      "Training plateau not reached, continuing...\n",
      "Finished epoch 14 in 1.944 sec\n",
      "Model shape:  [(1, 2), (2, 3), (3, 4), (4, 3), (3, 2), (2, 1)]\n",
      "Training plateau not reached, continuing...\n",
      "Finished epoch 15 in 2.008 sec\n",
      "Model shape:  [(1, 2), (2, 3), (3, 4), (4, 3), (3, 2), (2, 1)]\n",
      "Training plateau not reached, continuing...\n",
      "Finished epoch 16 in 2.014 sec\n",
      "Model shape:  [(1, 2), (2, 3), (3, 4), (4, 3), (3, 2), (2, 1)]\n",
      "Training plateau not reached, continuing...\n",
      "Finished epoch 17 in 1.979 sec\n",
      "Model shape:  [(1, 2), (2, 3), (3, 4), (4, 4), (4, 2), (2, 1)]\n",
      "Training plateau not reached, continuing...\n",
      "Finished epoch 18 in 1.999 sec\n",
      "Model shape:  [(1, 2), (2, 3), (3, 5), (5, 4), (4, 2), (2, 1)]\n",
      "Training plateau not reached, continuing...\n",
      "Finished epoch 19 in 2.010 sec\n",
      "Model shape:  [(1, 2), (2, 4), (4, 6), (6, 4), (4, 2), (2, 1)]\n",
      "Training plateau not reached, continuing...\n",
      "Finished epoch 20 in 2.030 sec\n",
      "Model shape:  [(1, 2), (2, 4), (4, 6), (6, 4), (4, 2), (2, 1)]\n",
      "Training plateau not reached, continuing...\n",
      "Finished epoch 21 in 2.072 sec\n",
      "Model shape:  [(1, 2), (2, 4), (4, 6), (6, 4), (4, 2), (2, 1)]\n",
      "Training plateau not reached, continuing...\n",
      "Finished epoch 22 in 2.025 sec\n",
      "Model shape:  [(1, 2), (2, 4), (4, 6), (6, 4), (4, 2), (2, 1)]\n",
      "Training plateau not reached, continuing...\n",
      "Finished epoch 23 in 2.034 sec\n",
      "Model shape:  [(1, 2), (2, 4), (4, 6), (6, 4), (4, 2), (2, 1)]\n",
      "Training plateau not reached, continuing...\n",
      "Finished epoch 24 in 2.042 sec\n",
      "Model shape:  [(1, 2), (2, 4), (4, 7), (7, 4), (4, 2), (2, 1)]\n",
      "Training plateau not reached, continuing...\n",
      "Finished epoch 25 in 2.040 sec\n",
      "Model shape:  [(1, 2), (2, 4), (4, 7), (7, 4), (4, 2), (2, 1)]\n",
      "Training plateau not reached, continuing...\n",
      "Finished epoch 26 in 2.020 sec\n",
      "Model shape:  [(1, 2), (2, 4), (4, 7), (7, 4), (4, 2), (2, 1)]\n",
      "Training plateau not reached, continuing...\n",
      "Finished epoch 27 in 2.064 sec\n",
      "Model shape:  [(1, 2), (2, 4), (4, 7), (7, 4), (4, 2), (2, 1)]\n",
      "Training plateau not reached, continuing...\n",
      "Finished epoch 28 in 2.059 sec\n",
      "Model shape:  [(1, 2), (2, 4), (4, 7), (7, 4), (4, 2), (2, 1)]\n",
      "Training plateau not reached, continuing...\n",
      "Finished epoch 29 in 2.061 sec\n",
      "Model shape:  [(1, 2), (2, 4), (4, 7), (7, 4), (4, 2), (2, 1)]\n",
      "Training plateau not reached, continuing...\n",
      "Finished epoch 30 in 2.092 sec\n",
      "Model shape:  [(1, 2), (2, 4), (4, 7), (7, 4), (4, 2), (2, 1)]\n",
      "Training plateau not reached, continuing...\n",
      "Finished epoch 31 in 2.072 sec\n",
      "Model shape:  [(1, 2), (2, 4), (4, 7), (7, 4), (4, 2), (2, 1)]\n",
      "Training plateau not reached, continuing...\n",
      "Finished epoch 32 in 2.034 sec\n",
      "Model shape:  [(1, 2), (2, 4), (4, 7), (7, 4), (4, 2), (2, 1)]\n",
      "Training plateau not reached, continuing...\n",
      "Finished epoch 33 in 2.072 sec\n",
      "Model shape:  [(1, 2), (2, 4), (4, 7), (7, 4), (4, 2), (2, 1)]\n",
      "Training plateau not reached, continuing...\n",
      "Finished epoch 34 in 2.103 sec\n",
      "Model shape:  [(1, 2), (2, 4), (4, 7), (7, 4), (4, 2), (2, 1)]\n",
      "Training plateau not reached, continuing...\n",
      "Finished epoch 35 in 2.066 sec\n",
      "Model shape:  [(1, 2), (2, 4), (4, 7), (7, 4), (4, 2), (2, 1)]\n",
      "Training plateau not reached, continuing...\n",
      "Finished epoch 36 in 2.046 sec\n",
      "Model shape:  [(1, 2), (2, 4), (4, 7), (7, 4), (4, 2), (2, 1)]\n",
      "Training plateau not reached, continuing...\n",
      "Finished epoch 37 in 2.067 sec\n",
      "Model shape:  [(1, 2), (2, 4), (4, 7), (7, 4), (4, 2), (2, 1)]\n",
      "Training plateau not reached, continuing...\n",
      "Finished epoch 38 in 2.031 sec\n",
      "Model shape:  [(1, 2), (2, 4), (4, 7), (7, 4), (4, 2), (2, 1)]\n",
      "Training plateau not reached, continuing...\n",
      "Finished epoch 39 in 2.055 sec\n",
      "Model shape:  [(1, 2), (2, 4), (4, 7), (7, 4), (4, 2), (2, 1)]\n",
      "Training plateau not reached, continuing...\n",
      "Finished epoch 40 in 2.050 sec\n",
      "Model shape:  [(1, 2), (2, 4), (4, 7), (7, 4), (4, 2), (2, 1)]\n",
      "Training plateau not reached, continuing...\n",
      "Finished epoch 41 in 2.025 sec\n",
      "Model shape:  [(1, 2), (2, 4), (4, 7), (7, 4), (4, 2), (2, 1)]\n",
      "Training plateau not reached, continuing...\n",
      "Finished epoch 42 in 2.047 sec\n",
      "Model shape:  [(1, 2), (2, 4), (4, 7), (7, 4), (4, 2), (2, 1)]\n",
      "Training plateau not reached, continuing...\n",
      "Finished epoch 43 in 2.057 sec\n",
      "Model shape:  [(1, 2), (2, 4), (4, 7), (7, 4), (4, 2), (2, 1)]\n",
      "Training plateau not reached, continuing...\n",
      "Finished epoch 44 in 2.026 sec\n",
      "Model shape:  [(1, 2), (2, 4), (4, 7), (7, 4), (4, 2), (2, 1)]\n",
      "Training plateau not reached, continuing...\n",
      "Finished epoch 45 in 2.044 sec\n",
      "Model shape:  [(1, 2), (2, 4), (4, 7), (7, 4), (4, 2), (2, 1)]\n",
      "Training plateau not reached, continuing...\n",
      "Finished epoch 46 in 2.055 sec\n",
      "Model shape:  [(1, 2), (2, 4), (4, 7), (7, 4), (4, 2), (2, 1)]\n",
      "Training plateau not reached, continuing...\n",
      "Finished epoch 47 in 2.023 sec\n",
      "Model shape:  [(1, 2), (2, 4), (4, 7), (7, 4), (4, 2), (2, 1)]\n",
      "Training plateau not reached, continuing...\n",
      "Finished epoch 48 in 2.041 sec\n",
      "Model shape:  [(1, 2), (2, 4), (4, 7), (7, 4), (4, 2), (2, 1)]\n",
      "Training plateau not reached, continuing...\n",
      "Finished epoch 49 in 2.044 sec\n",
      "Model shape:  [(1, 2), (2, 4), (4, 7), (7, 4), (4, 2), (2, 1)]\n",
      "Training plateau not reached, continuing...\n",
      "Finished epoch 50 in 2.033 sec\n",
      "Model shape:  [(1, 2), (2, 4), (4, 7), (7, 4), (4, 2), (2, 1)]\n",
      "Training plateau not reached, continuing...\n",
      "Finished epoch 51 in 2.030 sec\n",
      "Model shape:  [(1, 2), (2, 4), (4, 7), (7, 4), (4, 2), (2, 1)]\n",
      "Training plateau not reached, continuing...\n",
      "Finished epoch 52 in 2.057 sec\n",
      "Model shape:  [(1, 2), (2, 4), (4, 7), (7, 4), (4, 2), (2, 1)]\n",
      "Training plateau not reached, continuing...\n",
      "Finished epoch 53 in 2.040 sec\n",
      "Model shape:  [(1, 2), (2, 4), (4, 7), (7, 4), (4, 2), (2, 1)]\n",
      "Training plateau not reached, continuing...\n",
      "Finished epoch 54 in 2.025 sec\n",
      "Model shape:  [(1, 2), (2, 4), (4, 7), (7, 4), (4, 2), (2, 1)]\n",
      "Training plateau not reached, continuing...\n",
      "Finished epoch 55 in 2.024 sec\n",
      "Model shape:  [(1, 2), (2, 4), (4, 7), (7, 4), (4, 2), (2, 1)]\n",
      "Training plateau not reached, continuing...\n",
      "Finished epoch 56 in 2.059 sec\n",
      "Model shape:  [(1, 2), (2, 4), (4, 7), (7, 4), (4, 2), (2, 1)]\n",
      "Training plateau not reached, continuing...\n",
      "Finished epoch 57 in 2.137 sec\n",
      "Model shape:  [(1, 2), (2, 4), (4, 7), (7, 4), (4, 2), (2, 1)]\n",
      "Training plateau not reached, continuing...\n",
      "Finished epoch 58 in 2.075 sec\n",
      "Model shape:  [(1, 2), (2, 4), (4, 7), (7, 4), (4, 2), (2, 1)]\n",
      "Training plateau not reached, continuing...\n",
      "Finished epoch 59 in 2.050 sec\n",
      "Model shape:  [(1, 2), (2, 4), (4, 7), (7, 4), (4, 2), (2, 1)]\n",
      "Training plateau not reached, continuing...\n",
      "Finished epoch 60 in 2.088 sec\n",
      "Model shape:  [(1, 2), (2, 4), (4, 7), (7, 4), (4, 2), (2, 1)]\n"
     ]
    },
    {
     "name": "stdout",
     "output_type": "stream",
     "text": [
      "Training plateau not reached, continuing...\n",
      "Finished epoch 61 in 2.057 sec\n",
      "Model shape:  [(1, 2), (2, 4), (4, 7), (7, 4), (4, 2), (2, 1)]\n",
      "Training plateau not reached, continuing...\n",
      "Finished epoch 62 in 2.041 sec\n",
      "Model shape:  [(1, 2), (2, 4), (4, 7), (7, 4), (4, 2), (2, 1)]\n",
      "Training plateau not reached, continuing...\n",
      "Finished epoch 63 in 2.025 sec\n",
      "Model shape:  [(1, 2), (2, 4), (4, 7), (7, 4), (4, 2), (2, 1)]\n",
      "Training plateau not reached, continuing...\n",
      "Finished epoch 64 in 2.041 sec\n",
      "Model shape:  [(1, 2), (2, 4), (4, 7), (7, 4), (4, 2), (2, 1)]\n",
      "Training plateau not reached, continuing...\n",
      "Finished epoch 65 in 2.050 sec\n",
      "Model shape:  [(1, 2), (2, 4), (4, 7), (7, 4), (4, 2), (2, 1)]\n",
      "Training plateau not reached, continuing...\n",
      "Finished epoch 66 in 2.073 sec\n",
      "Model shape:  [(1, 2), (2, 4), (4, 7), (7, 4), (4, 2), (2, 1)]\n",
      "Training plateau not reached, continuing...\n",
      "Finished epoch 67 in 2.052 sec\n",
      "Model shape:  [(1, 2), (2, 4), (4, 7), (7, 4), (4, 2), (2, 1)]\n",
      "Training plateau not reached, continuing...\n",
      "Finished epoch 68 in 2.111 sec\n",
      "Model shape:  [(1, 2), (2, 4), (4, 7), (7, 4), (4, 2), (2, 1)]\n",
      "Training plateau not reached, continuing...\n",
      "Finished epoch 69 in 2.062 sec\n",
      "Model shape:  [(1, 2), (2, 4), (4, 7), (7, 4), (4, 2), (2, 1)]\n",
      "Training plateau not reached, continuing...\n",
      "Finished epoch 70 in 2.029 sec\n",
      "Model shape:  [(1, 2), (2, 4), (4, 7), (7, 4), (4, 2), (2, 1)]\n",
      "Training plateau not reached, continuing...\n",
      "Finished epoch 71 in 2.022 sec\n",
      "Model shape:  [(1, 2), (2, 4), (4, 7), (7, 4), (4, 2), (2, 1)]\n",
      "Training plateau not reached, continuing...\n",
      "Finished epoch 72 in 2.018 sec\n",
      "Model shape:  [(1, 2), (2, 4), (4, 7), (7, 4), (4, 2), (2, 1)]\n",
      "Training plateau not reached, continuing...\n",
      "Finished epoch 73 in 2.034 sec\n",
      "Model shape:  [(1, 2), (2, 4), (4, 7), (7, 4), (4, 2), (2, 1)]\n",
      "Training plateau not reached, continuing...\n",
      "Finished epoch 74 in 2.061 sec\n",
      "Model shape:  [(1, 2), (2, 4), (4, 7), (7, 4), (4, 2), (2, 1)]\n",
      "Training plateau not reached, continuing...\n",
      "Finished epoch 75 in 2.076 sec\n",
      "Model shape:  [(1, 2), (2, 4), (4, 7), (7, 4), (4, 2), (2, 1)]\n",
      "Finished epoch 76 in 2.020 sec\n",
      "Model shape:  [(1, 2), (2, 4), (4, 7), (7, 4), (4, 2), (2, 1)]\n",
      "Finished training\n"
     ]
    }
   ],
   "source": [
    "model, logdict, meta = train_from_dict(fname_samples, fname_settings, training_settings,\n",
    "                                   N=Nsamp,\n",
    "                                   use_cache=True, record_eigs=False,record_s2=True,verbose=True,\n",
    "                                   compute_overlaps=False)"
   ]
  },
  {
   "cell_type": "code",
   "execution_count": 9,
   "metadata": {},
   "outputs": [],
   "source": [
    "fidelity = logdict['fidelity_mps']\n",
    "loss = logdict['loss']\n",
    "max_bond_dim = logdict['max_bond_dim']\n",
    "smooth_loss = rolling_avg(loss,window=10*5)\n",
    "# eigs = logdict['eigenvalues']\n",
    "# s2 = logdict['s2']\n",
    "# val_loss = logdict['val_loss']\n",
    "# overlap = logdict['overlap']"
   ]
  },
  {
   "cell_type": "code",
   "execution_count": 10,
   "metadata": {},
   "outputs": [
    {
     "data": {
      "text/plain": [
       "Text(0.5,1,'batch NLL loss')"
      ]
     },
     "execution_count": 10,
     "metadata": {},
     "output_type": "execute_result"
    },
    {
     "data": {
      "image/png": "[encoded data removed]",
      "text/plain": [
       "<matplotlib.figure.Figure at 0x7f4137540ef0>"
      ]
     },
     "metadata": {},
     "output_type": "display_data"
    }
   ],
   "source": [
    "%matplotlib inline\n",
    "fig, ax = plt.subplots()\n",
    "plt.plot(loss, label='batch')\n",
    "plt.plot(smooth_loss, label='smooth')\n",
    "plt.legend()\n",
    "plt.xlabel(\"training step\")\n",
    "plt.title(\"batch NLL loss\")\n"
   ]
  },
  {
   "cell_type": "code",
   "execution_count": 11,
   "metadata": {},
   "outputs": [
    {
     "data": {
      "text/plain": [
       "[<matplotlib.lines.Line2D at 0x7f4130afeb70>]"
      ]
     },
     "execution_count": 11,
     "metadata": {},
     "output_type": "execute_result"
    },
    {
     "data": {
      "image/png": "[encoded data removed]",
      "text/plain": [
       "<matplotlib.figure.Figure at 0x7f4134f590b8>"
      ]
     },
     "metadata": {},
     "output_type": "display_data"
    }
   ],
   "source": [
    "fig, ax = plt.subplots()\n",
    "plt.plot(fidelity)"
   ]
  },
  {
   "cell_type": "code",
   "execution_count": 12,
   "metadata": {},
   "outputs": [
    {
     "data": {
      "text/plain": [
       "0.9973284297005425"
      ]
     },
     "execution_count": 12,
     "metadata": {},
     "output_type": "execute_result"
    }
   ],
   "source": [
    "fidelity[-1]"
   ]
  },
  {
   "cell_type": "code",
   "execution_count": null,
   "metadata": {},
   "outputs": [],
   "source": []
  }
 ],
 "metadata": {
  "kernelspec": {
   "display_name": "Python 3",
   "language": "python",
   "name": "python3"
  },
  "language_info": {
   "codemirror_mode": {
    "name": "ipython",
    "version": 3
   },
   "file_extension": ".py",
   "mimetype": "text/x-python",
   "name": "python",
   "nbconvert_exporter": "python",
   "pygments_lexer": "ipython3",
   "version": "3.6.8"
  }
 },
 "nbformat": 4,
 "nbformat_minor": 2
}
