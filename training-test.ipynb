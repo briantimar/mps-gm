{
 "cells": [
  {
   "cell_type": "markdown",
   "metadata": {},
   "source": [
    "## Bond dimension testing\n",
    "Using two-site gradient based training with numpy svd, I found MPSs tended to 'inflate' to the max bond dimension, unless a very high cutoff (~1e-2) was set. Want to check if that's still the case with the stable SVD code, and if so, how it might be avoided."
   ]
  },
  {
   "cell_type": "code",
   "execution_count": 1,
   "metadata": {},
   "outputs": [
    {
     "name": "stdout",
     "output_type": "stream",
     "text": [
      "Loaded libmkl_rt.so for dgesvd\n"
     ]
    }
   ],
   "source": [
    "import numpy as np\n",
    "import torch\n",
    "\n",
    "from models import MPS, ComplexTensor\n",
    "from utils import build_ghz_plus\n",
    "from qtools import pauli_exp\n",
    "from torch.utils.data import DataLoader\n",
    "from utils import MeasurementDataset,do_local_sgd_training\n",
    "import matplotlib.pyplot as plt\n",
    "import datetime"
   ]
  },
  {
   "cell_type": "markdown",
   "metadata": {},
   "source": [
    "Pick system size, dimensionality of local hilbert space, and initial bond dim"
   ]
  },
  {
   "cell_type": "code",
   "execution_count": 2,
   "metadata": {},
   "outputs": [],
   "source": [
    "L=4\n",
    "local_dim=2\n",
    "bond_dim=2"
   ]
  },
  {
   "cell_type": "code",
   "execution_count": 3,
   "metadata": {},
   "outputs": [],
   "source": [
    "# dev = torch.device(\"cuda:0\") if torch.cuda.is_available() else torch.device(\"cpu\")\n",
    "dev = torch.device(\"cpu\")"
   ]
  },
  {
   "cell_type": "markdown",
   "metadata": {},
   "source": [
    "Initialize the MPS model"
   ]
  },
  {
   "cell_type": "code",
   "execution_count": 4,
   "metadata": {},
   "outputs": [],
   "source": [
    "psi = MPS(L=L, local_dim=local_dim, bond_dim=bond_dim)"
   ]
  },
  {
   "cell_type": "code",
   "execution_count": 5,
   "metadata": {},
   "outputs": [],
   "source": [
    "psi.to(device=dev)"
   ]
  },
  {
   "cell_type": "markdown",
   "metadata": {},
   "source": [
    "The ground truth state (a ghz state with no phase)"
   ]
  },
  {
   "cell_type": "code",
   "execution_count": 6,
   "metadata": {},
   "outputs": [],
   "source": [
    "ghz_plus = build_ghz_plus(L)\n",
    "ghz_plus.to(device=dev)"
   ]
  },
  {
   "cell_type": "markdown",
   "metadata": {},
   "source": [
    "Samples_tr: lists indices of the observed basis states at each measurement. 0 = spin up, 1 = spin down\n",
    "\n",
    "settings: array of corresponding angles"
   ]
  },
  {
   "cell_type": "code",
   "execution_count": 7,
   "metadata": {},
   "outputs": [],
   "source": [
    "# fname_settings = \"test_datasets/settings_ghz_plus_random_basis_L=%d.npy\"%L\n",
    "# fname_samples = \"test_datasets/samples_ghz_plus_random_basis_L=%d.npy\"%L\n",
    "fname_settings = \"datasets/mps_sampled/ghz_plus_L=%d_angles.npy\"%L\n",
    "fname_samples = \"datasets/mps_sampled/ghz_plus_L=%d_outcomes.npy\"%L\n",
    "Nsamp=20000\n",
    "samples = np.load(fname_samples)[:Nsamp]\n",
    "samples_tr = torch.tensor((1-samples)/2).to(dtype=torch.long,device=dev)\n",
    "settings = np.load(fname_settings)[:Nsamp]"
   ]
  },
  {
   "cell_type": "code",
   "execution_count": 8,
   "metadata": {},
   "outputs": [],
   "source": [
    "theta = torch.tensor(settings[...,0],dtype=torch.float32,device=dev)\n",
    "phi = torch.tensor(settings[...,1],dtype=torch.float32,device=dev)"
   ]
  },
  {
   "cell_type": "markdown",
   "metadata": {},
   "source": [
    "Holds the unitaries corresponding to each angle"
   ]
  },
  {
   "cell_type": "code",
   "execution_count": 9,
   "metadata": {},
   "outputs": [],
   "source": [
    "U = pauli_exp(theta, phi)\n",
    "rotations_real = U.real\n",
    "rotations_imag = U.imag"
   ]
  },
  {
   "cell_type": "markdown",
   "metadata": {},
   "source": [
    "A dataset which yields outcomes and corresponding rotations"
   ]
  },
  {
   "cell_type": "code",
   "execution_count": 10,
   "metadata": {},
   "outputs": [],
   "source": [
    "ds = MeasurementDataset(samples=samples_tr,rotations=U)"
   ]
  },
  {
   "cell_type": "markdown",
   "metadata": {},
   "source": [
    "Batch size and learning rate for training:"
   ]
  },
  {
   "cell_type": "code",
   "execution_count": 11,
   "metadata": {},
   "outputs": [],
   "source": [
    "batch_size = 1028\n",
    "lr = 1e-3"
   ]
  },
  {
   "cell_type": "code",
   "execution_count": 12,
   "metadata": {},
   "outputs": [],
   "source": [
    "dl = DataLoader(ds, batch_size=batch_size, shuffle=True)"
   ]
  },
  {
   "cell_type": "markdown",
   "metadata": {},
   "source": [
    "Number of epochs of training"
   ]
  },
  {
   "cell_type": "code",
   "execution_count": 13,
   "metadata": {},
   "outputs": [],
   "source": [
    "epochs = 50"
   ]
  },
  {
   "cell_type": "markdown",
   "metadata": {},
   "source": [
    "How many grad-descent steps to perform at each bond"
   ]
  },
  {
   "cell_type": "code",
   "execution_count": 14,
   "metadata": {},
   "outputs": [],
   "source": [
    "nstep=1"
   ]
  },
  {
   "cell_type": "markdown",
   "metadata": {},
   "source": [
    "Max number of singular values to keep, and cutoff below which to truncate singular values"
   ]
  },
  {
   "cell_type": "code",
   "execution_count": 15,
   "metadata": {},
   "outputs": [],
   "source": [
    "max_sv = 10\n",
    "cutoff=1e-3"
   ]
  },
  {
   "cell_type": "markdown",
   "metadata": {},
   "source": [
    "Regularization term: penalty for Renyi-2 entropy, here set to zero"
   ]
  },
  {
   "cell_type": "code",
   "execution_count": 16,
   "metadata": {},
   "outputs": [],
   "source": [
    "Nstep = epochs * len(dl)"
   ]
  },
  {
   "cell_type": "code",
   "execution_count": 17,
   "metadata": {},
   "outputs": [],
   "source": [
    "def make_linear_schedule(start, finish, epochs):\n",
    "    def f(ep):\n",
    "        return start + ep * (finish - start) / (epochs-1)\n",
    "    return f\n",
    "\n",
    "def make_exp_schedule(start, timescale):\n",
    "    def f(ep):\n",
    "        return start * np.exp(- ep / timescale)\n",
    "    return f"
   ]
  },
  {
   "cell_type": "code",
   "execution_count": 18,
   "metadata": {},
   "outputs": [],
   "source": [
    "s2_penalty = make_exp_schedule(1.0, epochs//5) \n",
    "max_sv_to_keep = lambda ep: max_sv\n",
    "# s2_schedule = np.zeros(Nstep)"
   ]
  },
  {
   "cell_type": "code",
   "execution_count": 19,
   "metadata": {},
   "outputs": [
    {
     "name": "stdout",
     "output_type": "stream",
     "text": [
      "Finished epoch 0 in 0.641 sec\n",
      "Model shape:  [(1, 2), (2, 3), (3, 2), (2, 1)]\n",
      "Finished epoch 1 in 0.629 sec\n",
      "Model shape:  [(1, 2), (2, 3), (3, 2), (2, 1)]\n",
      "Finished epoch 2 in 0.635 sec\n",
      "Model shape:  [(1, 2), (2, 3), (3, 2), (2, 1)]\n",
      "Finished epoch 3 in 0.605 sec\n",
      "Model shape:  [(1, 2), (2, 3), (3, 2), (2, 1)]\n",
      "Finished epoch 4 in 0.606 sec\n",
      "Model shape:  [(1, 2), (2, 3), (3, 2), (2, 1)]\n",
      "Finished epoch 5 in 0.604 sec\n",
      "Model shape:  [(1, 2), (2, 3), (3, 2), (2, 1)]\n",
      "Finished epoch 6 in 0.607 sec\n",
      "Model shape:  [(1, 2), (2, 3), (3, 2), (2, 1)]\n",
      "Finished epoch 7 in 0.612 sec\n",
      "Model shape:  [(1, 2), (2, 3), (3, 2), (2, 1)]\n",
      "Finished epoch 8 in 0.609 sec\n",
      "Model shape:  [(1, 2), (2, 3), (3, 2), (2, 1)]\n",
      "Finished epoch 9 in 0.605 sec\n",
      "Model shape:  [(1, 2), (2, 3), (3, 2), (2, 1)]\n",
      "Finished epoch 10 in 0.608 sec\n",
      "Model shape:  [(1, 2), (2, 3), (3, 2), (2, 1)]\n",
      "Finished epoch 11 in 0.612 sec\n",
      "Model shape:  [(1, 2), (2, 3), (3, 2), (2, 1)]\n",
      "Finished epoch 12 in 0.629 sec\n",
      "Model shape:  [(1, 2), (2, 3), (3, 2), (2, 1)]\n",
      "Finished epoch 13 in 0.619 sec\n",
      "Model shape:  [(1, 2), (2, 3), (3, 2), (2, 1)]\n",
      "Finished epoch 14 in 0.633 sec\n",
      "Model shape:  [(1, 2), (2, 3), (3, 2), (2, 1)]\n",
      "Finished epoch 15 in 0.608 sec\n",
      "Model shape:  [(1, 2), (2, 3), (3, 2), (2, 1)]\n",
      "Finished epoch 16 in 0.619 sec\n",
      "Model shape:  [(1, 2), (2, 3), (3, 2), (2, 1)]\n",
      "Finished epoch 17 in 0.621 sec\n",
      "Model shape:  [(1, 2), (2, 3), (3, 2), (2, 1)]\n",
      "Finished epoch 18 in 0.614 sec\n",
      "Model shape:  [(1, 2), (2, 3), (3, 2), (2, 1)]\n",
      "Finished epoch 19 in 0.635 sec\n",
      "Model shape:  [(1, 2), (2, 3), (3, 2), (2, 1)]\n",
      "Finished epoch 20 in 0.645 sec\n",
      "Model shape:  [(1, 2), (2, 3), (3, 2), (2, 1)]\n",
      "Finished epoch 21 in 0.648 sec\n",
      "Model shape:  [(1, 2), (2, 3), (3, 2), (2, 1)]\n",
      "Finished epoch 22 in 0.605 sec\n",
      "Model shape:  [(1, 2), (2, 3), (3, 2), (2, 1)]\n",
      "Finished epoch 23 in 0.603 sec\n",
      "Model shape:  [(1, 2), (2, 3), (3, 2), (2, 1)]\n",
      "Finished epoch 24 in 0.624 sec\n",
      "Model shape:  [(1, 2), (2, 3), (3, 2), (2, 1)]\n",
      "Finished epoch 25 in 0.620 sec\n",
      "Model shape:  [(1, 2), (2, 3), (3, 2), (2, 1)]\n",
      "Finished epoch 26 in 0.607 sec\n",
      "Model shape:  [(1, 2), (2, 3), (3, 2), (2, 1)]\n",
      "Finished epoch 27 in 0.603 sec\n",
      "Model shape:  [(1, 2), (2, 3), (3, 2), (2, 1)]\n",
      "Finished epoch 28 in 0.605 sec\n",
      "Model shape:  [(1, 2), (2, 3), (3, 2), (2, 1)]\n",
      "Finished epoch 29 in 0.608 sec\n",
      "Model shape:  [(1, 2), (2, 3), (3, 2), (2, 1)]\n",
      "Finished epoch 30 in 0.604 sec\n",
      "Model shape:  [(1, 2), (2, 3), (3, 2), (2, 1)]\n",
      "Finished epoch 31 in 0.610 sec\n",
      "Model shape:  [(1, 2), (2, 3), (3, 2), (2, 1)]\n",
      "Finished epoch 32 in 0.605 sec\n",
      "Model shape:  [(1, 2), (2, 3), (3, 2), (2, 1)]\n",
      "Finished epoch 33 in 0.607 sec\n",
      "Model shape:  [(1, 2), (2, 3), (3, 2), (2, 1)]\n",
      "Finished epoch 34 in 0.618 sec\n",
      "Model shape:  [(1, 2), (2, 3), (3, 2), (2, 1)]\n",
      "Finished epoch 35 in 0.603 sec\n",
      "Model shape:  [(1, 2), (2, 3), (3, 2), (2, 1)]\n",
      "Finished epoch 36 in 0.605 sec\n",
      "Model shape:  [(1, 2), (2, 3), (3, 2), (2, 1)]\n",
      "Finished epoch 37 in 0.644 sec\n",
      "Model shape:  [(1, 2), (2, 3), (3, 2), (2, 1)]\n",
      "Finished epoch 38 in 0.613 sec\n",
      "Model shape:  [(1, 2), (2, 3), (3, 2), (2, 1)]\n",
      "Finished epoch 39 in 0.633 sec\n",
      "Model shape:  [(1, 2), (2, 3), (3, 2), (2, 1)]\n",
      "Finished epoch 40 in 0.604 sec\n",
      "Model shape:  [(1, 2), (2, 3), (3, 2), (2, 1)]\n",
      "Finished epoch 41 in 0.604 sec\n",
      "Model shape:  [(1, 2), (2, 3), (3, 2), (2, 1)]\n",
      "Finished epoch 42 in 0.610 sec\n",
      "Model shape:  [(1, 2), (2, 3), (3, 2), (2, 1)]\n",
      "Finished epoch 43 in 0.608 sec\n",
      "Model shape:  [(1, 2), (2, 3), (3, 2), (2, 1)]\n",
      "Finished epoch 44 in 0.611 sec\n",
      "Model shape:  [(1, 2), (2, 3), (3, 2), (2, 1)]\n",
      "Finished epoch 45 in 0.626 sec\n",
      "Model shape:  [(1, 2), (2, 3), (3, 2), (2, 1)]\n",
      "Finished epoch 46 in 0.635 sec\n",
      "Model shape:  [(1, 2), (2, 3), (3, 2), (2, 1)]\n",
      "Finished epoch 47 in 0.610 sec\n",
      "Model shape:  [(1, 2), (2, 3), (3, 2), (2, 1)]\n",
      "Finished epoch 48 in 0.608 sec\n",
      "Model shape:  [(1, 2), (2, 3), (3, 2), (2, 1)]\n",
      "Finished epoch 49 in 0.606 sec\n",
      "Model shape:  [(1, 2), (2, 3), (3, 2), (2, 1)]\n"
     ]
    }
   ],
   "source": [
    "logdict = do_local_sgd_training(psi,dl,epochs=epochs,learning_rate=lr,\n",
    "                         s2_penalty=s2_penalty,nstep=nstep,cutoff=cutoff,max_sv_to_keep=max_sv_to_keep,\n",
    "                         ground_truth_mps=ghz_plus, use_cache=True, verbose=True, record_eigs=True, record_s2=True)"
   ]
  },
  {
   "cell_type": "code",
   "execution_count": 20,
   "metadata": {},
   "outputs": [],
   "source": [
    "fidelity = logdict['fidelity']\n",
    "loss = logdict['loss']\n",
    "max_bond_dim = logdict['max_bond_dim']\n",
    "eigs = logdict['eigenvalues']\n",
    "s2 = logdict['s2']"
   ]
  },
  {
   "cell_type": "code",
   "execution_count": 21,
   "metadata": {},
   "outputs": [],
   "source": [
    "t = datetime.datetime.now().strftime(\"%Y-%m-%d_%H:%M:%S\")"
   ]
  },
  {
   "cell_type": "code",
   "execution_count": 22,
   "metadata": {},
   "outputs": [
    {
     "data": {
      "text/plain": [
       "Text(0.5,1,'batch NLL loss 2019-05-06_13:49:12')"
      ]
     },
     "execution_count": 22,
     "metadata": {},
     "output_type": "execute_result"
    },
    {
     "data": {
      "image/png": "[encoded data removed]",
      "text/plain": [
       "<matplotlib.figure.Figure at 0x7ff7d226ffd0>"
      ]
     },
     "metadata": {},
     "output_type": "display_data"
    }
   ],
   "source": [
    "%matplotlib inline\n",
    "fig, ax = plt.subplots()\n",
    "plt.plot(loss, label='model')\n",
    "plt.legend()\n",
    "plt.xlabel(\"training step\")\n",
    "plt.title(\"batch NLL loss %s\" % t)\n",
    "# fig.savefig(\"assets/nll_loss_example_{0}.png\".format(t))"
   ]
  },
  {
   "cell_type": "code",
   "execution_count": 23,
   "metadata": {},
   "outputs": [
    {
     "data": {
      "text/plain": [
       "Text(0.5,1,'fidelity')"
      ]
     },
     "execution_count": 23,
     "metadata": {},
     "output_type": "execute_result"
    },
    {
     "data": {
      "image/png": "[encoded data removed]",
      "text/plain": [
       "<matplotlib.figure.Figure at 0x7ff7cb8c1d68>"
      ]
     },
     "metadata": {},
     "output_type": "display_data"
    }
   ],
   "source": [
    "plt.plot(fidelity)\n",
    "plt.xlabel(\"Training step\")\n",
    "plt.title(\"fidelity\")"
   ]
  },
  {
   "cell_type": "code",
   "execution_count": 24,
   "metadata": {},
   "outputs": [
    {
     "data": {
      "text/plain": [
       "Text(0.5,1,'max_bond_dim')"
      ]
     },
     "execution_count": 24,
     "metadata": {},
     "output_type": "execute_result"
    },
    {
     "data": {
      "image/png": "[encoded data removed]",
      "text/plain": [
       "<matplotlib.figure.Figure at 0x7ff7cb8c1a20>"
      ]
     },
     "metadata": {},
     "output_type": "display_data"
    }
   ],
   "source": [
    "plt.plot(max_bond_dim)\n",
    "plt.xlabel(\"Training step\")\n",
    "plt.title(\"max_bond_dim\")"
   ]
  },
  {
   "cell_type": "code",
   "execution_count": 25,
   "metadata": {},
   "outputs": [],
   "source": [
    "from tools import Hshannon"
   ]
  },
  {
   "cell_type": "code",
   "execution_count": 26,
   "metadata": {},
   "outputs": [],
   "source": [
    "svn = np.asarray([Hshannon(s, eps=1e-20) for s in eigs])"
   ]
  },
  {
   "cell_type": "code",
   "execution_count": 27,
   "metadata": {},
   "outputs": [
    {
     "data": {
      "text/plain": [
       "[<matplotlib.lines.Line2D at 0x7ff7c9f19e10>]"
      ]
     },
     "execution_count": 27,
     "metadata": {},
     "output_type": "execute_result"
    },
    {
     "data": {
      "image/png": "[encoded data removed]",
      "text/plain": [
       "<matplotlib.figure.Figure at 0x7ff7c9f19438>"
      ]
     },
     "metadata": {},
     "output_type": "display_data"
    }
   ],
   "source": [
    "fig, ax = plt.subplots()\n",
    "plt.plot(svn)"
   ]
  },
  {
   "cell_type": "code",
   "execution_count": 32,
   "metadata": {},
   "outputs": [
    {
     "data": {
      "text/plain": [
       "[<matplotlib.lines.Line2D at 0x7ff7c9c9ceb8>]"
      ]
     },
     "execution_count": 32,
     "metadata": {},
     "output_type": "execute_result"
    },
    {
     "data": {
      "image/png": "[encoded data removed]",
      "text/plain": [
       "<matplotlib.figure.Figure at 0x7ff7c9d2b6a0>"
      ]
     },
     "metadata": {},
     "output_type": "display_data"
    }
   ],
   "source": [
    "plt.plot(s2)\n",
    "plt.plot([-np.log(sum(s**2)) for s in eigs])"
   ]
  },
  {
   "cell_type": "code",
   "execution_count": null,
   "metadata": {},
   "outputs": [],
   "source": []
  }
 ],
 "metadata": {
  "kernelspec": {
   "display_name": "Python 3",
   "language": "python",
   "name": "python3"
  },
  "language_info": {
   "codemirror_mode": {
    "name": "ipython",
    "version": 3
   },
   "file_extension": ".py",
   "mimetype": "text/x-python",
   "name": "python",
   "nbconvert_exporter": "python",
   "pygments_lexer": "ipython3",
   "version": "3.6.8"
  }
 },
 "nbformat": 4,
 "nbformat_minor": 2
}
