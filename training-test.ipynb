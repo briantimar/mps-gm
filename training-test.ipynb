{
 "cells": [
  {
   "cell_type": "markdown",
   "metadata": {},
   "source": [
    "## Training test\n",
    "### A notebook for prototyping mps training code\n"
   ]
  },
  {
   "cell_type": "code",
   "execution_count": 1,
   "metadata": {},
   "outputs": [
    {
     "name": "stdout",
     "output_type": "stream",
     "text": [
      "Loaded libmkl_rt.so for dgesvd\n"
     ]
    }
   ],
   "source": [
    "import numpy as np\n",
    "import torch\n",
    "\n",
    "from mps.models import MPS, ComplexTensor\n",
    "from mps.utils import train_from_dict, rolling_avg\n",
    "import matplotlib.pyplot as plt\n",
    "import datetime\n"
   ]
  },
  {
   "cell_type": "markdown",
   "metadata": {},
   "source": [
    "Pick system size, dimensionality of local hilbert space, and initial bond dim"
   ]
  },
  {
   "cell_type": "code",
   "execution_count": 2,
   "metadata": {},
   "outputs": [],
   "source": [
    "L=6\n",
    "local_dim=2\n",
    "bond_dim=2"
   ]
  },
  {
   "cell_type": "code",
   "execution_count": 3,
   "metadata": {},
   "outputs": [],
   "source": [
    "# dev = torch.device(\"cuda:0\") if torch.cuda.is_available() else torch.device(\"cpu\")\n",
    "dev = torch.device(\"cpu\")"
   ]
  },
  {
   "cell_type": "markdown",
   "metadata": {},
   "source": [
    "Initialize the MPS model"
   ]
  },
  {
   "cell_type": "code",
   "execution_count": 4,
   "metadata": {},
   "outputs": [],
   "source": [
    "psi = MPS(L=L, local_dim=local_dim, bond_dim=bond_dim)"
   ]
  },
  {
   "cell_type": "code",
   "execution_count": 5,
   "metadata": {},
   "outputs": [],
   "source": [
    "psi.to(device=dev)"
   ]
  },
  {
   "cell_type": "code",
   "execution_count": 6,
   "metadata": {},
   "outputs": [],
   "source": [
    "fname_settings = \"datasets/mps_sampled/ghz_plus_L=%d_angles.npy\"%L\n",
    "fname_samples = \"datasets/mps_sampled/ghz_plus_L=%d_outcomes.npy\"%L\n",
    "fname_mps = \"datasets/mps_sampled/ghz_plus_L=%d_state\"%L\n",
    "Nsamp=20000\n"
   ]
  },
  {
   "cell_type": "code",
   "execution_count": null,
   "metadata": {},
   "outputs": [],
   "source": [
    "training_settings=dict(batch_size=512,epochs=2,\n",
    "                        max_sv=10,cutoff=1e-3,\n",
    "                       lr_scale=1e-3, lr_timescale=100,\n",
    "                       s2_scale=0, s2_timescale=100,\n",
    "                       hold_early_cutoff=True,\n",
    "                       wait_for_plateau=True,\n",
    "                      mps_path = fname_mps, \n",
    "                      samples_per_epoch=5)\n",
    "                           "
   ]
  },
  {
   "cell_type": "code",
   "execution_count": null,
   "metadata": {
    "scrolled": true
   },
   "outputs": [
    {
     "name": "stdout",
     "output_type": "stream",
     "text": [
      "Successfully loaded 20000 settings, samples for system of size L=6\n",
      "Loaded the following settings:\n",
      "lr_scale = 1.000000e-03\n",
      "lr_timescale = 1.000000e+02\n",
      "s2_scale = 0.000000e+00\n",
      "s2_timescale = 1.000000e+02\n",
      "epochs = 2.000000e+00\n",
      "cutoff = 1.000000e-03\n",
      "max_sv = 1.000000e+01\n",
      "batch_size = 5.120000e+02\n",
      "Hold early cutoff: True\n",
      "Wait for plateau: True\n",
      "Samples per epoch: 5\n",
      "loading ground truth MPS from  datasets/mps_sampled/ghz_plus_L=6_state\n",
      "Training on system size 6 with 20000 samples\n",
      "Finished epoch 1 in 1.889 sec\n",
      "Model shape:  [(1, 2), (2, 2), (2, 2), (2, 2), (2, 2), (2, 1)]\n",
      "Finished epoch 2 in 1.906 sec\n",
      "Model shape:  [(1, 2), (2, 2), (2, 2), (2, 2), (2, 2), (2, 1)]\n",
      "Finished epoch 3 in 1.898 sec\n",
      "Model shape:  [(1, 2), (2, 2), (2, 2), (2, 2), (2, 2), (2, 1)]\n",
      "Finished epoch 4 in 1.908 sec\n",
      "Model shape:  [(1, 2), (2, 2), (2, 2), (2, 2), (2, 2), (2, 1)]\n",
      "Finished epoch 5 in 1.901 sec\n",
      "Model shape:  [(1, 2), (2, 2), (2, 2), (2, 2), (2, 2), (2, 1)]\n",
      "Finished epoch 6 in 1.932 sec\n",
      "Model shape:  [(1, 2), (2, 2), (2, 2), (2, 2), (2, 2), (2, 1)]\n",
      "Finished epoch 7 in 1.904 sec\n",
      "Model shape:  [(1, 2), (2, 2), (2, 2), (2, 2), (2, 2), (2, 1)]\n",
      "Finished epoch 8 in 1.920 sec\n",
      "Model shape:  [(1, 2), (2, 2), (2, 2), (2, 2), (2, 2), (2, 1)]\n",
      "Finished epoch 9 in 1.922 sec\n",
      "Model shape:  [(1, 2), (2, 2), (2, 2), (2, 2), (2, 2), (2, 1)]\n",
      "Finished epoch 10 in 1.905 sec\n",
      "Model shape:  [(1, 2), (2, 2), (2, 2), (2, 2), (2, 2), (2, 1)]\n",
      "Finished epoch 11 in 1.935 sec\n",
      "Model shape:  [(1, 2), (2, 2), (2, 2), (2, 2), (2, 2), (2, 1)]\n",
      "Training plateau not reached, continuing...\n",
      "Finished epoch 12 in 1.949 sec\n",
      "Model shape:  [(1, 2), (2, 4), (4, 5), (5, 4), (4, 2), (2, 1)]\n",
      "Training plateau not reached, continuing...\n",
      "Finished epoch 13 in 1.965 sec\n",
      "Model shape:  [(1, 2), (2, 4), (4, 6), (6, 4), (4, 2), (2, 1)]\n",
      "Training plateau not reached, continuing...\n",
      "Finished epoch 14 in 1.991 sec\n",
      "Model shape:  [(1, 2), (2, 4), (4, 7), (7, 4), (4, 2), (2, 1)]\n",
      "Training plateau not reached, continuing...\n",
      "Finished epoch 15 in 2.019 sec\n",
      "Model shape:  [(1, 2), (2, 4), (4, 7), (7, 4), (4, 2), (2, 1)]\n",
      "Training plateau not reached, continuing...\n",
      "Finished epoch 16 in 2.006 sec\n",
      "Model shape:  [(1, 2), (2, 4), (4, 7), (7, 4), (4, 2), (2, 1)]\n",
      "Training plateau not reached, continuing...\n",
      "Finished epoch 17 in 2.018 sec\n",
      "Model shape:  [(1, 2), (2, 4), (4, 7), (7, 4), (4, 2), (2, 1)]\n",
      "Training plateau not reached, continuing...\n",
      "Finished epoch 18 in 2.020 sec\n",
      "Model shape:  [(1, 2), (2, 4), (4, 7), (7, 4), (4, 2), (2, 1)]\n",
      "Training plateau not reached, continuing...\n",
      "Finished epoch 19 in 2.002 sec\n",
      "Model shape:  [(1, 2), (2, 4), (4, 7), (7, 4), (4, 2), (2, 1)]\n",
      "Training plateau not reached, continuing...\n",
      "Finished epoch 20 in 2.005 sec\n",
      "Model shape:  [(1, 2), (2, 4), (4, 7), (7, 4), (4, 2), (2, 1)]\n",
      "Training plateau not reached, continuing...\n",
      "Finished epoch 21 in 2.005 sec\n",
      "Model shape:  [(1, 2), (2, 4), (4, 7), (7, 4), (4, 2), (2, 1)]\n",
      "Training plateau not reached, continuing...\n",
      "Finished epoch 22 in 2.002 sec\n",
      "Model shape:  [(1, 2), (2, 4), (4, 7), (7, 4), (4, 2), (2, 1)]\n",
      "Training plateau not reached, continuing...\n",
      "Finished epoch 23 in 2.021 sec\n",
      "Model shape:  [(1, 2), (2, 4), (4, 7), (7, 4), (4, 2), (2, 1)]\n",
      "Training plateau not reached, continuing...\n",
      "Finished epoch 24 in 2.004 sec\n",
      "Model shape:  [(1, 2), (2, 4), (4, 7), (7, 4), (4, 2), (2, 1)]\n",
      "Training plateau not reached, continuing...\n",
      "Finished epoch 25 in 2.007 sec\n",
      "Model shape:  [(1, 2), (2, 4), (4, 7), (7, 4), (4, 2), (2, 1)]\n",
      "Training plateau not reached, continuing...\n",
      "Finished epoch 26 in 2.003 sec\n",
      "Model shape:  [(1, 2), (2, 4), (4, 7), (7, 4), (4, 2), (2, 1)]\n",
      "Training plateau not reached, continuing...\n",
      "Finished epoch 27 in 2.022 sec\n",
      "Model shape:  [(1, 2), (2, 4), (4, 7), (7, 4), (4, 2), (2, 1)]\n",
      "Training plateau not reached, continuing...\n",
      "Finished epoch 28 in 2.004 sec\n",
      "Model shape:  [(1, 2), (2, 4), (4, 7), (7, 4), (4, 2), (2, 1)]\n"
     ]
    }
   ],
   "source": [
    "model, logdict, meta = train_from_dict(fname_samples, fname_settings, training_settings,\n",
    "                                   N=Nsamp,\n",
    "                                   use_cache=True, record_eigs=False,record_s2=True,verbose=True,\n",
    "                                   compute_overlaps=False)"
   ]
  },
  {
   "cell_type": "code",
   "execution_count": null,
   "metadata": {},
   "outputs": [],
   "source": [
    "fidelity = logdict['fidelity_mps']\n",
    "loss = logdict['loss']\n",
    "max_bond_dim = logdict['max_bond_dim']\n",
    "smooth_loss = rolling_avg(loss,window=10*5)\n",
    "# eigs = logdict['eigenvalues']\n",
    "# s2 = logdict['s2']\n",
    "# val_loss = logdict['val_loss']\n",
    "# overlap = logdict['overlap']"
   ]
  },
  {
   "cell_type": "code",
   "execution_count": null,
   "metadata": {},
   "outputs": [],
   "source": [
    "%matplotlib inline\n",
    "fig, ax = plt.subplots()\n",
    "plt.plot(loss, label='batch')\n",
    "plt.plot(smooth_loss, label='smooth')\n",
    "plt.legend()\n",
    "plt.xlabel(\"training step\")\n",
    "plt.title(\"batch NLL loss\")\n"
   ]
  },
  {
   "cell_type": "code",
   "execution_count": null,
   "metadata": {},
   "outputs": [],
   "source": [
    "fig, ax = plt.subplots()\n",
    "plt.plot(fidelity)"
   ]
  },
  {
   "cell_type": "code",
   "execution_count": null,
   "metadata": {},
   "outputs": [],
   "source": [
    "fidelity[-1]"
   ]
  },
  {
   "cell_type": "code",
   "execution_count": null,
   "metadata": {},
   "outputs": [],
   "source": []
  }
 ],
 "metadata": {
  "kernelspec": {
   "display_name": "Python 3",
   "language": "python",
   "name": "python3"
  },
  "language_info": {
   "codemirror_mode": {
    "name": "ipython",
    "version": 3
   },
   "file_extension": ".py",
   "mimetype": "text/x-python",
   "name": "python",
   "nbconvert_exporter": "python",
   "pygments_lexer": "ipython3",
   "version": "3.6.8"
  }
 },
 "nbformat": 4,
 "nbformat_minor": 2
}
