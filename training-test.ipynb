{
 "cells": [
  {
   "cell_type": "markdown",
   "metadata": {},
   "source": [
    "## Training test\n",
    "### A notebook for prototyping mps training code\n"
   ]
  },
  {
   "cell_type": "code",
   "execution_count": 1,
   "metadata": {},
   "outputs": [
    {
     "name": "stdout",
     "output_type": "stream",
     "text": [
      "Loaded libmkl_rt.so for dgesvd\n"
     ]
    }
   ],
   "source": [
    "import numpy as np\n",
    "import torch\n",
    "\n",
    "from mps.models import MPS, ComplexTensor\n",
    "from mps.utils import train_from_dict, rolling_avg, two_phase_training\n",
    "import matplotlib.pyplot as plt\n",
    "import datetime\n"
   ]
  },
  {
   "cell_type": "markdown",
   "metadata": {},
   "source": [
    "Pick system size, dimensionality of local hilbert space, and initial bond dim"
   ]
  },
  {
   "cell_type": "code",
   "execution_count": 2,
   "metadata": {},
   "outputs": [],
   "source": [
    "L=6\n",
    "local_dim=2\n",
    "bond_dim=2"
   ]
  },
  {
   "cell_type": "code",
   "execution_count": 3,
   "metadata": {},
   "outputs": [],
   "source": [
    "# dev = torch.device(\"cuda:0\") if torch.cuda.is_available() else torch.device(\"cpu\")\n",
    "dev = torch.device(\"cpu\")"
   ]
  },
  {
   "cell_type": "markdown",
   "metadata": {},
   "source": [
    "Initialize the MPS model"
   ]
  },
  {
   "cell_type": "code",
   "execution_count": 4,
   "metadata": {},
   "outputs": [],
   "source": [
    "psi = MPS(L=L, local_dim=local_dim, bond_dim=bond_dim)"
   ]
  },
  {
   "cell_type": "code",
   "execution_count": 5,
   "metadata": {},
   "outputs": [],
   "source": [
    "psi.to(device=dev)"
   ]
  },
  {
   "cell_type": "code",
   "execution_count": 6,
   "metadata": {},
   "outputs": [],
   "source": [
    "fname_settings = \"datasets/mps_sampled/ghz_plus_L=%d_angles.npy\"%L\n",
    "fname_samples = \"datasets/mps_sampled/ghz_plus_L=%d_outcomes.npy\"%L\n",
    "fname_mps = \"datasets/mps_sampled/ghz_plus_L=%d_state\"%L\n",
    "Nsamp=20000\n"
   ]
  },
  {
   "cell_type": "code",
   "execution_count": 7,
   "metadata": {},
   "outputs": [],
   "source": [
    "training_settings=dict(batch_size=512,epochs=2,\n",
    "                        max_sv=10,cutoff=1e-3,\n",
    "                       lr_scale=1e-3, lr_timescale=100,\n",
    "                       s2_scale=0, s2_timescale=100,\n",
    "                       hold_early_cutoff=True,\n",
    "                      mps_path = fname_mps, \n",
    "                       val_fraction=.2,\n",
    "                      samples_per_epoch=1)\n",
    "                           "
   ]
  },
  {
   "cell_type": "code",
   "execution_count": 8,
   "metadata": {
    "scrolled": true
   },
   "outputs": [
    {
     "name": "stdout",
     "output_type": "stream",
     "text": [
      "Successfully loaded 20000 settings, samples for system of size L=6\n",
      "Loaded the following settings:\n",
      "lr_scale = 1.000000e-03\n",
      "lr_timescale = 1.000000e+02\n",
      "s2_scale = 0.000000e+00\n",
      "s2_timescale = 1.000000e+02\n",
      "epochs = 2.000000e+00\n",
      "cutoff = 1.000000e-03\n",
      "max_sv = 1.000000e+01\n",
      "batch_size = 5.120000e+02\n",
      "Hold early cutoff: True\n",
      "Wait for tr plateau: False\n",
      "Samples per epoch: 1\n",
      "Val fraction: 0.2\n",
      "Early stopping: False\n",
      "Wait for val plateau: True\n",
      "loading ground truth MPS from  datasets/mps_sampled/ghz_plus_L=6_state\n",
      "Training on system size 6 with 16000 samples\n",
      "Starting training on model of shape:\n",
      "[(1, 2), (2, 2), (2, 2), (2, 2), (2, 2), (2, 1)]\n",
      "0.1\n",
      "Finished epoch 1 in 1.636 sec\n",
      "Model shape:  [(1, 2), (2, 2), (2, 2), (2, 2), (2, 2), (2, 1)]\n",
      "0.1\n",
      "Finished epoch 2 in 1.615 sec\n",
      "Model shape:  [(1, 2), (2, 2), (2, 2), (2, 2), (2, 2), (2, 1)]\n",
      "0.1\n",
      "Finished epoch 3 in 1.799 sec\n",
      "Model shape:  [(1, 2), (2, 2), (2, 2), (2, 2), (2, 2), (2, 1)]\n",
      "0.1\n",
      "Finished epoch 4 in 1.653 sec\n",
      "Model shape:  [(1, 2), (2, 2), (2, 2), (2, 2), (2, 2), (2, 1)]\n",
      "0.1\n",
      "Finished epoch 5 in 1.646 sec\n",
      "Model shape:  [(1, 2), (2, 2), (2, 2), (2, 2), (2, 2), (2, 1)]\n",
      "0.1\n",
      "Finished epoch 6 in 2.083 sec\n",
      "Model shape:  [(1, 2), (2, 2), (2, 2), (2, 2), (2, 2), (2, 1)]\n",
      "0.1\n",
      "Finished epoch 7 in 2.149 sec\n",
      "Model shape:  [(1, 2), (2, 2), (2, 2), (2, 2), (2, 2), (2, 1)]\n",
      "0.1\n",
      "Finished epoch 8 in 1.666 sec\n",
      "Model shape:  [(1, 2), (2, 2), (2, 2), (2, 2), (2, 2), (2, 1)]\n",
      "0.1\n",
      "Finished epoch 9 in 1.669 sec\n",
      "Model shape:  [(1, 2), (2, 2), (2, 2), (2, 2), (2, 2), (2, 1)]\n",
      "0.1\n",
      "Finished epoch 10 in 1.654 sec\n",
      "Model shape:  [(1, 2), (2, 2), (2, 2), (2, 2), (2, 2), (2, 1)]\n",
      "0.1\n",
      "Finished epoch 11 in 1.662 sec\n",
      "Model shape:  [(1, 2), (2, 2), (2, 2), (2, 2), (2, 2), (2, 1)]\n",
      "0.001\n",
      "Finished epoch 12 in 1.667 sec\n",
      "Model shape:  [(1, 2), (2, 2), (2, 2), (2, 2), (2, 2), (2, 1)]\n",
      "0.001\n",
      "Finished epoch 13 in 1.595 sec\n",
      "Model shape:  [(1, 2), (2, 2), (2, 2), (2, 2), (2, 2), (2, 1)]\n",
      "0.001\n",
      "Finished epoch 14 in 1.626 sec\n",
      "Model shape:  [(1, 2), (2, 3), (3, 3), (3, 3), (3, 2), (2, 1)]\n",
      "0.001\n",
      "Finished epoch 15 in 1.647 sec\n",
      "Model shape:  [(1, 2), (2, 3), (3, 3), (3, 3), (3, 2), (2, 1)]\n",
      "0.001\n",
      "Finished epoch 16 in 1.676 sec\n",
      "Model shape:  [(1, 2), (2, 3), (3, 3), (3, 3), (3, 2), (2, 1)]\n",
      "0.001\n",
      "Finished epoch 17 in 1.658 sec\n",
      "Model shape:  [(1, 2), (2, 3), (3, 3), (3, 3), (3, 2), (2, 1)]\n",
      "0.001\n",
      "Finished epoch 18 in 1.635 sec\n",
      "Model shape:  [(1, 2), (2, 3), (3, 3), (3, 3), (3, 2), (2, 1)]\n",
      "0.001\n",
      "Finished epoch 19 in 1.623 sec\n",
      "Model shape:  [(1, 2), (2, 3), (3, 3), (3, 3), (3, 2), (2, 1)]\n",
      "0.001\n",
      "Finished epoch 20 in 1.872 sec\n",
      "Model shape:  [(1, 2), (2, 3), (3, 3), (3, 3), (3, 2), (2, 1)]\n",
      "0.001\n",
      "Finished epoch 21 in 1.999 sec\n",
      "Model shape:  [(1, 2), (2, 3), (3, 3), (3, 3), (3, 2), (2, 1)]\n",
      "0.001\n",
      "Finished epoch 22 in 1.861 sec\n",
      "Model shape:  [(1, 2), (2, 3), (3, 3), (3, 3), (3, 2), (2, 1)]\n",
      "0.001\n",
      "Finished epoch 23 in 1.690 sec\n",
      "Model shape:  [(1, 2), (2, 3), (3, 3), (3, 3), (3, 2), (2, 1)]\n",
      "0.001\n",
      "Finished epoch 24 in 1.614 sec\n",
      "Model shape:  [(1, 2), (2, 3), (3, 4), (4, 3), (3, 2), (2, 1)]\n",
      "0.001\n",
      "Finished epoch 25 in 1.665 sec\n",
      "Model shape:  [(1, 2), (2, 3), (3, 4), (4, 3), (3, 2), (2, 1)]\n",
      "0.001\n",
      "Finished epoch 26 in 1.672 sec\n",
      "Model shape:  [(1, 2), (2, 4), (4, 4), (4, 3), (3, 2), (2, 1)]\n",
      "0.001\n",
      "Finished epoch 27 in 1.840 sec\n",
      "Model shape:  [(1, 2), (2, 4), (4, 4), (4, 3), (3, 2), (2, 1)]\n",
      "0.001\n",
      "Finished epoch 28 in 1.789 sec\n",
      "Model shape:  [(1, 2), (2, 4), (4, 4), (4, 3), (3, 2), (2, 1)]\n",
      "0.001\n",
      "Finished epoch 29 in 1.724 sec\n",
      "Model shape:  [(1, 2), (2, 4), (4, 4), (4, 3), (3, 2), (2, 1)]\n",
      "0.001\n",
      "Finished epoch 30 in 1.674 sec\n",
      "Model shape:  [(1, 2), (2, 4), (4, 4), (4, 3), (3, 2), (2, 1)]\n",
      "0.001\n",
      "Finished epoch 31 in 1.661 sec\n",
      "Model shape:  [(1, 2), (2, 4), (4, 4), (4, 3), (3, 2), (2, 1)]\n",
      "0.001\n",
      "Finished epoch 32 in 1.675 sec\n",
      "Model shape:  [(1, 2), (2, 4), (4, 4), (4, 3), (3, 2), (2, 1)]\n",
      "0.001\n",
      "Finished epoch 33 in 1.758 sec\n",
      "Model shape:  [(1, 2), (2, 4), (4, 4), (4, 3), (3, 2), (2, 1)]\n",
      "0.001\n",
      "Finished epoch 34 in 1.662 sec\n",
      "Model shape:  [(1, 2), (2, 4), (4, 4), (4, 3), (3, 2), (2, 1)]\n",
      "0.001\n",
      "Finished epoch 35 in 1.634 sec\n",
      "Model shape:  [(1, 2), (2, 4), (4, 4), (4, 3), (3, 2), (2, 1)]\n",
      "0.001\n",
      "Finished epoch 36 in 1.654 sec\n",
      "Model shape:  [(1, 2), (2, 4), (4, 4), (4, 3), (3, 2), (2, 1)]\n",
      "0.001\n",
      "Finished epoch 37 in 1.647 sec\n",
      "Model shape:  [(1, 2), (2, 4), (4, 4), (4, 3), (3, 2), (2, 1)]\n",
      "0.001\n",
      "Finished epoch 38 in 1.685 sec\n",
      "Model shape:  [(1, 2), (2, 4), (4, 4), (4, 3), (3, 2), (2, 1)]\n",
      "0.001\n",
      "Finished epoch 39 in 1.627 sec\n",
      "Model shape:  [(1, 2), (2, 4), (4, 4), (4, 3), (3, 2), (2, 1)]\n",
      "0.001\n",
      "Finished epoch 40 in 1.627 sec\n",
      "Model shape:  [(1, 2), (2, 4), (4, 4), (4, 3), (3, 2), (2, 1)]\n",
      "0.001\n",
      "Finished epoch 41 in 1.635 sec\n",
      "Model shape:  [(1, 2), (2, 4), (4, 4), (4, 3), (3, 2), (2, 1)]\n",
      "0.001\n",
      "Finished epoch 42 in 1.633 sec\n",
      "Model shape:  [(1, 2), (2, 4), (4, 4), (4, 3), (3, 2), (2, 1)]\n",
      "0.001\n",
      "Finished epoch 43 in 1.658 sec\n",
      "Model shape:  [(1, 2), (2, 4), (4, 4), (4, 3), (3, 2), (2, 1)]\n",
      "0.001\n",
      "Finished epoch 44 in 1.627 sec\n",
      "Model shape:  [(1, 2), (2, 4), (4, 4), (4, 3), (3, 2), (2, 1)]\n",
      "0.001\n",
      "Finished epoch 45 in 1.627 sec\n",
      "Model shape:  [(1, 2), (2, 4), (4, 4), (4, 3), (3, 2), (2, 1)]\n",
      "0.001\n",
      "Val score not decreasing\n",
      "Finished epoch 46 in 1.629 sec\n",
      "Model shape:  [(1, 2), (2, 4), (4, 4), (4, 3), (3, 2), (2, 1)]\n",
      "Finished training\n",
      "Successfully loaded 20000 settings, samples for system of size L=6\n",
      "Loaded the following settings:\n",
      "lr_scale = 1.000000e-03\n",
      "lr_timescale = 1.000000e+02\n",
      "s2_scale = 0.000000e+00\n",
      "s2_timescale = 1.000000e+02\n",
      "epochs = 2.000000e+00\n",
      "cutoff = 1.000000e-03\n",
      "max_sv = 1.000000e+01\n",
      "batch_size = 5.120000e+02\n",
      "Hold early cutoff: False\n",
      "Wait for tr plateau: True\n",
      "Samples per epoch: 1\n",
      "Training on supplied model\n",
      "loading ground truth MPS from  datasets/mps_sampled/ghz_plus_L=6_state\n",
      "Training on system size 6 with 20000 samples\n",
      "Starting training on model of shape:\n",
      "[(1, 2), (2, 4), (4, 4), (4, 3), (3, 2), (2, 1)]\n",
      "0.001\n",
      "Training plateau not reached, continuing...\n",
      "Finished epoch 47 in 1.948 sec\n",
      "Model shape:  [(1, 2), (2, 4), (4, 4), (4, 3), (3, 2), (2, 1)]\n",
      "0.001\n",
      "Training plateau not reached, continuing...\n",
      "Finished epoch 48 in 1.976 sec\n",
      "Model shape:  [(1, 2), (2, 4), (4, 4), (4, 3), (3, 2), (2, 1)]\n",
      "0.001\n",
      "Training plateau not reached, continuing...\n",
      "Finished epoch 49 in 2.060 sec\n",
      "Model shape:  [(1, 2), (2, 4), (4, 4), (4, 3), (3, 2), (2, 1)]\n",
      "0.001\n",
      "Training plateau not reached, continuing...\n",
      "Finished epoch 50 in 1.943 sec\n",
      "Model shape:  [(1, 2), (2, 4), (4, 4), (4, 3), (3, 2), (2, 1)]\n",
      "0.001\n",
      "Training plateau not reached, continuing...\n",
      "Finished epoch 51 in 1.978 sec\n",
      "Model shape:  [(1, 2), (2, 4), (4, 4), (4, 3), (3, 2), (2, 1)]\n",
      "0.001\n",
      "Training plateau not reached, continuing...\n",
      "Finished epoch 52 in 2.034 sec\n",
      "Model shape:  [(1, 2), (2, 4), (4, 4), (4, 3), (3, 2), (2, 1)]\n",
      "0.001\n",
      "Training plateau not reached, continuing...\n",
      "Finished epoch 53 in 1.955 sec\n",
      "Model shape:  [(1, 2), (2, 4), (4, 4), (4, 3), (3, 2), (2, 1)]\n",
      "0.001\n",
      "Training plateau not reached, continuing...\n",
      "Finished epoch 54 in 1.929 sec\n",
      "Model shape:  [(1, 2), (2, 4), (4, 4), (4, 3), (3, 2), (2, 1)]\n",
      "0.001\n",
      "Finished epoch 55 in 2.022 sec\n",
      "Model shape:  [(1, 2), (2, 4), (4, 4), (4, 3), (3, 2), (2, 1)]\n",
      "Finished training\n"
     ]
    }
   ],
   "source": [
    "model, logdict, meta = two_phase_training(fname_samples, fname_settings, training_settings,\n",
    "                                   N=Nsamp,\n",
    "                                   use_cache=True, record_eigs=False,record_s2=True,verbose=True,\n",
    "                                   compute_overlaps=False)"
   ]
  },
  {
   "cell_type": "code",
   "execution_count": 14,
   "metadata": {},
   "outputs": [],
   "source": [
    "fidelity = logdict['fidelity_mps']\n",
    "loss = logdict['loss']\n",
    "max_bond_dim = logdict['max_bond_dim']\n",
    "smooth_loss = rolling_avg(loss,window=10*1)\n",
    "# eigs = logdict['eigenvalues']\n",
    "# s2 = logdict['s2']\n",
    "val_loss = logdict['val_loss']\n",
    "# overlap = logdict['overlap']"
   ]
  },
  {
   "cell_type": "code",
   "execution_count": 15,
   "metadata": {},
   "outputs": [
    {
     "data": {
      "text/plain": [
       "Text(0.5,1,'batch NLL loss')"
      ]
     },
     "execution_count": 15,
     "metadata": {},
     "output_type": "execute_result"
    },
    {
     "data": {
      "image/png": "[encoded data removed]",
      "text/plain": [
       "<matplotlib.figure.Figure at 0x7f2838e28470>"
      ]
     },
     "metadata": {},
     "output_type": "display_data"
    }
   ],
   "source": [
    "%matplotlib inline\n",
    "fig, ax = plt.subplots()\n",
    "plt.plot(loss, label='batch')\n",
    "plt.plot(smooth_loss, label='smooth')\n",
    "plt.plot(val_loss, label='val')\n",
    "plt.legend()\n",
    "plt.xlabel(\"training step\")\n",
    "plt.title(\"batch NLL loss\")\n",
    "\n"
   ]
  },
  {
   "cell_type": "code",
   "execution_count": 11,
   "metadata": {},
   "outputs": [
    {
     "data": {
      "text/plain": [
       "46"
      ]
     },
     "execution_count": 11,
     "metadata": {},
     "output_type": "execute_result"
    }
   ],
   "source": [
    "len(val_loss)"
   ]
  },
  {
   "cell_type": "code",
   "execution_count": 12,
   "metadata": {},
   "outputs": [
    {
     "data": {
      "text/plain": [
       "[<matplotlib.lines.Line2D at 0x7f283d762198>]"
      ]
     },
     "execution_count": 12,
     "metadata": {},
     "output_type": "execute_result"
    },
    {
     "data": {
      "image/png": "[encoded data removed]",
      "text/plain": [
       "<matplotlib.figure.Figure at 0x7f283d762160>"
      ]
     },
     "metadata": {},
     "output_type": "display_data"
    }
   ],
   "source": [
    "fig, ax = plt.subplots()\n",
    "plt.plot(fidelity)"
   ]
  },
  {
   "cell_type": "code",
   "execution_count": 13,
   "metadata": {},
   "outputs": [
    {
     "data": {
      "text/plain": [
       "0.9778409646994819"
      ]
     },
     "execution_count": 13,
     "metadata": {},
     "output_type": "execute_result"
    }
   ],
   "source": [
    "fidelity[-1]"
   ]
  },
  {
   "cell_type": "code",
   "execution_count": null,
   "metadata": {},
   "outputs": [],
   "source": []
  }
 ],
 "metadata": {
  "kernelspec": {
   "display_name": "Python 3",
   "language": "python",
   "name": "python3"
  },
  "language_info": {
   "codemirror_mode": {
    "name": "ipython",
    "version": 3
   },
   "file_extension": ".py",
   "mimetype": "text/x-python",
   "name": "python",
   "nbconvert_exporter": "python",
   "pygments_lexer": "ipython3",
   "version": "3.6.8"
  }
 },
 "nbformat": 4,
 "nbformat_minor": 2
}
