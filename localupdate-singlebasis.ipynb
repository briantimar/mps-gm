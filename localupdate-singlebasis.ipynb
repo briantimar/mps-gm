{
 "cells": [
  {
   "cell_type": "code",
   "execution_count": 1,
   "metadata": {
    "collapsed": true
   },
   "outputs": [],
   "source": [
    "import numpy as np\n",
    "import torch"
   ]
  },
  {
   "cell_type": "code",
   "execution_count": 2,
   "metadata": {
    "collapsed": true
   },
   "outputs": [],
   "source": [
    "from models import MPS, ComplexTensor"
   ]
  },
  {
   "cell_type": "code",
   "execution_count": 3,
   "metadata": {
    "collapsed": true
   },
   "outputs": [],
   "source": [
    "L=4\n",
    "local_dim=2\n",
    "bond_dim=10"
   ]
  },
  {
   "cell_type": "code",
   "execution_count": 4,
   "metadata": {
    "collapsed": true
   },
   "outputs": [],
   "source": [
    "psi = MPS(L=L, local_dim=local_dim, bond_dim=bond_dim)"
   ]
  },
  {
   "cell_type": "code",
   "execution_count": 5,
   "metadata": {
    "collapsed": true
   },
   "outputs": [],
   "source": [
    "\n",
    "fname_samples=\"samples_ghz_plus_z_basis_only_L=4_Nmeasure=100000.npy\"\n",
    "samples = np.load(fname_samples)\n",
    "samples_tr = torch.tensor((samples + 1)/2).to(torch.long)\n"
   ]
  },
  {
   "cell_type": "code",
   "execution_count": 6,
   "metadata": {
    "collapsed": true
   },
   "outputs": [],
   "source": [
    "from torch.utils.data import TensorDataset, DataLoader"
   ]
  },
  {
   "cell_type": "code",
   "execution_count": 7,
   "metadata": {
    "collapsed": true
   },
   "outputs": [],
   "source": [
    "ds = TensorDataset(samples_tr)"
   ]
  },
  {
   "cell_type": "code",
   "execution_count": 8,
   "metadata": {
    "collapsed": true
   },
   "outputs": [],
   "source": [
    "batch_size = 1024\n",
    "lr = .001"
   ]
  },
  {
   "cell_type": "code",
   "execution_count": 9,
   "metadata": {
    "collapsed": true
   },
   "outputs": [],
   "source": [
    "dl = DataLoader(ds, batch_size=batch_size, shuffle=True)"
   ]
  },
  {
   "cell_type": "code",
   "execution_count": 10,
   "metadata": {
    "collapsed": true
   },
   "outputs": [],
   "source": [
    "losses = []"
   ]
  },
  {
   "cell_type": "code",
   "execution_count": 11,
   "metadata": {
    "collapsed": true
   },
   "outputs": [],
   "source": [
    "eps = 3"
   ]
  },
  {
   "cell_type": "code",
   "execution_count": 12,
   "metadata": {
    "collapsed": true
   },
   "outputs": [],
   "source": [
    "def sgd_step_at_site(mps, site_index, spin_config,\n",
    "                         rotation=None, cutoff=1e-10, normalize='left'):\n",
    "    \"\"\"Perform SGD step WRT two-site blob with left index at the site specified\"\"\"\n",
    "    psi.gauge_to(site_index)\n",
    "    #two-site blob matrix at the site\n",
    "    A = psi.merge(i).numpy()\n",
    "    #gradient of the log-prob WRT that complex matrix\n",
    "    #note that A has to updated from the conjugate!\n",
    "    g=psi.grad_twosite_logprob(i, spin_config,rotation=rotation).numpy().conj()\n",
    "    #perform gradient descent step, insert back into MPS\n",
    "    A = A - 2 * lr * g\n",
    "    psi.set_sites_from_twosite(i, A,cutoff=cutoff,normalize='left')\n",
    "   "
   ]
  },
  {
   "cell_type": "code",
   "execution_count": 13,
   "metadata": {},
   "outputs": [
    {
     "name": "stdout",
     "output_type": "stream",
     "text": [
      "finished epoch 0\n",
      "finished epoch 1\n",
      "finished epoch 2\n"
     ]
    }
   ],
   "source": [
    "for ep in range(eps):\n",
    "    for step, inputs in enumerate(dl):\n",
    "        spinconfig = inputs[0]\n",
    "    \n",
    "        for i in range(L-1):\n",
    "            sgd_step_at_site(psi, i, spinconfig,\n",
    "                                    cutoff=1e-10,normalize='left')   \n",
    "        for i in range(L-2, -1,-1):\n",
    "            sgd_step_at_site(psi, i, spinconfig,\n",
    "                                  cutoff=1e-10,normalize='right')\n",
    "        with torch.no_grad():\n",
    "            losses.append(psi.nll_loss(spinconfig))\n",
    "    print(\"finished epoch %d\" % ep)\n",
    "\n",
    "        "
   ]
  },
  {
   "cell_type": "code",
   "execution_count": 14,
   "metadata": {
    "collapsed": true
   },
   "outputs": [],
   "source": [
    "import matplotlib.pyplot as plt"
   ]
  },
  {
   "cell_type": "code",
   "execution_count": 15,
   "metadata": {},
   "outputs": [
    {
     "data": {
      "text/plain": [
       "[<matplotlib.lines.Line2D at 0x11c27d2e8>]"
      ]
     },
     "execution_count": 15,
     "metadata": {},
     "output_type": "execute_result"
    },
    {
     "data": {
      "image/png": "[encoded data removed]",
      "text/plain": [
       "<matplotlib.figure.Figure at 0x11c183828>"
      ]
     },
     "metadata": {},
     "output_type": "display_data"
    }
   ],
   "source": [
    "%matplotlib inline\n",
    "plt.plot(losses)"
   ]
  },
  {
   "cell_type": "code",
   "execution_count": 16,
   "metadata": {
    "collapsed": true
   },
   "outputs": [],
   "source": [
    "from tools import generate_binary_space"
   ]
  },
  {
   "cell_type": "code",
   "execution_count": 17,
   "metadata": {
    "collapsed": true
   },
   "outputs": [],
   "source": [
    "basis = torch.tensor(generate_binary_space(L),dtype=torch.long)"
   ]
  },
  {
   "cell_type": "code",
   "execution_count": 18,
   "metadata": {},
   "outputs": [
    {
     "name": "stdout",
     "output_type": "stream",
     "text": [
      "tensor([1, 1, 1, 1]) has probability 0.0000\n",
      "tensor([1, 1, 1, 0]) has probability 0.0001\n",
      "tensor([1, 1, 0, 1]) has probability 0.0001\n",
      "tensor([1, 1, 0, 0]) has probability 0.0000\n",
      "tensor([1, 0, 1, 1]) has probability 0.0000\n",
      "tensor([1, 0, 1, 0]) has probability 0.4990\n",
      "tensor([1, 0, 0, 1]) has probability 0.0000\n",
      "tensor([1, 0, 0, 0]) has probability 0.0000\n",
      "tensor([0, 1, 1, 1]) has probability 0.0001\n",
      "tensor([0, 1, 1, 0]) has probability 0.0001\n",
      "tensor([0, 1, 0, 1]) has probability 0.5002\n",
      "tensor([0, 1, 0, 0]) has probability 0.0000\n",
      "tensor([0, 0, 1, 1]) has probability 0.0001\n",
      "tensor([0, 0, 1, 0]) has probability 0.0000\n",
      "tensor([0, 0, 0, 1]) has probability 0.0001\n",
      "tensor([0, 0, 0, 0]) has probability 0.0001\n"
     ]
    }
   ],
   "source": [
    "with torch.no_grad():\n",
    "    for i in range(len(basis)):\n",
    "        print(\"{0} has probability {1:.4f}\".format(basis[i], psi.prob_normalized(basis[i]).item()))"
   ]
  },
  {
   "cell_type": "code",
   "execution_count": 19,
   "metadata": {},
   "outputs": [
    {
     "data": {
      "text/plain": [
       "[(1, 2), (2, 4), (4, 2), (2, 1)]"
      ]
     },
     "execution_count": 19,
     "metadata": {},
     "output_type": "execute_result"
    }
   ],
   "source": [
    "psi.shape"
   ]
  },
  {
   "cell_type": "code",
   "execution_count": 21,
   "metadata": {},
   "outputs": [
    {
     "data": {
      "text/plain": [
       "Parameter containing:\n",
       "tensor([[[ 0.1192,  0.0283]],\n",
       "\n",
       "        [[-0.2725,  0.0402]]], requires_grad=True)"
      ]
     },
     "execution_count": 21,
     "metadata": {},
     "output_type": "execute_result"
    }
   ],
   "source": [
    "psi.tensors[0].imag"
   ]
  },
  {
   "cell_type": "code",
   "execution_count": null,
   "metadata": {
    "collapsed": true
   },
   "outputs": [],
   "source": []
  }
 ],
 "metadata": {
  "kernelspec": {
   "display_name": "Python 3",
   "language": "python",
   "name": "python3"
  },
  "language_info": {
   "codemirror_mode": {
    "name": "ipython",
    "version": 3
   },
   "file_extension": ".py",
   "mimetype": "text/x-python",
   "name": "python",
   "nbconvert_exporter": "python",
   "pygments_lexer": "ipython3",
   "version": "3.5.4"
  }
 },
 "nbformat": 4,
 "nbformat_minor": 2
}
