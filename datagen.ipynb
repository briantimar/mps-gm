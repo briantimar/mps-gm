{
 "cells": [
  {
   "cell_type": "code",
   "execution_count": 1,
   "metadata": {
    "collapsed": true
   },
   "outputs": [],
   "source": [
    "import numpy as np\n",
    "import qutip as qt"
   ]
  },
  {
   "cell_type": "code",
   "execution_count": 30,
   "metadata": {
    "collapsed": true
   },
   "outputs": [],
   "source": [
    "from qutip_utils import get_all_bases, get_measurements_from_bases\n",
    "from qutip_utils import get_measurements_from_angles\n",
    "from qtools import int_basis_indx_to_paulis, to_meas_setting"
   ]
  },
  {
   "cell_type": "code",
   "execution_count": 42,
   "metadata": {
    "collapsed": true
   },
   "outputs": [],
   "source": [
    "L=2"
   ]
  },
  {
   "cell_type": "code",
   "execution_count": 44,
   "metadata": {
    "collapsed": true
   },
   "outputs": [],
   "source": [
    "psi = qt.tensor([(1.0/np.sqrt(2)) * (qt.basis(2,0) + qt.basis(2,1))]*L)"
   ]
  },
  {
   "cell_type": "code",
   "execution_count": 33,
   "metadata": {
    "collapsed": true
   },
   "outputs": [],
   "source": [
    "bases = get_all_bases(L)"
   ]
  },
  {
   "cell_type": "code",
   "execution_count": 34,
   "metadata": {
    "collapsed": true
   },
   "outputs": [],
   "source": [
    "num_per_basis = int(1e4)"
   ]
  },
  {
   "cell_type": "code",
   "execution_count": 35,
   "metadata": {
    "collapsed": true
   },
   "outputs": [],
   "source": [
    "basis_indices = range(3**L)\n",
    "paulis = [int_basis_indx_to_paulis(b,L,include_identity=False) for b in basis_indices]\n",
    "settings=np.asarray([to_meas_setting(p, ms_type='angles') for p in paulis])\n",
    "assert settings.shape==(3**L,L,2)"
   ]
  },
  {
   "cell_type": "code",
   "execution_count": 36,
   "metadata": {
    "collapsed": true
   },
   "outputs": [],
   "source": [
    "settings,samples = get_measurements_from_angles(psi, settings, num_per_basis)"
   ]
  },
  {
   "cell_type": "code",
   "execution_count": 38,
   "metadata": {},
   "outputs": [
    {
     "data": {
      "text/plain": [
       "array([[ 1,  1],\n",
       "       [ 1,  1],\n",
       "       [ 1,  1],\n",
       "       ...,\n",
       "       [ 1, -1],\n",
       "       [-1, -1],\n",
       "       [-1, -1]])"
      ]
     },
     "execution_count": 38,
     "metadata": {},
     "output_type": "execute_result"
    }
   ],
   "source": [
    "samples"
   ]
  },
  {
   "cell_type": "code",
   "execution_count": 39,
   "metadata": {
    "collapsed": true
   },
   "outputs": [],
   "source": [
    "np.save(\"datasets/samples_prod_state_spinupx_L=%d.npy\"%L, samples)\n",
    "np.save(\"datasets/settings_prod_state_spinupx_L=%d.npy\"%L, settings)"
   ]
  },
  {
   "cell_type": "code",
   "execution_count": 40,
   "metadata": {
    "collapsed": true
   },
   "outputs": [],
   "source": [
    "from qutip_utils import get_random_local_measurements"
   ]
  },
  {
   "cell_type": "code",
   "execution_count": 45,
   "metadata": {
    "collapsed": true
   },
   "outputs": [],
   "source": [
    "L=2"
   ]
  },
  {
   "cell_type": "code",
   "execution_count": 46,
   "metadata": {
    "collapsed": true
   },
   "outputs": [],
   "source": [
    "ghz_plus = (1.0/np.sqrt(2)) * ( qt.tensor([qt.basis(2,0), qt.basis(2,1)]*(L//2)) +\n",
    "                                  qt.tensor([qt.basis(2,1), qt.basis(2,0)]*(L//2))   )"
   ]
  },
  {
   "cell_type": "code",
   "execution_count": 47,
   "metadata": {
    "collapsed": true
   },
   "outputs": [],
   "source": [
    "ghz_minus = (1.0/np.sqrt(2)) * ( qt.tensor([qt.basis(2,0), qt.basis(2,1)]*(L//2)) -\n",
    "                                  qt.tensor([qt.basis(2,1), qt.basis(2,0)]*(L//2))   )"
   ]
  },
  {
   "cell_type": "code",
   "execution_count": 50,
   "metadata": {
    "collapsed": true
   },
   "outputs": [],
   "source": [
    "N = int(1e5)"
   ]
  },
  {
   "cell_type": "code",
   "execution_count": null,
   "metadata": {},
   "outputs": [],
   "source": [
    "meas_plus = get_random_local_measurements(ghz_plus, N)"
   ]
  },
  {
   "cell_type": "code",
   "execution_count": null,
   "metadata": {
    "collapsed": true
   },
   "outputs": [],
   "source": []
  }
 ],
 "metadata": {
  "kernelspec": {
   "display_name": "Python 3",
   "language": "python",
   "name": "python3"
  },
  "language_info": {
   "codemirror_mode": {
    "name": "ipython",
    "version": 3
   },
   "file_extension": ".py",
   "mimetype": "text/x-python",
   "name": "python",
   "nbconvert_exporter": "python",
   "pygments_lexer": "ipython3",
   "version": "3.5.4"
  }
 },
 "nbformat": 4,
 "nbformat_minor": 2
}
