{
 "cells": [
  {
   "cell_type": "code",
   "execution_count": 1,
   "metadata": {
    "collapsed": true
   },
   "outputs": [],
   "source": [
    "import numpy as np\n",
    "import torch"
   ]
  },
  {
   "cell_type": "code",
   "execution_count": 2,
   "metadata": {
    "collapsed": true
   },
   "outputs": [],
   "source": [
    "from models import MPS, ComplexTensor"
   ]
  },
  {
   "cell_type": "code",
   "execution_count": 50,
   "metadata": {
    "collapsed": true
   },
   "outputs": [],
   "source": [
    "L=2\n",
    "local_dim=2\n",
    "bond_dim=2"
   ]
  },
  {
   "cell_type": "code",
   "execution_count": 51,
   "metadata": {
    "collapsed": true
   },
   "outputs": [],
   "source": [
    "psi = MPS(L=L, local_dim=local_dim, bond_dim=bond_dim)"
   ]
  },
  {
   "cell_type": "code",
   "execution_count": 52,
   "metadata": {},
   "outputs": [],
   "source": [
    "fname_settings=\"datasets/settings_prod_state_spinup_L=%d.npy\" %L\n",
    "fname_samples=\"datasets/samples_prod_state_spinup_L=%d.npy\"%L\n",
    "# fname_settings = \"settings_ghz_plus_all_discrete_bases_angles_L=%d.npy\"%L\n",
    "# fname_samples = \"samples_ghz_plus_all_discrete_bases_angles_L=%d.npy\"%L\n",
    "samples = np.load(fname_samples)\n",
    "samples_tr = torch.tensor((1-samples)/2).to(torch.long)\n",
    "settings = np.load(fname_settings)"
   ]
  },
  {
   "cell_type": "code",
   "execution_count": 53,
   "metadata": {
    "collapsed": true
   },
   "outputs": [],
   "source": [
    "theta = torch.tensor(settings[...,0],dtype=torch.float32)\n",
    "phi = torch.tensor(settings[...,1],dtype=torch.float32)"
   ]
  },
  {
   "cell_type": "code",
   "execution_count": 54,
   "metadata": {
    "collapsed": true
   },
   "outputs": [],
   "source": [
    "from qtools import pauli_exp"
   ]
  },
  {
   "cell_type": "code",
   "execution_count": 55,
   "metadata": {
    "collapsed": true
   },
   "outputs": [],
   "source": [
    "U = pauli_exp(theta, phi)\n",
    "rotations_real = U.real\n",
    "rotations_imag = U.imag"
   ]
  },
  {
   "cell_type": "code",
   "execution_count": 56,
   "metadata": {
    "collapsed": true
   },
   "outputs": [],
   "source": [
    "from torch.utils.data import TensorDataset, DataLoader"
   ]
  },
  {
   "cell_type": "code",
   "execution_count": 57,
   "metadata": {
    "collapsed": true
   },
   "outputs": [],
   "source": [
    "from models import MeasurementDataset, ComplexTensor"
   ]
  },
  {
   "cell_type": "code",
   "execution_count": 58,
   "metadata": {
    "collapsed": true
   },
   "outputs": [],
   "source": [
    "ds = MeasurementDataset(samples=samples_tr,rotations=U)"
   ]
  },
  {
   "cell_type": "code",
   "execution_count": 59,
   "metadata": {
    "collapsed": true
   },
   "outputs": [],
   "source": [
    "batch_size = 256\n",
    "lr = .001"
   ]
  },
  {
   "cell_type": "code",
   "execution_count": 60,
   "metadata": {},
   "outputs": [],
   "source": [
    "dl = DataLoader(ds, batch_size=batch_size, shuffle=True)"
   ]
  },
  {
   "cell_type": "code",
   "execution_count": 61,
   "metadata": {
    "collapsed": true
   },
   "outputs": [],
   "source": [
    "losses = []"
   ]
  },
  {
   "cell_type": "code",
   "execution_count": 62,
   "metadata": {
    "collapsed": true
   },
   "outputs": [],
   "source": [
    "eps = 5"
   ]
  },
  {
   "cell_type": "code",
   "execution_count": 63,
   "metadata": {
    "collapsed": true
   },
   "outputs": [],
   "source": [
    "def sgd_step_at_site(mps, site_index, spin_config,\n",
    "                         rotation=None, cutoff=1e-10, normalize='left', \n",
    "                        max_sv_to_keep=None):\n",
    "    \"\"\"Perform SGD step WRT two-site blob with left index at the site specified\"\"\"\n",
    "    psi.gauge_to(site_index)\n",
    "    #two-site blob matrix at the site\n",
    "    A = psi.merge(i).numpy()\n",
    "    #gradient of the log-prob WRT that complex matrix\n",
    "    #note that A has to updated from the conjugate!\n",
    "    g=psi.grad_twosite_logprob(i, spin_config,rotation=rotation).numpy().conj()\n",
    "    #perform gradient descent step, insert back into MPS\n",
    "    A = A - 2 * lr * g\n",
    "    psi.set_sites_from_twosite(i, A,cutoff=cutoff,normalize=normalize, max_sv_to_keep=max_sv_to_keep)\n",
    "   "
   ]
  },
  {
   "cell_type": "code",
   "execution_count": 64,
   "metadata": {
    "collapsed": true
   },
   "outputs": [],
   "source": [
    "nstep=1"
   ]
  },
  {
   "cell_type": "code",
   "execution_count": 65,
   "metadata": {
    "collapsed": true
   },
   "outputs": [],
   "source": [
    "max_sv = None\n",
    "cutoff=1e-6"
   ]
  },
  {
   "cell_type": "code",
   "execution_count": 66,
   "metadata": {},
   "outputs": [
    {
     "name": "stdout",
     "output_type": "stream",
     "text": [
      "finished epoch 0\n",
      "finished epoch 1\n",
      "finished epoch 2\n",
      "finished epoch 3\n",
      "finished epoch 4\n"
     ]
    }
   ],
   "source": [
    "for ep in range(eps):\n",
    "    for step, inputs in enumerate(dl):\n",
    "        spinconfig = inputs['samples']\n",
    "        rot = inputs['rotations']\n",
    "        rotations = ComplexTensor(rot['real'], rot['imag'])\n",
    "        for i in range(L-1):\n",
    "            for __ in range(nstep):\n",
    "                sgd_step_at_site(psi, i, spinconfig,\n",
    "                                        rotation=rotations,cutoff=cutoff,normalize='left',max_sv_to_keep=max_sv)   \n",
    "        for i in range(L-2, -1,-1):\n",
    "            for __ in range(nstep):\n",
    "                sgd_step_at_site(psi, i, spinconfig,\n",
    "                                     rotation=rotations, cutoff=cutoff,normalize='right',max_sv_to_keep=max_sv)\n",
    "        with torch.no_grad():\n",
    "            losses.append(psi.nll_loss(spinconfig,rotation=rotations))\n",
    "    print(\"finished epoch %d\" % ep)\n",
    "\n",
    "        "
   ]
  },
  {
   "cell_type": "code",
   "execution_count": 67,
   "metadata": {
    "collapsed": true
   },
   "outputs": [],
   "source": [
    "import matplotlib.pyplot as plt"
   ]
  },
  {
   "cell_type": "code",
   "execution_count": 68,
   "metadata": {},
   "outputs": [
    {
     "data": {
      "text/plain": [
       "[<matplotlib.lines.Line2D at 0x1a23d23b38>]"
      ]
     },
     "execution_count": 68,
     "metadata": {},
     "output_type": "execute_result"
    },
    {
     "data": {
      "image/png": "[encoded data removed]",
      "text/plain": [
       "<matplotlib.figure.Figure at 0x12062c9e8>"
      ]
     },
     "metadata": {},
     "output_type": "display_data"
    }
   ],
   "source": [
    "%matplotlib inline\n",
    "plt.plot(losses)"
   ]
  },
  {
   "cell_type": "code",
   "execution_count": 69,
   "metadata": {},
   "outputs": [
    {
     "name": "stdout",
     "output_type": "stream",
     "text": [
      "[(1, 2), (2, 4), (4, 2), (2, 1)]\n"
     ]
    }
   ],
   "source": [
    "print(psi.shape)"
   ]
  },
  {
   "cell_type": "code",
   "execution_count": 70,
   "metadata": {
    "collapsed": true
   },
   "outputs": [],
   "source": [
    "from tools import generate_binary_space"
   ]
  },
  {
   "cell_type": "code",
   "execution_count": 71,
   "metadata": {
    "collapsed": true
   },
   "outputs": [],
   "source": [
    "basis = torch.tensor(generate_binary_space(L),dtype=torch.long)"
   ]
  },
  {
   "cell_type": "code",
   "execution_count": 72,
   "metadata": {},
   "outputs": [
    {
     "name": "stdout",
     "output_type": "stream",
     "text": [
      "tensor([1, 1, 1, 1]) has probability 0.0001\n",
      "tensor([1, 1, 1, 0]) has probability 0.0373\n",
      "tensor([1, 1, 0, 1]) has probability 0.0377\n",
      "tensor([1, 1, 0, 0]) has probability 0.0001\n",
      "tensor([1, 0, 1, 1]) has probability 0.0382\n",
      "tensor([1, 0, 1, 0]) has probability 0.3543\n",
      "tensor([1, 0, 0, 1]) has probability 0.0000\n",
      "tensor([1, 0, 0, 0]) has probability 0.0354\n",
      "tensor([0, 1, 1, 1]) has probability 0.0372\n",
      "tensor([0, 1, 1, 0]) has probability 0.0001\n",
      "tensor([0, 1, 0, 1]) has probability 0.3507\n",
      "tensor([0, 1, 0, 0]) has probability 0.0367\n",
      "tensor([0, 0, 1, 1]) has probability 0.0000\n",
      "tensor([0, 0, 1, 0]) has probability 0.0361\n",
      "tensor([0, 0, 0, 1]) has probability 0.0361\n",
      "tensor([0, 0, 0, 0]) has probability 0.0000\n"
     ]
    }
   ],
   "source": [
    "with torch.no_grad():\n",
    "    for i in range(len(basis)):\n",
    "        print(\"{0} has probability {1:.4f}\".format(basis[i], psi.prob_normalized(basis[i]).item()))"
   ]
  },
  {
   "cell_type": "code",
   "execution_count": null,
   "metadata": {
    "collapsed": true
   },
   "outputs": [],
   "source": []
  }
 ],
 "metadata": {
  "kernelspec": {
   "display_name": "Python 3",
   "language": "python",
   "name": "python3"
  },
  "language_info": {
   "codemirror_mode": {
    "name": "ipython",
    "version": 3
   },
   "file_extension": ".py",
   "mimetype": "text/x-python",
   "name": "python",
   "nbconvert_exporter": "python",
   "pygments_lexer": "ipython3",
   "version": "3.5.4"
  }
 },
 "nbformat": 4,
 "nbformat_minor": 2
}
