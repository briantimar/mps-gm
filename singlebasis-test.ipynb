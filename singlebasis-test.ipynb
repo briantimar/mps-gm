{
 "cells": [
  {
   "cell_type": "markdown",
   "metadata": {},
   "source": [
    "Try gradient-descent training of MPS model on a GHZ state (single basis)"
   ]
  },
  {
   "cell_type": "code",
   "execution_count": 1,
   "metadata": {
    "collapsed": true
   },
   "outputs": [],
   "source": [
    "import numpy as np\n",
    "import torch\n",
    "from models import MPS, ComplexTensor\n",
    "import matplotlib.pyplot as plt\n",
    "from tools import generate_binary_space"
   ]
  },
  {
   "cell_type": "code",
   "execution_count": 2,
   "metadata": {
    "collapsed": true
   },
   "outputs": [],
   "source": [
    "#helper function to build unitaries from angles\n",
    "from qtools import pauli_exp"
   ]
  },
  {
   "cell_type": "code",
   "execution_count": 33,
   "metadata": {
    "collapsed": true
   },
   "outputs": [],
   "source": [
    "#system size\n",
    "L=4\n",
    "#dimensionality of local hilbert space (2 =qubit)\n",
    "local_dim =2\n",
    "#bond dimension of the MPS\n",
    "bond_dim = 10"
   ]
  },
  {
   "cell_type": "markdown",
   "metadata": {},
   "source": [
    "Creates uniform, closed-boundary-conditions MPS pure state"
   ]
  },
  {
   "cell_type": "code",
   "execution_count": 34,
   "metadata": {
    "collapsed": true
   },
   "outputs": [],
   "source": [
    "psi =MPS(L=L, local_dim=local_dim, bond_dim=bond_dim)"
   ]
  },
  {
   "cell_type": "markdown",
   "metadata": {},
   "source": [
    "Load datasets from numpy pickles"
   ]
  },
  {
   "cell_type": "code",
   "execution_count": 35,
   "metadata": {},
   "outputs": [],
   "source": [
    "samples_fname = \"datasets/samples_ghz_plus_z_basis_only_L=4_Nmeasure=100000.npy\"\n",
    "samples = np.load(samples_fname)\n"
   ]
  },
  {
   "cell_type": "code",
   "execution_count": 36,
   "metadata": {
    "collapsed": true
   },
   "outputs": [],
   "source": [
    "samples_tr = torch.tensor((samples + 1)/2).to(torch.long)"
   ]
  },
  {
   "cell_type": "code",
   "execution_count": 37,
   "metadata": {
    "collapsed": true
   },
   "outputs": [],
   "source": [
    "from torch.utils.data import TensorDataset, DataLoader"
   ]
  },
  {
   "cell_type": "code",
   "execution_count": 38,
   "metadata": {
    "collapsed": true
   },
   "outputs": [],
   "source": [
    "batch_size = 128\n",
    "epochs = 2"
   ]
  },
  {
   "cell_type": "code",
   "execution_count": 39,
   "metadata": {},
   "outputs": [],
   "source": [
    "ds = TensorDataset(samples_tr)"
   ]
  },
  {
   "cell_type": "code",
   "execution_count": 40,
   "metadata": {
    "collapsed": true
   },
   "outputs": [],
   "source": [
    "dl = DataLoader(ds, batch_size=batch_size, shuffle=True)"
   ]
  },
  {
   "cell_type": "code",
   "execution_count": 41,
   "metadata": {
    "collapsed": true
   },
   "outputs": [],
   "source": [
    "lr = .001\n",
    "optim = torch.optim.Adam(lr=lr,params=psi.parameters())"
   ]
  },
  {
   "cell_type": "code",
   "execution_count": 42,
   "metadata": {
    "collapsed": true
   },
   "outputs": [],
   "source": [
    "losses = []\n",
    "p10 = []\n"
   ]
  },
  {
   "cell_type": "markdown",
   "metadata": {},
   "source": [
    "For my curiosity -- record probability assigned to a few basis states during training"
   ]
  },
  {
   "cell_type": "code",
   "execution_count": 43,
   "metadata": {
    "collapsed": true
   },
   "outputs": [],
   "source": [
    "x10 = torch.tensor([1,0,1,0], dtype=torch.long)\n"
   ]
  },
  {
   "cell_type": "markdown",
   "metadata": {},
   "source": [
    "Train the MPS by minimizing negative-log-likelihood of the observed data."
   ]
  },
  {
   "cell_type": "code",
   "execution_count": 44,
   "metadata": {},
   "outputs": [
    {
     "name": "stdout",
     "output_type": "stream",
     "text": [
      "finished epoch 0\n",
      "finished epoch 1\n"
     ]
    }
   ],
   "source": [
    "for n in range(epochs):\n",
    "    for i, samples in enumerate(dl):\n",
    "        samples=samples[0]\n",
    "        psi.zero_grad()\n",
    "        loss = psi.nll_loss(samples)\n",
    "        loss.backward()\n",
    "        optim.step()\n",
    "        if i%100==0:\n",
    "            with torch.no_grad():\n",
    "                losses.append(loss.item())\n",
    "                p10.append(psi.prob_normalized(x10).item())\n",
    "    print(\"finished epoch %d\" %n)"
   ]
  },
  {
   "cell_type": "code",
   "execution_count": 45,
   "metadata": {},
   "outputs": [
    {
     "data": {
      "text/plain": [
       "[<matplotlib.lines.Line2D at 0x1a1153d908>]"
      ]
     },
     "execution_count": 45,
     "metadata": {},
     "output_type": "execute_result"
    },
    {
     "data": {
      "image/png": "[encoded data removed]",
      "text/plain": [
       "<matplotlib.figure.Figure at 0x1a11eb6400>"
      ]
     },
     "metadata": {},
     "output_type": "display_data"
    }
   ],
   "source": [
    "%matplotlib inline\n",
    "plt.plot(losses)"
   ]
  },
  {
   "cell_type": "code",
   "execution_count": 46,
   "metadata": {},
   "outputs": [
    {
     "data": {
      "text/plain": [
       "<matplotlib.legend.Legend at 0x1a168f70b8>"
      ]
     },
     "execution_count": 46,
     "metadata": {},
     "output_type": "execute_result"
    },
    {
     "data": {
      "image/png": "[encoded data removed]",
      "text/plain": [
       "<matplotlib.figure.Figure at 0x1a168f7a90>"
      ]
     },
     "metadata": {},
     "output_type": "display_data"
    }
   ],
   "source": [
    "plt.plot(p10, label=\"1010\")\n",
    "plt.legend()"
   ]
  },
  {
   "cell_type": "markdown",
   "metadata": {},
   "source": [
    "Look at the probability the trained state assigns to each z-basis state"
   ]
  },
  {
   "cell_type": "code",
   "execution_count": 47,
   "metadata": {
    "collapsed": true
   },
   "outputs": [],
   "source": [
    "basis = torch.tensor(generate_binary_space(L),dtype=torch.long)"
   ]
  },
  {
   "cell_type": "code",
   "execution_count": 52,
   "metadata": {},
   "outputs": [
    {
     "name": "stdout",
     "output_type": "stream",
     "text": [
      "tensor([1, 1, 1, 1]) has amplitude -0.0017 + i -0.0008\n",
      "tensor([1, 1, 1, 0]) has amplitude 0.0048 + i -0.0019\n",
      "tensor([1, 1, 0, 1]) has amplitude -0.0023 + i 0.0011\n",
      "tensor([1, 1, 0, 0]) has amplitude 0.0012 + i 0.0020\n",
      "tensor([1, 0, 1, 1]) has amplitude 0.0032 + i 0.0020\n",
      "tensor([1, 0, 1, 0]) has amplitude 0.2472 + i -0.6467\n",
      "tensor([1, 0, 0, 1]) has amplitude -0.0016 + i 0.0019\n",
      "tensor([1, 0, 0, 0]) has amplitude -0.0022 + i 0.0009\n",
      "tensor([0, 1, 1, 1]) has amplitude -0.0005 + i 0.0010\n",
      "tensor([0, 1, 1, 0]) has amplitude -0.0006 + i -0.0000\n",
      "tensor([0, 1, 0, 1]) has amplitude -0.6338 + i 0.3448\n",
      "tensor([0, 1, 0, 0]) has amplitude 0.0002 + i 0.0012\n",
      "tensor([0, 0, 1, 1]) has amplitude 0.0008 + i 0.0005\n",
      "tensor([0, 0, 1, 0]) has amplitude -0.0012 + i 0.0012\n",
      "tensor([0, 0, 0, 1]) has amplitude 0.0016 + i 0.0003\n",
      "tensor([0, 0, 0, 0]) has amplitude -0.0008 + i -0.0005\n"
     ]
    }
   ],
   "source": [
    "with torch.no_grad():\n",
    "    n = psi.norm().sqrt().item()\n",
    "    for i in range(len(basis)):\n",
    "        a = psi.amplitude(basis[i])\n",
    "        print(\"{0} has amplitude {1:.4f} + i {2:.4f}\".format(basis[i], a.real.item()/n, a.imag.item()/n))"
   ]
  },
  {
   "cell_type": "code",
   "execution_count": 49,
   "metadata": {
    "collapsed": true
   },
   "outputs": [],
   "source": [
    "from qtools import pauli_exp"
   ]
  },
  {
   "cell_type": "code",
   "execution_count": 50,
   "metadata": {},
   "outputs": [
    {
     "name": "stdout",
     "output_type": "stream",
     "text": [
      "tensor([1, 1, 1, 1]) has probability 0.0154\n",
      "tensor([1, 1, 1, 0]) has probability 0.1099\n",
      "tensor([1, 1, 0, 1]) has probability 0.1092\n",
      "tensor([1, 1, 0, 0]) has probability 0.0150\n",
      "tensor([1, 0, 1, 1]) has probability 0.1103\n",
      "tensor([1, 0, 1, 0]) has probability 0.0147\n",
      "tensor([1, 0, 0, 1]) has probability 0.0147\n",
      "tensor([1, 0, 0, 0]) has probability 0.1100\n",
      "tensor([0, 1, 1, 1]) has probability 0.1088\n",
      "tensor([0, 1, 1, 0]) has probability 0.0146\n",
      "tensor([0, 1, 0, 1]) has probability 0.0161\n",
      "tensor([0, 1, 0, 0]) has probability 0.1093\n",
      "tensor([0, 0, 1, 1]) has probability 0.0151\n",
      "tensor([0, 0, 1, 0]) has probability 0.1115\n",
      "tensor([0, 0, 0, 1]) has probability 0.1105\n",
      "tensor([0, 0, 0, 0]) has probability 0.0147\n"
     ]
    }
   ],
   "source": [
    "theta = torch.tensor([[np.pi/2]*L])\n",
    "phi = torch.zeros_like(theta)\n",
    "U = pauli_exp(theta, phi)\n",
    "\n",
    "with torch.no_grad():\n",
    "    for i in range(len(basis)):\n",
    "        print(\"{0} has probability {1:.4f}\".format(basis[i], psi.prob_normalized(basis[i],rotation=U).item()))"
   ]
  },
  {
   "cell_type": "code",
   "execution_count": null,
   "metadata": {
    "collapsed": true
   },
   "outputs": [],
   "source": []
  }
 ],
 "metadata": {
  "kernelspec": {
   "display_name": "Python 3",
   "language": "python",
   "name": "python3"
  },
  "language_info": {
   "codemirror_mode": {
    "name": "ipython",
    "version": 3
   },
   "file_extension": ".py",
   "mimetype": "text/x-python",
   "name": "python",
   "nbconvert_exporter": "python",
   "pygments_lexer": "ipython3",
   "version": "3.5.4"
  }
 },
 "nbformat": 4,
 "nbformat_minor": 2
}
