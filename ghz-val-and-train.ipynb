{
 "cells": [
  {
   "cell_type": "markdown",
   "metadata": {},
   "source": [
    "## Val test"
   ]
  },
  {
   "cell_type": "code",
   "execution_count": 1,
   "metadata": {},
   "outputs": [
    {
     "name": "stdout",
     "output_type": "stream",
     "text": [
      "Loaded libmkl_rt.so for dgesvd\n"
     ]
    }
   ],
   "source": [
    "import numpy as np\n",
    "import torch\n",
    "\n",
    "from models import MPS, ComplexTensor\n",
    "from utils import build_ghz_plus\n",
    "from qtools import pauli_exp\n",
    "from torch.utils.data import DataLoader\n",
    "from torch.utils.data import random_split\n",
    "from utils import MeasurementDataset, select_hyperparams_and_train\n",
    "\n",
    "import matplotlib.pyplot as plt\n",
    "import datetime\n",
    "from utils import make_linear_schedule, make_exp_schedule"
   ]
  },
  {
   "cell_type": "markdown",
   "metadata": {},
   "source": [
    "Pick system size, dimensionality of local hilbert space, and initial bond dim"
   ]
  },
  {
   "cell_type": "code",
   "execution_count": 2,
   "metadata": {},
   "outputs": [],
   "source": [
    "L=12\n",
    "local_dim=2\n",
    "bond_dim=2"
   ]
  },
  {
   "cell_type": "code",
   "execution_count": 3,
   "metadata": {},
   "outputs": [],
   "source": [
    "# dev = torch.device(\"cuda:0\") if torch.cuda.is_available() else torch.device(\"cpu\")\n",
    "dev = torch.device(\"cpu\")"
   ]
  },
  {
   "cell_type": "markdown",
   "metadata": {},
   "source": [
    "Initialize the MPS model"
   ]
  },
  {
   "cell_type": "code",
   "execution_count": 4,
   "metadata": {},
   "outputs": [],
   "source": [
    "psi = MPS(L=L, local_dim=local_dim, bond_dim=bond_dim)"
   ]
  },
  {
   "cell_type": "code",
   "execution_count": 5,
   "metadata": {},
   "outputs": [],
   "source": [
    "psi.to(device=dev)"
   ]
  },
  {
   "cell_type": "markdown",
   "metadata": {},
   "source": [
    "The ground truth state (a ghz state with no phase)"
   ]
  },
  {
   "cell_type": "code",
   "execution_count": 6,
   "metadata": {},
   "outputs": [],
   "source": [
    "ghz_plus = build_ghz_plus(L)\n",
    "ghz_plus.to(device=dev)"
   ]
  },
  {
   "cell_type": "markdown",
   "metadata": {},
   "source": [
    "Samples_tr: lists indices of the observed basis states at each measurement. 0 = spin up, 1 = spin down\n",
    "\n",
    "settings: array of corresponding angles"
   ]
  },
  {
   "cell_type": "code",
   "execution_count": 7,
   "metadata": {},
   "outputs": [],
   "source": [
    "# fname_settings = \"test_datasets/settings_ghz_plus_random_basis_L=%d.npy\"%L\n",
    "# fname_samples = \"test_datasets/samples_ghz_plus_random_basis_L=%d.npy\"%L\n",
    "fname_settings = \"datasets/mps_sampled/ghz_plus_L=%d_angles.npy\"%L\n",
    "fname_samples = \"datasets/mps_sampled/ghz_plus_L=%d_outcomes.npy\"%L\n",
    "Nsamp=20000\n",
    "samples = np.load(fname_samples)[:Nsamp]\n",
    "samples_tr = torch.tensor((1-samples)/2).to(dtype=torch.long,device=dev)\n",
    "settings = np.load(fname_settings)[:Nsamp]"
   ]
  },
  {
   "cell_type": "code",
   "execution_count": 8,
   "metadata": {},
   "outputs": [],
   "source": [
    "theta = torch.tensor(settings[...,0],dtype=torch.float32,device=dev)\n",
    "phi = torch.tensor(settings[...,1],dtype=torch.float32,device=dev)"
   ]
  },
  {
   "cell_type": "markdown",
   "metadata": {},
   "source": [
    "Holds the unitaries corresponding to each angle"
   ]
  },
  {
   "cell_type": "code",
   "execution_count": 9,
   "metadata": {},
   "outputs": [],
   "source": [
    "U = pauli_exp(theta, phi)\n"
   ]
  },
  {
   "cell_type": "code",
   "execution_count": 10,
   "metadata": {},
   "outputs": [],
   "source": [
    "ds = MeasurementDataset(samples=samples_tr,rotations=U)\n"
   ]
  },
  {
   "cell_type": "code",
   "execution_count": 11,
   "metadata": {},
   "outputs": [],
   "source": [
    "batch_size = 1028"
   ]
  },
  {
   "cell_type": "markdown",
   "metadata": {},
   "source": [
    "Number of epochs of training"
   ]
  },
  {
   "cell_type": "code",
   "execution_count": 12,
   "metadata": {},
   "outputs": [],
   "source": [
    "epochs = 50"
   ]
  },
  {
   "cell_type": "markdown",
   "metadata": {},
   "source": [
    "Max number of singular values to keep, and cutoff below which to truncate singular values"
   ]
  },
  {
   "cell_type": "code",
   "execution_count": 13,
   "metadata": {},
   "outputs": [],
   "source": [
    "max_sv_to_keep = 10\n",
    "cutoff=1e-4"
   ]
  },
  {
   "cell_type": "code",
   "execution_count": 14,
   "metadata": {},
   "outputs": [],
   "source": [
    "val_split=.1\n",
    "Nparam=30"
   ]
  },
  {
   "cell_type": "code",
   "execution_count": 15,
   "metadata": {},
   "outputs": [
    {
     "name": "stdout",
     "output_type": "stream",
     "text": [
      "Training on 30 different param sets, with 1 seeds each\n",
      "Training with lr = <function make_exp_schedule.<locals>.f at 0x7f7a7b69d7b8>, s2 penalty = <function make_exp_schedule.<locals>.f at 0x7f7a7b6b0598>\n",
      "Acheived val score: 6.742805004119873\n",
      "Training with lr = <function make_exp_schedule.<locals>.f at 0x7f7a7b69d598>, s2 penalty = <function make_exp_schedule.<locals>.f at 0x7f7a7b6b0620>\n",
      "Acheived val score: 8.341462135314941\n",
      "Training with lr = <function make_exp_schedule.<locals>.f at 0x7f7a7b69d620>, s2 penalty = <function make_exp_schedule.<locals>.f at 0x7f7a7b6b06a8>\n",
      "Acheived val score: 10.582881927490234\n",
      "Training with lr = <function make_exp_schedule.<locals>.f at 0x7f7a7b69d840>, s2 penalty = <function make_exp_schedule.<locals>.f at 0x7f7a7b6b0730>\n",
      "Acheived val score: 10.216889381408691\n",
      "Training with lr = <function make_exp_schedule.<locals>.f at 0x7f7a7b69d8c8>, s2 penalty = <function make_exp_schedule.<locals>.f at 0x7f7a7b6b07b8>\n",
      "Error during factorization: 3\n",
      "Training failed\n",
      "Acheived val score: inf\n",
      "Training with lr = <function make_exp_schedule.<locals>.f at 0x7f7a7b69d950>, s2 penalty = <function make_exp_schedule.<locals>.f at 0x7f7a7b6b0840>\n",
      "Acheived val score: 10.021678924560547\n",
      "Training with lr = <function make_exp_schedule.<locals>.f at 0x7f7a7b69d9d8>, s2 penalty = <function make_exp_schedule.<locals>.f at 0x7f7a7b6b08c8>\n",
      "Acheived val score: 6.793592929840088\n",
      "Training with lr = <function make_exp_schedule.<locals>.f at 0x7f7a7b69da60>, s2 penalty = <function make_exp_schedule.<locals>.f at 0x7f7a7b6b0950>\n",
      "Error during factorization: 3\n",
      "Training failed\n",
      "Acheived val score: inf\n",
      "Training with lr = <function make_exp_schedule.<locals>.f at 0x7f7a7b69dae8>, s2 penalty = <function make_exp_schedule.<locals>.f at 0x7f7a7b6b09d8>\n"
     ]
    },
    {
     "name": "stderr",
     "output_type": "stream",
     "text": [
      "/home/brian/Code/mps-gm/models.py:71: RuntimeWarning: invalid value encountered in multiply\n",
      "  return self.real.detach().cpu().numpy() + 1j * self.imag.detach().cpu().numpy()\n",
      "/home/brian/Code/mps-gm/models.py:735: RuntimeWarning: invalid value encountered in multiply\n",
      "  return 2 * self.partial_deriv_twosite_renyi2_entropy(site_index).numpy().conj()\n"
     ]
    },
    {
     "name": "stdout",
     "output_type": "stream",
     "text": [
      "Acheived val score: 6.792758941650391\n",
      "Training with lr = <function make_exp_schedule.<locals>.f at 0x7f7a7b69db70>, s2 penalty = <function make_exp_schedule.<locals>.f at 0x7f7a7b6b0a60>\n",
      "Acheived val score: 10.493452072143555\n",
      "Training with lr = <function make_exp_schedule.<locals>.f at 0x7f7a7b69dbf8>, s2 penalty = <function make_exp_schedule.<locals>.f at 0x7f7a7b6b0ae8>\n",
      "Acheived val score: 10.481751441955566\n",
      "Training with lr = <function make_exp_schedule.<locals>.f at 0x7f7a7b69dc80>, s2 penalty = <function make_exp_schedule.<locals>.f at 0x7f7a7b6b0b70>\n",
      "Acheived val score: 7.426151275634766\n",
      "Training with lr = <function make_exp_schedule.<locals>.f at 0x7f7a7b69dd08>, s2 penalty = <function make_exp_schedule.<locals>.f at 0x7f7a7b6b0bf8>\n",
      "Acheived val score: 10.034744262695312\n",
      "Training with lr = <function make_exp_schedule.<locals>.f at 0x7f7a7b69dd90>, s2 penalty = <function make_exp_schedule.<locals>.f at 0x7f7a7b6b0c80>\n",
      "Acheived val score: 6.708547592163086\n",
      "Training with lr = <function make_exp_schedule.<locals>.f at 0x7f7a7b69de18>, s2 penalty = <function make_exp_schedule.<locals>.f at 0x7f7a7b6b0d08>\n",
      "Acheived val score: 6.720737934112549\n",
      "Training with lr = <function make_exp_schedule.<locals>.f at 0x7f7a7b69dea0>, s2 penalty = <function make_exp_schedule.<locals>.f at 0x7f7a7b6b0d90>\n",
      "Acheived val score: 8.432421684265137\n",
      "Training with lr = <function make_exp_schedule.<locals>.f at 0x7f7a7b69df28>, s2 penalty = <function make_exp_schedule.<locals>.f at 0x7f7a7b6b0e18>\n",
      "Acheived val score: 10.462688446044922\n",
      "Training with lr = <function make_exp_schedule.<locals>.f at 0x7f7a7b6b0048>, s2 penalty = <function make_exp_schedule.<locals>.f at 0x7f7a7b6b0ea0>\n",
      "Acheived val score: 7.005983829498291\n",
      "Training with lr = <function make_exp_schedule.<locals>.f at 0x7f7a7b6b00d0>, s2 penalty = <function make_exp_schedule.<locals>.f at 0x7f7a7b6b0f28>\n",
      "Acheived val score: 10.218994140625\n",
      "Training with lr = <function make_exp_schedule.<locals>.f at 0x7f7a7b6b0158>, s2 penalty = <function make_exp_schedule.<locals>.f at 0x7f7a7b6b1048>\n",
      "Acheived val score: 6.707038879394531\n",
      "Training with lr = <function make_exp_schedule.<locals>.f at 0x7f7a7b6b01e0>, s2 penalty = <function make_exp_schedule.<locals>.f at 0x7f7a7b6b10d0>\n",
      "Acheived val score: 6.722254276275635\n",
      "Training with lr = <function make_exp_schedule.<locals>.f at 0x7f7a7b6b0268>, s2 penalty = <function make_exp_schedule.<locals>.f at 0x7f7a7b6b1158>\n",
      "Acheived val score: 11.01425838470459\n",
      "Training with lr = <function make_exp_schedule.<locals>.f at 0x7f7a7b6b02f0>, s2 penalty = <function make_exp_schedule.<locals>.f at 0x7f7a7b6b11e0>\n",
      "Acheived val score: 7.602331161499023\n",
      "Training with lr = <function make_exp_schedule.<locals>.f at 0x7f7a7b6b0378>, s2 penalty = <function make_exp_schedule.<locals>.f at 0x7f7a7b6b1268>\n",
      "Acheived val score: 10.684926986694336\n",
      "Training with lr = <function make_exp_schedule.<locals>.f at 0x7f7a7b6b0400>, s2 penalty = <function make_exp_schedule.<locals>.f at 0x7f7a7b6b12f0>\n",
      "Acheived val score: 7.811854839324951\n",
      "Training with lr = <function make_exp_schedule.<locals>.f at 0x7f7a7b6b0488>, s2 penalty = <function make_exp_schedule.<locals>.f at 0x7f7a7b6b1378>\n",
      "Acheived val score: 11.037796020507812\n",
      "Training with lr = <function make_exp_schedule.<locals>.f at 0x7f7a7b6b0510>, s2 penalty = <function make_exp_schedule.<locals>.f at 0x7f7a7b6b1400>\n",
      "Acheived val score: 7.038511276245117\n",
      "Training with lr = <function make_exp_schedule.<locals>.f at 0x7f7a7b69d378>, s2 penalty = <function make_exp_schedule.<locals>.f at 0x7f7a7b6b1488>\n",
      "Acheived val score: 6.720063209533691\n",
      "Training with lr = <function make_exp_schedule.<locals>.f at 0x7f7a7b69d510>, s2 penalty = <function make_exp_schedule.<locals>.f at 0x7f7a7b6b1510>\n",
      "Acheived val score: 6.725066184997559\n",
      "Training with lr = <function make_exp_schedule.<locals>.f at 0x7f7a7dbc41e0>, s2 penalty = <function make_exp_schedule.<locals>.f at 0x7f7a7b6b1598>\n",
      "Acheived val score: 6.747126579284668\n",
      "Training on system size 12 with 20000 samples\n",
      "Finished epoch 0 in 7.407 sec\n",
      "Model shape:  [(1, 2), (2, 4), (4, 8), (8, 10), (10, 10), (10, 10), (10, 10), (10, 10), (10, 8), (8, 4), (4, 2), (2, 1)]\n",
      "Finished epoch 1 in 8.190 sec\n",
      "Model shape:  [(1, 2), (2, 4), (4, 8), (8, 10), (10, 10), (10, 10), (10, 10), (10, 10), (10, 8), (8, 4), (4, 2), (2, 1)]\n",
      "Finished epoch 2 in 7.561 sec\n",
      "Model shape:  [(1, 2), (2, 4), (4, 8), (8, 10), (10, 10), (10, 10), (10, 10), (10, 10), (10, 8), (8, 4), (4, 2), (2, 1)]\n",
      "Finished epoch 3 in 7.581 sec\n",
      "Model shape:  [(1, 2), (2, 4), (4, 8), (8, 10), (10, 10), (10, 10), (10, 10), (10, 10), (10, 8), (8, 4), (4, 2), (2, 1)]\n",
      "Finished epoch 4 in 7.698 sec\n",
      "Model shape:  [(1, 2), (2, 4), (4, 8), (8, 10), (10, 10), (10, 10), (10, 10), (10, 10), (10, 8), (8, 4), (4, 2), (2, 1)]\n",
      "Finished epoch 5 in 7.587 sec\n",
      "Model shape:  [(1, 2), (2, 4), (4, 8), (8, 10), (10, 10), (10, 10), (10, 10), (10, 10), (10, 8), (8, 4), (4, 2), (2, 1)]\n",
      "Finished epoch 6 in 14.363 sec\n",
      "Model shape:  [(1, 2), (2, 4), (4, 8), (8, 10), (10, 10), (10, 10), (10, 10), (10, 10), (10, 8), (8, 4), (4, 2), (2, 1)]\n",
      "Finished epoch 7 in 7.591 sec\n",
      "Model shape:  [(1, 2), (2, 4), (4, 8), (8, 10), (10, 10), (10, 10), (10, 10), (10, 10), (10, 8), (8, 4), (4, 2), (2, 1)]\n",
      "Finished epoch 8 in 11.223 sec\n",
      "Model shape:  [(1, 2), (2, 4), (4, 8), (8, 10), (10, 10), (10, 10), (10, 10), (10, 10), (10, 8), (8, 4), (4, 2), (2, 1)]\n",
      "Finished epoch 9 in 11.279 sec\n",
      "Model shape:  [(1, 2), (2, 4), (4, 8), (8, 10), (10, 10), (10, 10), (10, 10), (10, 10), (10, 8), (8, 4), (4, 2), (2, 1)]\n",
      "Finished epoch 10 in 9.117 sec\n",
      "Model shape:  [(1, 2), (2, 4), (4, 8), (8, 10), (10, 10), (10, 10), (10, 10), (10, 10), (10, 8), (8, 4), (4, 2), (2, 1)]\n"
     ]
    },
    {
     "name": "stderr",
     "output_type": "stream",
     "text": [
      "/home/brian/Code/mps-gm/utils.py:659: UserWarning: overlap estimate failed to converge within tolerance 1.00e-02\n",
      "  warnings.warn(\"overlap estimate failed to converge within tolerance {0:.2e}\".format(eps))\n"
     ]
    },
    {
     "name": "stdout",
     "output_type": "stream",
     "text": [
      "Finished epoch 11 in 16.167 sec\n",
      "Model shape:  [(1, 2), (2, 4), (4, 8), (8, 10), (10, 10), (10, 10), (10, 10), (10, 10), (10, 8), (8, 4), (4, 2), (2, 1)]\n",
      "Finished epoch 12 in 7.685 sec\n",
      "Model shape:  [(1, 2), (2, 4), (4, 8), (8, 10), (10, 10), (10, 10), (10, 10), (10, 10), (10, 8), (8, 4), (4, 2), (2, 1)]\n",
      "Finished epoch 13 in 9.072 sec\n",
      "Model shape:  [(1, 2), (2, 4), (4, 8), (8, 10), (10, 10), (10, 10), (10, 10), (10, 10), (10, 8), (8, 4), (4, 2), (2, 1)]\n",
      "Finished epoch 14 in 7.678 sec\n",
      "Model shape:  [(1, 2), (2, 4), (4, 8), (8, 10), (10, 10), (10, 10), (10, 10), (10, 10), (10, 8), (8, 4), (4, 2), (2, 1)]\n",
      "Finished epoch 15 in 9.121 sec\n",
      "Model shape:  [(1, 2), (2, 4), (4, 8), (8, 10), (10, 10), (10, 10), (10, 10), (10, 10), (10, 8), (8, 4), (4, 2), (2, 1)]\n",
      "Finished epoch 16 in 7.702 sec\n",
      "Model shape:  [(1, 2), (2, 4), (4, 8), (8, 10), (10, 10), (10, 10), (10, 10), (10, 10), (10, 8), (8, 4), (4, 2), (2, 1)]\n",
      "Finished epoch 17 in 10.296 sec\n",
      "Model shape:  [(1, 2), (2, 4), (4, 8), (8, 10), (10, 10), (10, 10), (10, 10), (10, 10), (10, 8), (8, 4), (4, 2), (2, 1)]\n",
      "Finished epoch 18 in 7.755 sec\n",
      "Model shape:  [(1, 2), (2, 4), (4, 8), (8, 10), (10, 10), (10, 10), (10, 10), (10, 10), (10, 8), (8, 4), (4, 2), (2, 1)]\n",
      "Finished epoch 19 in 8.361 sec\n",
      "Model shape:  [(1, 2), (2, 4), (4, 8), (8, 10), (10, 10), (10, 10), (10, 10), (10, 10), (10, 8), (8, 4), (4, 2), (2, 1)]\n",
      "Finished epoch 20 in 7.742 sec\n",
      "Model shape:  [(1, 2), (2, 4), (4, 8), (8, 10), (10, 10), (10, 10), (10, 10), (10, 10), (10, 8), (8, 4), (4, 2), (2, 1)]\n"
     ]
    }
   ],
   "source": [
    "model, logdict, params, trloss, valloss = select_hyperparams_and_train(ds,batch_size, epochs, \n",
    "                                                                        val_split=val_split, Nparam=Nparam,\n",
    "                                                                      cutoff=cutoff,max_sv_to_keep=max_sv_to_keep,\n",
    "                                                                ground_truth_mps=ghz_plus,use_cache=True,\n",
    "                                                                    record_s2=True,early_stopping=True,\n",
    "                                                                      compute_overlaps=True,verbose=True)"
   ]
  },
  {
   "cell_type": "code",
   "execution_count": 16,
   "metadata": {},
   "outputs": [
    {
     "data": {
      "text/plain": [
       "{'lr_scale': 0.04644644925723403,\n",
       " 'lr_timescale': 8.884439633331684,\n",
       " 's2_scale': 0.915956859240334,\n",
       " 's2_timescale': 14.845337896329106}"
      ]
     },
     "execution_count": 16,
     "metadata": {},
     "output_type": "execute_result"
    }
   ],
   "source": [
    "params"
   ]
  },
  {
   "cell_type": "code",
   "execution_count": 17,
   "metadata": {},
   "outputs": [
    {
     "data": {
      "text/plain": [
       "<matplotlib.legend.Legend at 0x7f7a7467e550>"
      ]
     },
     "execution_count": 17,
     "metadata": {},
     "output_type": "execute_result"
    },
    {
     "data": {
      "image/png": "[encoded data removed]",
      "text/plain": [
       "<matplotlib.figure.Figure at 0x7f7a7b6a7908>"
      ]
     },
     "metadata": {},
     "output_type": "display_data"
    }
   ],
   "source": [
    "fig, ax = plt.subplots()\n",
    "plt.plot(trloss, label=\"val: in-sample\")\n",
    "plt.plot(valloss, label=\"val: out-of-sample\")\n",
    "plt.legend()"
   ]
  },
  {
   "cell_type": "code",
   "execution_count": 18,
   "metadata": {},
   "outputs": [],
   "source": [
    "loss = logdict['loss']\n",
    "eps=len(loss)\n",
    "fidelity_mps = logdict['fidelity_mps']\n",
    "overlap = logdict['overlap']"
   ]
  },
  {
   "cell_type": "code",
   "execution_count": 19,
   "metadata": {},
   "outputs": [
    {
     "data": {
      "text/plain": [
       "[<matplotlib.lines.Line2D at 0x7f7a7458d5c0>]"
      ]
     },
     "execution_count": 19,
     "metadata": {},
     "output_type": "execute_result"
    },
    {
     "data": {
      "image/png": "[encoded data removed]",
      "text/plain": [
       "<matplotlib.figure.Figure at 0x7f7a7458db38>"
      ]
     },
     "metadata": {},
     "output_type": "display_data"
    }
   ],
   "source": [
    "fig, ax = plt.subplots()\n",
    "plt.plot(loss)"
   ]
  },
  {
   "cell_type": "code",
   "execution_count": 24,
   "metadata": {},
   "outputs": [
    {
     "data": {
      "text/plain": [
       "<Container object of 3 artists>"
      ]
     },
     "execution_count": 24,
     "metadata": {},
     "output_type": "execute_result"
    },
    {
     "data": {
      "image/png": "[encoded data removed]",
      "text/plain": [
       "<matplotlib.figure.Figure at 0x7f7a74517630>"
      ]
     },
     "metadata": {},
     "output_type": "display_data"
    }
   ],
   "source": [
    "fig, ax = plt.subplots()\n",
    "plt.plot(np.arange(eps), fidelity_mps**2, label='mps')\n",
    "is_conv = overlap['converged']\n",
    "plt.errorbar(np.arange(eps)[is_conv], overlap['mean'][is_conv],\n",
    "                            yerr=overlap['err'][is_conv],\n",
    "                            linestyle='none', marker='o', label=\"data overlap\")"
   ]
  },
  {
   "cell_type": "code",
   "execution_count": 21,
   "metadata": {},
   "outputs": [
    {
     "data": {
      "text/plain": [
       "[(1, 2),\n",
       " (2, 4),\n",
       " (4, 8),\n",
       " (8, 10),\n",
       " (10, 10),\n",
       " (10, 10),\n",
       " (10, 10),\n",
       " (10, 10),\n",
       " (10, 8),\n",
       " (8, 4),\n",
       " (4, 2),\n",
       " (2, 1)]"
      ]
     },
     "execution_count": 21,
     "metadata": {},
     "output_type": "execute_result"
    }
   ],
   "source": [
    "model.shape"
   ]
  },
  {
   "cell_type": "code",
   "execution_count": 22,
   "metadata": {},
   "outputs": [
    {
     "data": {
      "text/plain": [
       "{'lr_scale': 0.04644644925723403,\n",
       " 'lr_timescale': 8.884439633331684,\n",
       " 's2_scale': 0.915956859240334,\n",
       " 's2_timescale': 14.845337896329106}"
      ]
     },
     "execution_count": 22,
     "metadata": {},
     "output_type": "execute_result"
    }
   ],
   "source": [
    "params"
   ]
  },
  {
   "cell_type": "code",
   "execution_count": null,
   "metadata": {},
   "outputs": [],
   "source": []
  }
 ],
 "metadata": {
  "kernelspec": {
   "display_name": "Python 3",
   "language": "python",
   "name": "python3"
  },
  "language_info": {
   "codemirror_mode": {
    "name": "ipython",
    "version": 3
   },
   "file_extension": ".py",
   "mimetype": "text/x-python",
   "name": "python",
   "nbconvert_exporter": "python",
   "pygments_lexer": "ipython3",
   "version": "3.6.8"
  }
 },
 "nbformat": 4,
 "nbformat_minor": 2
}
