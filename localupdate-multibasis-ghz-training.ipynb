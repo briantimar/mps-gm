{
 "cells": [
  {
   "cell_type": "markdown",
   "metadata": {},
   "source": [
    "Try training on GHZ state using data in complete set of discrete bases."
   ]
  },
  {
   "cell_type": "code",
   "execution_count": 1,
   "metadata": {
    "collapsed": true
   },
   "outputs": [],
   "source": [
    "import numpy as np\n",
    "import torch"
   ]
  },
  {
   "cell_type": "code",
   "execution_count": 2,
   "metadata": {
    "collapsed": true
   },
   "outputs": [],
   "source": [
    "from models import MPS, ComplexTensor"
   ]
  },
  {
   "cell_type": "code",
   "execution_count": 3,
   "metadata": {
    "collapsed": true
   },
   "outputs": [],
   "source": [
    "L=4\n",
    "local_dim=2\n",
    "bond_dim=3"
   ]
  },
  {
   "cell_type": "code",
   "execution_count": 4,
   "metadata": {
    "collapsed": true
   },
   "outputs": [],
   "source": [
    "psi = MPS(L=L, local_dim=local_dim, bond_dim=bond_dim)"
   ]
  },
  {
   "cell_type": "markdown",
   "metadata": {},
   "source": [
    "Samples_tr: lists indices of the observed basis states at each measurement.\n",
    "\n",
    "settings: array of corresponding angles"
   ]
  },
  {
   "cell_type": "code",
   "execution_count": 5,
   "metadata": {
    "collapsed": true
   },
   "outputs": [],
   "source": [
    "fname_settings = \"settings_ghz_plus_all_discrete_bases_angles_L=%d.npy\"%L\n",
    "fname_samples = \"samples_ghz_plus_all_discrete_bases_angles_L=%d.npy\"%L\n",
    "samples = np.load(fname_samples)\n",
    "samples_tr = torch.tensor((1-samples)/2).to(torch.long)\n",
    "settings = np.load(fname_settings)"
   ]
  },
  {
   "cell_type": "code",
   "execution_count": 6,
   "metadata": {
    "collapsed": true
   },
   "outputs": [],
   "source": [
    "theta = torch.tensor(settings[...,0],dtype=torch.float32)\n",
    "phi = torch.tensor(settings[...,1],dtype=torch.float32)"
   ]
  },
  {
   "cell_type": "code",
   "execution_count": 7,
   "metadata": {
    "collapsed": true
   },
   "outputs": [],
   "source": [
    "from qtools import pauli_exp"
   ]
  },
  {
   "cell_type": "code",
   "execution_count": 8,
   "metadata": {
    "collapsed": true
   },
   "outputs": [],
   "source": [
    "U = pauli_exp(theta, phi)\n",
    "rotations_real = U.real\n",
    "rotations_imag = U.imag"
   ]
  },
  {
   "cell_type": "code",
   "execution_count": 9,
   "metadata": {
    "collapsed": true
   },
   "outputs": [],
   "source": [
    "from torch.utils.data import TensorDataset, DataLoader"
   ]
  },
  {
   "cell_type": "code",
   "execution_count": 10,
   "metadata": {
    "collapsed": true
   },
   "outputs": [],
   "source": [
    "from models import MeasurementDataset, ComplexTensor"
   ]
  },
  {
   "cell_type": "code",
   "execution_count": 11,
   "metadata": {
    "collapsed": true
   },
   "outputs": [],
   "source": [
    "ds = MeasurementDataset(samples=samples_tr,rotations=U)"
   ]
  },
  {
   "cell_type": "code",
   "execution_count": 12,
   "metadata": {
    "collapsed": true
   },
   "outputs": [],
   "source": [
    "batch_size = 256\n",
    "lr = .001"
   ]
  },
  {
   "cell_type": "code",
   "execution_count": 13,
   "metadata": {
    "collapsed": true
   },
   "outputs": [],
   "source": [
    "dl = DataLoader(ds, batch_size=batch_size, shuffle=True)"
   ]
  },
  {
   "cell_type": "code",
   "execution_count": 14,
   "metadata": {
    "collapsed": true
   },
   "outputs": [],
   "source": [
    "losses = []"
   ]
  },
  {
   "cell_type": "markdown",
   "metadata": {},
   "source": [
    "Number of epochs of training"
   ]
  },
  {
   "cell_type": "code",
   "execution_count": 15,
   "metadata": {
    "collapsed": true
   },
   "outputs": [],
   "source": [
    "eps = 3"
   ]
  },
  {
   "cell_type": "code",
   "execution_count": 16,
   "metadata": {
    "collapsed": true
   },
   "outputs": [],
   "source": [
    "nstep=1"
   ]
  },
  {
   "cell_type": "code",
   "execution_count": 17,
   "metadata": {
    "collapsed": true
   },
   "outputs": [],
   "source": [
    "max_sv = None\n",
    "cutoff=1e-10"
   ]
  },
  {
   "cell_type": "code",
   "execution_count": 18,
   "metadata": {
    "collapsed": true
   },
   "outputs": [],
   "source": [
    "amp1 = []\n",
    "amp2 = []"
   ]
  },
  {
   "cell_type": "code",
   "execution_count": 19,
   "metadata": {
    "collapsed": true
   },
   "outputs": [],
   "source": [
    "s2_schedule = np.linspace(.1, 0, eps * len(dl))"
   ]
  },
  {
   "cell_type": "code",
   "execution_count": 20,
   "metadata": {},
   "outputs": [
    {
     "name": "stdout",
     "output_type": "stream",
     "text": [
      "finished epoch 0\n",
      "finished epoch 1\n",
      "finished epoch 2\n"
     ]
    }
   ],
   "source": [
    "for ep in range(eps):\n",
    "    for step, inputs in enumerate(dl):\n",
    "        #get torch tensors representing measurement outcomes, and corresponding local unitaries\n",
    "        spinconfig = inputs['samples']\n",
    "        rot = inputs['rotations']\n",
    "        rotations = ComplexTensor(rot['real'], rot['imag'])\n",
    "        \n",
    "        s2_penalty = s2_schedule[ep*len(dl) + step]\n",
    "        #forward sweep across the chain\n",
    "        for i in range(L-1):\n",
    "            for __ in range(nstep):\n",
    "                psi.do_sgd_step(i, spinconfig,\n",
    "                                        rotation=rotations,cutoff=cutoff,normalize='left',max_sv_to_keep=max_sv, \n",
    "                                       learning_rate=lr, s2_penalty=s2_penalty)   \n",
    "        for i in range(L-2, -1,-1):\n",
    "            for __ in range(nstep):\n",
    "                psi.do_sgd_step(i, spinconfig,\n",
    "                                        rotation=rotations,cutoff=cutoff,normalize='right',max_sv_to_keep=max_sv, \n",
    "                                       learning_rate=lr, s2_penalty=s2_penalty)   \n",
    "        with torch.no_grad():\n",
    "            losses.append(psi.nll_loss(spinconfig,rotation=rotations))\n",
    "            \n",
    "        #check the relative phase between the two relevant basis states\n",
    "        s1 = torch.tensor([1,0]* (L//2),dtype=torch.long)\n",
    "        s2 = torch.tensor([0,1] * (L//2),dtype=torch.long)\n",
    "        a1 = psi.amplitude_normalized(s1).numpy().item()\n",
    "        a2 = psi.amplitude_normalized(s2).numpy().item()\n",
    "        amp1.append(a1)\n",
    "        amp2.append(a2)\n",
    "        \n",
    "        \n",
    "    print(\"finished epoch %d\" % ep)\n",
    "\n",
    "        "
   ]
  },
  {
   "cell_type": "code",
   "execution_count": 21,
   "metadata": {
    "collapsed": true
   },
   "outputs": [],
   "source": [
    "import matplotlib.pyplot as plt"
   ]
  },
  {
   "cell_type": "code",
   "execution_count": 22,
   "metadata": {},
   "outputs": [
    {
     "data": {
      "text/plain": [
       "[<matplotlib.lines.Line2D at 0x1a1b7f8668>]"
      ]
     },
     "execution_count": 22,
     "metadata": {},
     "output_type": "execute_result"
    },
    {
     "data": {
      "image/png": "[encoded data removed]",
      "text/plain": [
       "<matplotlib.figure.Figure at 0x1a1a533780>"
      ]
     },
     "metadata": {},
     "output_type": "display_data"
    }
   ],
   "source": [
    "%matplotlib inline\n",
    "plt.plot(losses)"
   ]
  },
  {
   "cell_type": "code",
   "execution_count": 23,
   "metadata": {
    "collapsed": true
   },
   "outputs": [],
   "source": [
    "amp1 = np.asarray(amp1)\n",
    "amp2 = np.asarray(amp2)\n",
    "phi1 = np.angle(amp1,deg=True)\n",
    "phi2 = np.angle(amp2,deg=True)\n",
    "dphi = phi1-phi2"
   ]
  },
  {
   "cell_type": "code",
   "execution_count": 24,
   "metadata": {},
   "outputs": [
    {
     "data": {
      "text/plain": [
       "[<matplotlib.lines.Line2D at 0x1a1b317fd0>]"
      ]
     },
     "execution_count": 24,
     "metadata": {},
     "output_type": "execute_result"
    },
    {
     "data": {
      "image/png": "[encoded data removed]",
      "text/plain": [
       "<matplotlib.figure.Figure at 0x1a1b79d710>"
      ]
     },
     "metadata": {},
     "output_type": "display_data"
    }
   ],
   "source": [
    "fig, ax = plt.subplots()\n",
    "plt.plot(np.abs(amp1)**2, label=\"10\")\n",
    "plt.plot(np.abs(amp2)**2, label=\"01\")"
   ]
  },
  {
   "cell_type": "code",
   "execution_count": 25,
   "metadata": {},
   "outputs": [
    {
     "data": {
      "text/plain": [
       "[<matplotlib.lines.Line2D at 0x1a1b79fbe0>]"
      ]
     },
     "execution_count": 25,
     "metadata": {},
     "output_type": "execute_result"
    },
    {
     "data": {
      "image/png": "[encoded data removed]",
      "text/plain": [
       "<matplotlib.figure.Figure at 0x1a1b79f668>"
      ]
     },
     "metadata": {},
     "output_type": "display_data"
    }
   ],
   "source": [
    "fig, ax = plt.subplots()\n",
    "plt.plot(dphi)"
   ]
  },
  {
   "cell_type": "code",
   "execution_count": 26,
   "metadata": {
    "collapsed": true
   },
   "outputs": [],
   "source": [
    "from tools import generate_binary_space"
   ]
  },
  {
   "cell_type": "code",
   "execution_count": 27,
   "metadata": {
    "collapsed": true
   },
   "outputs": [],
   "source": [
    "basis = torch.tensor(generate_binary_space(L),dtype=torch.long)"
   ]
  },
  {
   "cell_type": "code",
   "execution_count": 28,
   "metadata": {},
   "outputs": [
    {
     "name": "stdout",
     "output_type": "stream",
     "text": [
      "tensor([1, 1, 1, 1]) has probability 0.0191\n",
      "tensor([1, 1, 1, 0]) has probability 0.0000\n",
      "tensor([1, 1, 0, 1]) has probability 0.0000\n",
      "tensor([1, 1, 0, 0]) has probability 0.0187\n",
      "tensor([1, 0, 1, 1]) has probability 0.0000\n",
      "tensor([1, 0, 1, 0]) has probability 0.4427\n",
      "tensor([1, 0, 0, 1]) has probability 0.0193\n",
      "tensor([1, 0, 0, 0]) has probability 0.0000\n",
      "tensor([0, 1, 1, 1]) has probability 0.0000\n",
      "tensor([0, 1, 1, 0]) has probability 0.0193\n",
      "tensor([0, 1, 0, 1]) has probability 0.4442\n",
      "tensor([0, 1, 0, 0]) has probability 0.0000\n",
      "tensor([0, 0, 1, 1]) has probability 0.0181\n",
      "tensor([0, 0, 1, 0]) has probability 0.0000\n",
      "tensor([0, 0, 0, 1]) has probability 0.0000\n",
      "tensor([0, 0, 0, 0]) has probability 0.0185\n"
     ]
    }
   ],
   "source": [
    "with torch.no_grad():\n",
    "    for i in range(len(basis)):\n",
    "        print(\"{0} has probability {1:.4f}\".format(basis[i], psi.prob_normalized(basis[i]).item()))"
   ]
  },
  {
   "cell_type": "code",
   "execution_count": 29,
   "metadata": {},
   "outputs": [
    {
     "name": "stdout",
     "output_type": "stream",
     "text": [
      "tensor([1, 1, 1, 1]) has amplitude 0.0575 + i-0.1256\n",
      "tensor([1, 1, 1, 0]) has amplitude 0.0014 + i0.0033\n",
      "tensor([1, 1, 0, 1]) has amplitude 0.0038 + i0.0022\n",
      "tensor([1, 1, 0, 0]) has amplitude 0.0596 + i-0.1232\n",
      "tensor([1, 0, 1, 1]) has amplitude -0.0010 + i0.0001\n",
      "tensor([1, 0, 1, 0]) has amplitude 0.4894 + i0.4507\n",
      "tensor([1, 0, 0, 1]) has amplitude 0.0640 + i-0.1235\n",
      "tensor([1, 0, 0, 0]) has amplitude 0.0010 + i-0.0027\n",
      "tensor([0, 1, 1, 1]) has amplitude 0.0044 + i-0.0011\n",
      "tensor([0, 1, 1, 0]) has amplitude -0.0607 + i0.1250\n",
      "tensor([0, 1, 0, 1]) has amplitude 0.6581 + i0.1057\n",
      "tensor([0, 1, 0, 0]) has amplitude -0.0010 + i0.0039\n",
      "tensor([0, 0, 1, 1]) has amplitude -0.0600 + i0.1203\n",
      "tensor([0, 0, 1, 0]) has amplitude 0.0011 + i-0.0016\n",
      "tensor([0, 0, 0, 1]) has amplitude -0.0022 + i0.0000\n",
      "tensor([0, 0, 0, 0]) has amplitude -0.0535 + i0.1250\n"
     ]
    }
   ],
   "source": [
    "with torch.no_grad():\n",
    "    for i in range(len(basis)):\n",
    "        a = psi.amplitude_normalized(basis[i])\n",
    "        print(\"{0} has amplitude {1:.4f} + i{2:.4f}\".format(basis[i], a.real.item(), a.imag.item()))"
   ]
  },
  {
   "cell_type": "code",
   "execution_count": 30,
   "metadata": {},
   "outputs": [],
   "source": [
    "a1 = psi.amplitude_normalized(torch.tensor([1,0,1,0])).numpy().item()\n",
    "a2 = psi.amplitude_normalized(torch.tensor([0,1,0,1])).numpy().item()"
   ]
  },
  {
   "cell_type": "code",
   "execution_count": 31,
   "metadata": {},
   "outputs": [],
   "source": [
    "phi1=np.angle(a1, deg=True)"
   ]
  },
  {
   "cell_type": "code",
   "execution_count": 32,
   "metadata": {},
   "outputs": [],
   "source": [
    "phi2=np.angle(a2, deg=True)"
   ]
  }
 ],
 "metadata": {
  "kernelspec": {
   "display_name": "Python 3",
   "language": "python",
   "name": "python3"
  },
  "language_info": {
   "codemirror_mode": {
    "name": "ipython",
    "version": 3
   },
   "file_extension": ".py",
   "mimetype": "text/x-python",
   "name": "python",
   "nbconvert_exporter": "python",
   "pygments_lexer": "ipython3",
   "version": "3.5.4"
  }
 },
 "nbformat": 4,
 "nbformat_minor": 2
}
