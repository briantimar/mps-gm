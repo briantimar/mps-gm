{
 "cells": [
  {
   "cell_type": "code",
   "execution_count": 1,
   "metadata": {
    "collapsed": true
   },
   "outputs": [],
   "source": [
    "import numpy as np\n",
    "import torch"
   ]
  },
  {
   "cell_type": "code",
   "execution_count": 2,
   "metadata": {
    "collapsed": true
   },
   "outputs": [],
   "source": [
    "from models import MPS, ComplexTensor"
   ]
  },
  {
   "cell_type": "code",
   "execution_count": 3,
   "metadata": {
    "collapsed": true
   },
   "outputs": [],
   "source": [
    "L=4\n",
    "local_dim=2\n",
    "bond_dim=2"
   ]
  },
  {
   "cell_type": "code",
   "execution_count": 4,
   "metadata": {
    "collapsed": true
   },
   "outputs": [],
   "source": [
    "psi = MPS(L=L, local_dim=local_dim, bond_dim=bond_dim)"
   ]
  },
  {
   "cell_type": "code",
   "execution_count": 5,
   "metadata": {
    "collapsed": true
   },
   "outputs": [],
   "source": [
    "# fname_settings=\"datasets/settings_prod_state_spinup_L=%d.npy\" %L\n",
    "# fname_samples=\"datasets/samples_prod_state_spinup_L=%d.npy\"%L\n",
    "fname_settings = \"settings_ghz_plus_all_discrete_bases_angles_L=%d.npy\"%L\n",
    "fname_samples = \"samples_ghz_plus_all_discrete_bases_angles_L=%d.npy\"%L\n",
    "samples = np.load(fname_samples)\n",
    "samples_tr = torch.tensor((1-samples)/2).to(torch.long)\n",
    "settings = np.load(fname_settings)"
   ]
  },
  {
   "cell_type": "code",
   "execution_count": 6,
   "metadata": {
    "collapsed": true
   },
   "outputs": [],
   "source": [
    "theta = torch.tensor(settings[...,0],dtype=torch.float32)\n",
    "phi = torch.tensor(settings[...,1],dtype=torch.float32)"
   ]
  },
  {
   "cell_type": "code",
   "execution_count": 7,
   "metadata": {
    "collapsed": true
   },
   "outputs": [],
   "source": [
    "from qtools import pauli_exp"
   ]
  },
  {
   "cell_type": "code",
   "execution_count": 8,
   "metadata": {
    "collapsed": true
   },
   "outputs": [],
   "source": [
    "U = pauli_exp(theta, phi)\n",
    "rotations_real = U.real\n",
    "rotations_imag = U.imag"
   ]
  },
  {
   "cell_type": "code",
   "execution_count": 9,
   "metadata": {
    "collapsed": true
   },
   "outputs": [],
   "source": [
    "from torch.utils.data import TensorDataset, DataLoader"
   ]
  },
  {
   "cell_type": "code",
   "execution_count": 10,
   "metadata": {
    "collapsed": true
   },
   "outputs": [],
   "source": [
    "from models import MeasurementDataset, ComplexTensor"
   ]
  },
  {
   "cell_type": "code",
   "execution_count": 11,
   "metadata": {
    "collapsed": true
   },
   "outputs": [],
   "source": [
    "ds = MeasurementDataset(samples=samples_tr,rotations=U)"
   ]
  },
  {
   "cell_type": "code",
   "execution_count": 12,
   "metadata": {
    "collapsed": true
   },
   "outputs": [],
   "source": [
    "batch_size = 256\n",
    "lr = .001"
   ]
  },
  {
   "cell_type": "code",
   "execution_count": 13,
   "metadata": {
    "collapsed": true
   },
   "outputs": [],
   "source": [
    "dl = DataLoader(ds, batch_size=batch_size, shuffle=True)"
   ]
  },
  {
   "cell_type": "code",
   "execution_count": 14,
   "metadata": {
    "collapsed": true
   },
   "outputs": [],
   "source": [
    "losses = []"
   ]
  },
  {
   "cell_type": "code",
   "execution_count": 15,
   "metadata": {
    "collapsed": true
   },
   "outputs": [],
   "source": [
    "eps = 5"
   ]
  },
  {
   "cell_type": "code",
   "execution_count": 16,
   "metadata": {
    "collapsed": true
   },
   "outputs": [],
   "source": [
    "def sgd_step_at_site(mps, site_index, spin_config,\n",
    "                         rotation=None, cutoff=1e-10, normalize='left', \n",
    "                        max_sv_to_keep=None):\n",
    "    \"\"\"Perform SGD step WRT two-site blob with left index at the site specified\"\"\"\n",
    "    psi.gauge_to(site_index)\n",
    "    #two-site blob matrix at the site\n",
    "    A = psi.merge(i).numpy()\n",
    "    #gradient of the log-prob WRT that complex matrix\n",
    "    #note that A has to updated from the conjugate!\n",
    "    g=psi.grad_twosite_logprob(i, spin_config,rotation=rotation).numpy().conj()\n",
    "    #perform gradient descent step, insert back into MPS\n",
    "    A = A - 2 * lr * g\n",
    "    psi.set_sites_from_twosite(i, A,cutoff=cutoff,normalize=normalize, max_sv_to_keep=max_sv_to_keep)\n",
    "   "
   ]
  },
  {
   "cell_type": "code",
   "execution_count": 17,
   "metadata": {
    "collapsed": true
   },
   "outputs": [],
   "source": [
    "nstep=1"
   ]
  },
  {
   "cell_type": "code",
   "execution_count": 18,
   "metadata": {
    "collapsed": true
   },
   "outputs": [],
   "source": [
    "max_sv = None\n",
    "cutoff=1e-10"
   ]
  },
  {
   "cell_type": "code",
   "execution_count": 19,
   "metadata": {},
   "outputs": [
    {
     "name": "stdout",
     "output_type": "stream",
     "text": [
      "finished epoch 0\n",
      "finished epoch 1\n",
      "finished epoch 2\n",
      "finished epoch 3\n",
      "finished epoch 4\n"
     ]
    }
   ],
   "source": [
    "for ep in range(eps):\n",
    "    for step, inputs in enumerate(dl):\n",
    "        spinconfig = inputs['samples']\n",
    "        rot = inputs['rotations']\n",
    "        rotations = ComplexTensor(rot['real'], rot['imag'])\n",
    "        for i in range(L-1):\n",
    "            for __ in range(nstep):\n",
    "                sgd_step_at_site(psi, i, spinconfig,\n",
    "                                        rotation=rotations,cutoff=cutoff,normalize='left',max_sv_to_keep=max_sv)   \n",
    "        for i in range(L-2, -1,-1):\n",
    "            for __ in range(nstep):\n",
    "                sgd_step_at_site(psi, i, spinconfig,\n",
    "                                     rotation=rotations, cutoff=cutoff,normalize='right',max_sv_to_keep=max_sv)\n",
    "        with torch.no_grad():\n",
    "            losses.append(psi.nll_loss(spinconfig,rotation=rotations))\n",
    "    print(\"finished epoch %d\" % ep)\n",
    "\n",
    "        "
   ]
  },
  {
   "cell_type": "code",
   "execution_count": 26,
   "metadata": {
    "collapsed": true
   },
   "outputs": [],
   "source": [
    "import matplotlib.pyplot as plt"
   ]
  },
  {
   "cell_type": "code",
   "execution_count": 27,
   "metadata": {},
   "outputs": [
    {
     "data": {
      "text/plain": [
       "[<matplotlib.lines.Line2D at 0x1a1b78a5c0>]"
      ]
     },
     "execution_count": 27,
     "metadata": {},
     "output_type": "execute_result"
    },
    {
     "data": {
      "image/png": "[encoded data removed]",
      "text/plain": [
       "<matplotlib.figure.Figure at 0x1a1a5080f0>"
      ]
     },
     "metadata": {},
     "output_type": "display_data"
    }
   ],
   "source": [
    "%matplotlib inline\n",
    "plt.plot(losses)"
   ]
  },
  {
   "cell_type": "code",
   "execution_count": 28,
   "metadata": {},
   "outputs": [
    {
     "name": "stdout",
     "output_type": "stream",
     "text": [
      "[(1, 2), (2, 4), (4, 2), (2, 1)]\n"
     ]
    }
   ],
   "source": [
    "print(psi.shape)"
   ]
  },
  {
   "cell_type": "code",
   "execution_count": 29,
   "metadata": {
    "collapsed": true
   },
   "outputs": [],
   "source": [
    "from tools import generate_binary_space"
   ]
  },
  {
   "cell_type": "code",
   "execution_count": 30,
   "metadata": {
    "collapsed": true
   },
   "outputs": [],
   "source": [
    "basis = torch.tensor(generate_binary_space(L),dtype=torch.long)"
   ]
  },
  {
   "cell_type": "code",
   "execution_count": 31,
   "metadata": {},
   "outputs": [
    {
     "name": "stdout",
     "output_type": "stream",
     "text": [
      "tensor([1, 1, 1, 1]) has probability 0.0093\n",
      "tensor([1, 1, 1, 0]) has probability 0.0113\n",
      "tensor([1, 1, 0, 1]) has probability 0.0488\n",
      "tensor([1, 1, 0, 0]) has probability 0.0303\n",
      "tensor([1, 0, 1, 1]) has probability 0.0486\n",
      "tensor([1, 0, 1, 0]) has probability 0.3284\n",
      "tensor([1, 0, 0, 1]) has probability 0.0094\n",
      "tensor([1, 0, 0, 0]) has probability 0.0122\n",
      "tensor([0, 1, 1, 1]) has probability 0.0107\n",
      "tensor([0, 1, 1, 0]) has probability 0.0093\n",
      "tensor([0, 1, 0, 1]) has probability 0.3327\n",
      "tensor([0, 1, 0, 0]) has probability 0.0488\n",
      "tensor([0, 0, 1, 1]) has probability 0.0310\n",
      "tensor([0, 0, 1, 0]) has probability 0.0490\n",
      "tensor([0, 0, 0, 1]) has probability 0.0114\n",
      "tensor([0, 0, 0, 0]) has probability 0.0087\n"
     ]
    }
   ],
   "source": [
    "with torch.no_grad():\n",
    "    for i in range(len(basis)):\n",
    "        print(\"{0} has probability {1:.4f}\".format(basis[i], psi.prob_normalized(basis[i]).item()))"
   ]
  },
  {
   "cell_type": "code",
   "execution_count": null,
   "metadata": {
    "collapsed": true
   },
   "outputs": [],
   "source": []
  }
 ],
 "metadata": {
  "kernelspec": {
   "display_name": "Python 3",
   "language": "python",
   "name": "python3"
  },
  "language_info": {
   "codemirror_mode": {
    "name": "ipython",
    "version": 3
   },
   "file_extension": ".py",
   "mimetype": "text/x-python",
   "name": "python",
   "nbconvert_exporter": "python",
   "pygments_lexer": "ipython3",
   "version": "3.5.4"
  }
 },
 "nbformat": 4,
 "nbformat_minor": 2
}
